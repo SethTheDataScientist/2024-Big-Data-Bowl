{
 "cells": [
  {
   "cell_type": "markdown",
   "metadata": {},
   "source": [
    "### Importing"
   ]
  },
  {
   "cell_type": "code",
   "execution_count": 1,
   "metadata": {},
   "outputs": [],
   "source": [
    "import os\n",
    "import glob\n",
    "import pandas as pd\n",
    "import numpy as np\n",
    "np.random.seed(42)\n",
    "import random\n",
    "import matplotlib.pyplot as plt\n",
    "from sklearn import metrics\n",
    "from sklearn.linear_model import LinearRegression\n",
    "from sklearn.preprocessing import StandardScaler\n",
    "from sklearn.model_selection import GridSearchCV\n",
    "import xgboost as xgb\n",
    "from xgboost import plot_importance\n",
    "from scipy.stats import multivariate_normal\n",
    "import scipy.stats as stats\n",
    "import scipy\n",
    "import math\n",
    "from scipy.spatial import Voronoi, voronoi_plot_2d"
   ]
  },
  {
   "cell_type": "markdown",
   "metadata": {},
   "source": [
    "### Data Importing"
   ]
  },
  {
   "cell_type": "code",
   "execution_count": 2,
   "metadata": {},
   "outputs": [],
   "source": [
    "# Specify the relative path to the data directory\n",
    "#data_folder_path = \"C:/Users/sethl/OneDrive/Important Stuff/R/R files/NFL/DataBowl/2024-Big-Data-Bowl/Data\"\n",
    "non_games_data_folder_path = \"C:/Users/sethl/OneDrive/Important Stuff/R/R files/NFL/DataBowl/2024-Big-Data-Bowl/Non_Games_Data\"\n",
    "\n",
    "# List all files in the data folder\n",
    "#file_list = os.listdir(data_folder_path)\n",
    "file_list_non_games = os.listdir(non_games_data_folder_path)\n",
    "\n",
    "# Use glob to filter specific file types\n",
    "#csv_files = glob.glob(os.path.join(data_folder_path, \"*.csv\"))\n",
    "csv_files_non_games = glob.glob(os.path.join(non_games_data_folder_path, \"*.csv\"))\n",
    "\n",
    "# Read in the weekly game data and concat into one combined df\n",
    "#dfs = [pd.read_csv(file) for file in csv_files]\n",
    "#combined_df = pd.concat(dfs, ignore_index=True)\n",
    "\n",
    "# Read in the supplementary data\n",
    "games = pd.read_csv(csv_files_non_games[0])\n",
    "nfl_colors = pd.read_csv(csv_files_non_games[1])\n",
    "players = pd.read_csv(csv_files_non_games[2])\n",
    "plays = pd.read_csv(csv_files_non_games[3])\n",
    "tackles = pd.read_csv(csv_files_non_games[4])"
   ]
  },
  {
   "cell_type": "markdown",
   "metadata": {},
   "source": [
    "### ModelingDF"
   ]
  },
  {
   "cell_type": "code",
   "execution_count": 3,
   "metadata": {},
   "outputs": [
    {
     "name": "stderr",
     "output_type": "stream",
     "text": [
      "C:\\Users\\sethl\\AppData\\Local\\Temp\\ipykernel_19132\\1690626378.py:1: DtypeWarning: Columns (45,61,62) have mixed types. Specify dtype option on import or set low_memory=False.\n",
      "  ModelingDF = pd.read_csv(\"C:/Users/sethl/OneDrive/Important Stuff/R/R files/NFL/DataBowl/2024-Big-Data-Bowl/Created_DF/WorkDF.csv\")\n"
     ]
    }
   ],
   "source": [
    "ModelingDF = pd.read_csv(\"C:/Users/sethl/OneDrive/Important Stuff/R/R files/NFL/DataBowl/2024-Big-Data-Bowl/Created_DF/WorkDF.csv\")"
   ]
  },
  {
   "cell_type": "markdown",
   "metadata": {},
   "source": [
    "### Voronoi Tesselations"
   ]
  },
  {
   "cell_type": "code",
   "execution_count": null,
   "metadata": {},
   "outputs": [],
   "source": [
    "\n",
    "def custom_scaling_factor(value):\n",
    "    if value == 0:\n",
    "        return 0\n",
    "    elif 1 <= value <= 6:\n",
    "        return np.exp(value - 6)\n",
    "    elif value > 6:\n",
    "        return np.log(value + 1) / np.log(6)\n",
    "\n",
    "def count_matching_rows(df):\n",
    "    counts = []\n",
    "    target = 7.5\n",
    "\n",
    "    for index, row in df.iterrows():\n",
    "        if row[\"distanceFromBall\"] <= target:\n",
    "            counts.append(1)\n",
    "        else:\n",
    "            counts.append(0)\n",
    "    return sum(counts) \n",
    "\n",
    "def Calculate_Gravity(playerCoordinates = []):    \n",
    "    \n",
    "    playerCoordinates[\"UniqueIndex\"] = playerCoordinates[\"gameId\"].astype(str) + \"-\" + playerCoordinates['playId'].astype(str) + \"-\" + playerCoordinates['frameId'].astype(str)\n",
    "\n",
    "    TotalGravity = pd.DataFrame()\n",
    "\n",
    "    unique_frames = playerCoordinates['UniqueIndex'].unique()\n",
    "\n",
    "    output_df = pd.DataFrame()\n",
    "\n",
    "    for frame in unique_frames:\n",
    "\n",
    "        frame_data = playerCoordinates[playerCoordinates[\"UniqueIndex\"] == frame]\n",
    "\n",
    "        frame_data = frame_data[(frame_data[\"club\"] == frame_data['defensiveTeam']) |\n",
    "                                            (frame_data[\"GotTheBall\"] == 1)]\n",
    "        \n",
    "        frame_data.sort_values(by=['gameId', 'playId', 'nflId', 'frameId'], inplace=True)\n",
    "        \n",
    "        xCoordinateBall=frame_data.loc[(frame_data[\"GotTheBall\"] == 1)]['x'].unique()[0]\n",
    "        yCoordinateBall=frame_data.loc[(frame_data[\"GotTheBall\"] == 1)]['y'].unique()[0]\n",
    "        frame_data['distanceFromBall']=((frame_data['x']-xCoordinateBall)**2 + \\\n",
    "                                         (frame_data['y']-yCoordinateBall)**2)**(1/2)\n",
    "        \n",
    "\n",
    "        bounding_lowerL = {'x' : min(frame_data['x'].min() - 1, 0),\n",
    "                            'y' : min(frame_data['y'].min() - 1, 0)} \n",
    "        bounding_upperL = {'x' : max(frame_data['x'].max() + 1, 120),\n",
    "                            'y' : max(frame_data['y'].max() + 1, 53.3)}\n",
    "        bounding_lowerR = {'x' : min(frame_data['x'].min() - 1, 0),\n",
    "                            'y' : max(frame_data['y'].max() + 1, 53.3)}\n",
    "        bounding_upperR = {'x' : max(frame_data['x'].max() + 1, 120),\n",
    "                            'y' : min(frame_data['y'].min() - 1, 0)}\n",
    "\n",
    "        bounding_lowerL = pd.DataFrame([bounding_lowerL])\n",
    "        bounding_upperL = pd.DataFrame([bounding_upperL])\n",
    "        bounding_lowerR = pd.DataFrame([bounding_lowerR])\n",
    "        bounding_upperR = pd.DataFrame([bounding_upperR])\n",
    "\n",
    "\n",
    "        frame_data = pd.concat([frame_data, bounding_lowerL], ignore_index=True)\n",
    "        frame_data = pd.concat([frame_data, bounding_upperL], ignore_index=True)\n",
    "        frame_data = pd.concat([frame_data, bounding_lowerR], ignore_index=True)\n",
    "        frame_data = pd.concat([frame_data, bounding_upperR], ignore_index=True)\n",
    "\n",
    "        frame_data[\"DefendersWithin\"] = count_matching_rows(frame_data)\n",
    "\n",
    "        points = frame_data[['x', 'y']].dropna().values\n",
    "\n",
    "        # Create a Voronoi diagram\n",
    "        vor = Voronoi(points)\n",
    "\n",
    "        # Iterate through the input points\n",
    "        for i, point in enumerate(points):\n",
    "            # Find the Voronoi region index for the current point\n",
    "            region_index = vor.point_region[i]\n",
    "            \n",
    "            # Get the vertices of the region\n",
    "            region_vertices = vor.regions[region_index]\n",
    "            \n",
    "            # Filter out invalid vertices\n",
    "            region_vertices = [vertex for vertex in region_vertices if vertex != -1]\n",
    "            \n",
    "            if len(region_vertices) > 0:\n",
    "                # Get the vertices of the region\n",
    "                vertices = vor.vertices[region_vertices]\n",
    "                \n",
    "                # Calculate the area using the Shoelace formula\n",
    "                area = 0.5 * np.abs(np.dot(vertices[:, 0], np.roll(vertices[:, 1], 1)) -\n",
    "                                np.dot(vertices[:, 1], np.roll(vertices[:, 0], 1)))\n",
    "                \n",
    "                # Store the area in the 'area' column of VOR_df for the current point\n",
    "                frame_data.at[i, 'area'] = area\n",
    "\n",
    "            closest_frame_df = frame_data[(frame_data[\"distanceFromBall\"] <= 10) &\n",
    "                                 (frame_data[\"club\"] == frame_data[\"defensiveTeam\"])][[\"gameId\", \"playId\", \"frameId\", \"nflId\"]]\n",
    "\n",
    "\n",
    "        TotalGravity = pd.concat([TotalGravity, frame_data], ignore_index=True) \n",
    "\n",
    "        TotalGravity.dropna(subset = [\"gameId\"], inplace = True)\n",
    "\n",
    "        output_df = pd.concat([output_df, closest_frame_df], ignore_index=True) \n",
    "\n",
    "\n",
    "        TotalGravity = TotalGravity[TotalGravity[\"GotTheBall\"] == 1]\n",
    "\n",
    "        TotalGravity[\"ScalingFactor\"] = TotalGravity[\"DefendersWithin\"].apply(custom_scaling_factor)\n",
    "\n",
    "        TotalGravity['adjusted_change'] = TotalGravity['area'] * TotalGravity[\"PercentRankA\"] * \\\n",
    "                                            TotalGravity[\"ScalingFactor\"]\n",
    "\n",
    "    return (TotalGravity, output_df)\n",
    "\n",
    "WorkDF_data_folder_path = \"C:/Users/sethl/OneDrive/Important Stuff/R/R files/NFL/DataBowl/2024-Big-Data-Bowl/Created_DF/WorkDF\"\n",
    "\n",
    "# List all files in the data folder\n",
    "WorkDF_file_list = os.listdir(WorkDF_data_folder_path)\n",
    "\n",
    "# Use glob to filter specific file types\n",
    "WorkDF_csv_files = glob.glob(os.path.join(WorkDF_data_folder_path, \"*.csv\"))\n",
    "\n",
    "\n",
    "for game in WorkDF_csv_files:\n",
    "    # Your code to process the chunk\n",
    "    VOR_df = pd.read_csv(game)\n",
    "\n",
    "    gameName = VOR_df[\"gameId\"].unique()\n",
    "\n",
    "    VOR_df_output, closest_df = Calculate_Gravity(VOR_df)    \n",
    "\n",
    "    vor_filepath = \"C:/Users/sethl/OneDrive/Important Stuff/R/R files/NFL/DataBowl/2024-Big-Data-Bowl/VoronoiChunks/\"\n",
    "\n",
    "    vor_filename = f\"VoronoiChunk{gameName}.csv\"\n",
    "    \n",
    "    # Save the processed chunk to a specific location\n",
    "    VOR_df_output.to_csv(f\"{vor_filepath}{vor_filename}\", index=False)\n",
    "\n",
    "    \n",
    "    closest_filepath = \"C:/Users/sethl/OneDrive/Important Stuff/R/R files/NFL/DataBowl/2024-Big-Data-Bowl/ClosestChunks/\"\n",
    "\n",
    "    closest_filename = f\"ClosestChunk{gameName}.csv\"\n",
    "    \n",
    "    # Save the processed chunk to a specific location\n",
    "    closest_df.to_csv(f\"{closest_filepath}{closest_filename}\", index=False)\n",
    "\n",
    "    del VOR_df\n"
   ]
  },
  {
   "cell_type": "code",
   "execution_count": null,
   "metadata": {},
   "outputs": [],
   "source": [
    "vor_filepath = \"C:/Users/sethl/OneDrive/Important Stuff/R/R files/NFL/DataBowl/2024-Big-Data-Bowl/VoronoiChunks\"\n",
    "\n",
    "# List all files in the data folder\n",
    "vor_file_list = os.listdir(vor_filepath)\n",
    "\n",
    "# Use glob to filter specific file types\n",
    "vor_csv_files = glob.glob(os.path.join(vor_filepath, \"*.csv\"))\n",
    "\n",
    "# Read in the weekly game data and concat into one combined df\n",
    "vor_dfs = [pd.read_csv(file) for file in vor_csv_files]\n",
    "VOR_df_output = pd.concat(vor_dfs, ignore_index=True)\n"
   ]
  },
  {
   "cell_type": "code",
   "execution_count": null,
   "metadata": {},
   "outputs": [],
   "source": [
    "print(VOR_df_output[\"distanceFromBall\"].mean())\n",
    "print(VOR_df_output[\"area\"].mean())\n",
    "print(VOR_df_output[\"adjusted_change\"].mean())\n",
    "print(VOR_df_output[\"DefendersWithin\"].mean())"
   ]
  },
  {
   "cell_type": "code",
   "execution_count": null,
   "metadata": {},
   "outputs": [],
   "source": [
    "Min_Play_Count = 15\n",
    "\n",
    "ExtraWork = VOR_df_output.copy()\n",
    "\n",
    "# Group by 'nflId' and count the unique 'frameId' values in each group\n",
    "play_counts = ExtraWork.groupby('nflId')['playId'].nunique()\n",
    "\n",
    "# Create a new column 'TotalPlays' in the original DataFrame\n",
    "ExtraWork['TotalPlays'] = ExtraWork['nflId'].map(play_counts)\n",
    "ExtraWork = ExtraWork[ExtraWork[\"TotalPlays\"] >= Min_Play_Count]\n",
    "\n",
    "Summarized = pd.DataFrame()\n",
    "Summarized[\"MeanPlay\"] = ExtraWork.groupby([\"nflId\"])[\"adjusted_change\"].mean()\n",
    "Summarized[\"MeanDefenders\"] = ExtraWork.groupby([\"nflId\"])[\"DefendersWithin\"].mean()\n",
    "Summarized = Summarized.drop_duplicates()\n",
    "Summarized.reset_index(inplace=True)\n",
    "\n",
    "Summarized = Summarized.sort_values(by=['MeanPlay'], ascending = False)\n",
    "\n",
    "player_name = players[[\"nflId\", \"position\", \"displayName\"]]\n",
    "\n",
    "Summarized = pd.merge(Summarized, player_name, on = \"nflId\")\n",
    "\n",
    "TotalPlays = ExtraWork[[\"nflId\", \"club\", \"TotalPlays\"]].drop_duplicates()\n",
    "\n",
    "Summarized = pd.merge(Summarized, TotalPlays, on = \"nflId\")\n",
    "Summarized = Summarized.drop_duplicates()\n",
    "\n",
    "EPA = plays.groupby([\"ballCarrierId\"])[\"expectedPointsAdded\"].mean()\n",
    "\n",
    "Summarized = pd.merge(Summarized, EPA, left_on=\"nflId\", right_on=\"ballCarrierId\")\n",
    "\n",
    "Summarized = Summarized.drop_duplicates()\n"
   ]
  },
  {
   "cell_type": "code",
   "execution_count": null,
   "metadata": {},
   "outputs": [],
   "source": [
    "VOR_df_output.to_csv(\"C:/Users/sethl/OneDrive/Important Stuff/R/R files/NFL/DataBowl/2024-Big-Data-Bowl/Created_DF/AllGamesYAC.csv\", index=False)\n",
    "Summarized.to_csv(\"C:/Users/sethl/OneDrive/Important Stuff/R/R files/NFL/DataBowl/2024-Big-Data-Bowl/Created_DF/AllGamesYACSummarized.csv\", index=False)\n"
   ]
  },
  {
   "cell_type": "markdown",
   "metadata": {},
   "source": [
    "### Defensive Closest Gravity"
   ]
  },
  {
   "cell_type": "code",
   "execution_count": null,
   "metadata": {},
   "outputs": [],
   "source": [
    "closest_filepath = \"C:/Users/sethl/OneDrive/Important Stuff/R/R files/NFL/DataBowl/2024-Big-Data-Bowl/ClosestChunks\"\n",
    "\n",
    "# List all files in the data folder\n",
    "closest_file_list = os.listdir(closest_filepath)\n",
    "\n",
    "# Use glob to filter specific file types\n",
    "closest_csv_files = glob.glob(os.path.join(closest_filepath, \"*.csv\"))\n",
    "\n",
    "# Read in the weekly game data and concat into one combined df\n",
    "closest_dfs = [pd.read_csv(file) for file in closest_csv_files]\n",
    "closest_df = pd.concat(closest_dfs, ignore_index=True)\n",
    "\n",
    "VOR_df_output = pd.read_csv(\"C:/Users/sethl/OneDrive/Important Stuff/R/R files/NFL/DataBowl/2024-Big-Data-Bowl/Created_DF/AllGamesYAC.csv\")\n"
   ]
  },
  {
   "cell_type": "code",
   "execution_count": null,
   "metadata": {},
   "outputs": [],
   "source": [
    "\n",
    "ClosestPlayersWork = pd.merge(VOR_df_output, closest_df, on = [\"gameId\", \"playId\", \"frameId\"])\n",
    "\n",
    "# Group by 'nflId' and count the unique 'frameId' values in each group\n",
    "play_counts = ClosestPlayersWork.groupby('nflId_y')['playId'].nunique()\n",
    "\n",
    "# Create a new column 'TotalPlays' in the original DataFrame\n",
    "ClosestPlayersWork['TotalPlays'] = ClosestPlayersWork['nflId_y'].map(play_counts)\n",
    "ClosestPlayersWork = ClosestPlayersWork[ClosestPlayersWork[\"TotalPlays\"] >= 15]\n",
    "\n",
    "\n",
    "ClosestSummary = pd.DataFrame()\n",
    "\n",
    "ClosestSummary[\"PassVoronoi\"] = ClosestPlayersWork[ClosestPlayersWork[\"PassPlay\"] == 1].groupby('nflId_y')[\"adjusted_change\"].mean()\n",
    "\n",
    "ClosestSummary[\"RushVoronoi\"] = ClosestPlayersWork[ClosestPlayersWork[\"PassPlay\"] == 0].groupby('nflId_y')[\"adjusted_change\"].mean()\n",
    "\n",
    "ClosestSummary[\"TotalVoronoi\"] = ClosestPlayersWork.groupby('nflId_y')[\"adjusted_change\"].mean()\n",
    "\n",
    "#ClosestSummary = ClosestSummary[ClosestSummary[\"RushVoronoi\"] >= 0]\n",
    "\n",
    "\n",
    "ClosestSummary = ClosestSummary.drop_duplicates()\n",
    "ClosestSummary.reset_index(inplace=True)\n",
    "TotalPlaysClosest = ClosestPlayersWork[[\"nflId_y\", \"defensiveTeam\", \"TotalPlays\"]].drop_duplicates()\n",
    "\n",
    "ClosestSummary = pd.merge(ClosestSummary, TotalPlaysClosest, on = \"nflId_y\")\n",
    "\n",
    "ClosestSummary = pd.merge(ClosestSummary, player_name, left_on = \"nflId_y\", right_on = \"nflId\")\n",
    "\n",
    "PlayerSingleName = players[[\"nflId\", \"displayName\"]].drop_duplicates()\n",
    "\n",
    "#ClosestSummary = ClosestSummary.drop_duplicates(subset = \"nflId\")\n",
    "ClosestSummary = pd.merge(ClosestSummary, PlayerSingleName, left_on = \"nflId_y\", right_on = \"nflId\")\n",
    "\n",
    "ClosestSummary = ClosestSummary.rename(columns={'nflId_y': 'nflId'})\n",
    "ClosestSummary = ClosestSummary[[\"nflId\", 'displayName', 'position',\n",
    "                                  'displayName', 'defensiveTeam',\n",
    "                                 'TotalPlays',\n",
    "                                 \"PassVoronoi\", 'RushVoronoi', 'TotalVoronoi']]\n",
    "ClosestSummary = ClosestSummary.sort_values(by=['TotalVoronoi'], ascending = True)"
   ]
  },
  {
   "cell_type": "code",
   "execution_count": null,
   "metadata": {},
   "outputs": [],
   "source": [
    "closest_df.to_csv(\"C:/Users/sethl/OneDrive/Important Stuff/R/R files/NFL/DataBowl/2024-Big-Data-Bowl/Created_DF/AllGamesDefenseClosest.csv\", index=False)\n",
    "ClosestSummary.to_csv(\"C:/Users/sethl/OneDrive/Important Stuff/R/R files/NFL/DataBowl/2024-Big-Data-Bowl/Created_DF/AllGamesDefenseClosestSummary.csv\", index=False)\n"
   ]
  },
  {
   "cell_type": "markdown",
   "metadata": {},
   "source": [
    "### Team Gravity "
   ]
  },
  {
   "cell_type": "code",
   "execution_count": null,
   "metadata": {},
   "outputs": [],
   "source": [
    "VOR_df_output = pd.read_csv(\"C:/Users/sethl/OneDrive/Important Stuff/R/R files/NFL/DataBowl/2024-Big-Data-Bowl/Created_DF/AllGamesYAC.csv\")\n"
   ]
  },
  {
   "cell_type": "code",
   "execution_count": null,
   "metadata": {},
   "outputs": [],
   "source": [
    "\n",
    "DefensiveGravityWork = VOR_df_output.copy()\n",
    "\n",
    "#player_name = players[[\"nflId\", \"position\", \"displayName\"]]\n",
    "#DefensiveGravityWork = pd.merge(DefensiveGravityWork, player_name, on = \"nflId\")\n",
    "#DefensiveGravityWork = DefensiveGravityWork[DefensiveGravityWork[\"position\"] != \"QB\"]\n",
    "\n",
    "DefensiveGravity = pd.DataFrame()\n",
    "DefensiveGravity[\"PassVoroni\"] = DefensiveGravityWork[DefensiveGravityWork[\"PassPlay\"] == 1].groupby(\"defensiveTeam\")[\"adjusted_change\"].mean()\n",
    "DefensiveGravity[\"RushVoronoi\"] = DefensiveGravityWork[DefensiveGravityWork[\"PassPlay\"] == 0].groupby(\"defensiveTeam\")[\"adjusted_change\"].mean()\n",
    "DefensiveGravity[\"TotalVoronoi\"] = DefensiveGravityWork.groupby(\"defensiveTeam\")[\"adjusted_change\"].mean()\n",
    "DefensiveGravity = DefensiveGravity.drop_duplicates()\n",
    "DefensiveGravity.reset_index(inplace=True)\n",
    "\n",
    "DefensiveGravity = DefensiveGravity.sort_values(by=['TotalVoronoi'], ascending = True)\n",
    "\n",
    "\n",
    "\n",
    "'''\n",
    "OffensiveGravity = pd.DataFrame()\n",
    "OffensiveGravity[\"MeanPlayO\"] = DefensiveGravityWork.groupby([\"possessionTeam\"])[\"adjusted_change\"].mean()\n",
    "OffensiveGravity = OffensiveGravity.drop_duplicates()\n",
    "OffensiveGravity.reset_index(inplace=True)\n",
    "\n",
    "OffensiveGravity = OffensiveGravity.sort_values(by=['MeanPlayO'], ascending = False)\n",
    "\n",
    "'''"
   ]
  },
  {
   "cell_type": "code",
   "execution_count": null,
   "metadata": {},
   "outputs": [],
   "source": [
    "#OffensiveGravity.to_csv(\"C:/Users/sethl/OneDrive/Important Stuff/R/R files/NFL/DataBowl/2024-Big-Data-Bowl/Created_DF/OffensiveGravityTeam.csv\", index=False)\n",
    "DefensiveGravity.to_csv(\"C:/Users/sethl/OneDrive/Important Stuff/R/R files/NFL/DataBowl/2024-Big-Data-Bowl/Created_DF/DefensiveGravityTeam.csv\", index=False)\n"
   ]
  },
  {
   "cell_type": "markdown",
   "metadata": {},
   "source": [
    "### Break Through"
   ]
  },
  {
   "cell_type": "code",
   "execution_count": null,
   "metadata": {},
   "outputs": [],
   "source": [
    "def find_rows_above_threshold(array, threshold=1e-3):\n",
    "    max_values = np.amax(array, axis=1)  # Get maximum values for each row\n",
    "    above_threshold = max_values > threshold\n",
    "    first_index = np.argmax(above_threshold)\n",
    "    last_index = len(above_threshold) - np.argmax(above_threshold[::-1]) - 1\n",
    "    return first_index.astype(int), last_index.astype(int)\n",
    "\n",
    "def find_columns_above_threshold(array, threshold=1e-3):\n",
    "    max_values = np.amax(array, axis=0)  # Get maximum values for each column\n",
    "    above_threshold = max_values > threshold\n",
    "    first_index = np.argmax(above_threshold)\n",
    "    last_index = len(above_threshold) - np.argmax(above_threshold[::-1]) - 1\n",
    "    return first_index.astype(int), last_index.astype(int)\n",
    "\n",
    "def uncovered_frame_list(row):\n",
    "    Ball_min_y = row[\"Ball_Min_y\"]\n",
    "    Ball_Max_y = row[\"Ball_Max_y\"]\n",
    "    Player_Min_y = row[\"Min_y\"]\n",
    "    Player_Max_y = row[\"Max_y\"]\n",
    "    \n",
    "    Ball_min_x = row[\"Ball_Min_x\"]\n",
    "    Ball_Max_x = row[\"Ball_Max_x\"]\n",
    "    Player_Min_x = row[\"Min_x\"]\n",
    "    Player_Max_x = row[\"Max_x\"]\n",
    "\n",
    "    Ball_Carrier = row['GotTheBall']\n",
    "    \n",
    "    condition = np.all((Player_Min_y <= Ball_min_y) & \\\n",
    "                        (Player_Max_y >= Ball_Max_y) & \\\n",
    "                          (Player_Max_x >=  Ball_Max_x) & \\\n",
    "                            (Ball_Carrier != 1))\n",
    "    \n",
    "    return 1 if condition else 0\n",
    "\n",
    "def CalculateBreakthrough(playerCoordinates=[]):\n",
    "\n",
    "  np.random.seed(42)\n",
    "  \n",
    "  #Determined each speed in x and y, as well as distance from the QB\n",
    "  # Filter rows where 'GotTheBall' is 1\n",
    "  ball_data = playerCoordinates[playerCoordinates[\"GotTheBall\"] == 1]\n",
    "\n",
    "  # Calculate x and y coordinates of the ball for each play and frame\n",
    "  ball_data = ball_data.groupby([\"playId\", \"frameId\"]).agg({'clean_x': 'unique', 'clean_y': 'unique'}).reset_index()\n",
    "\n",
    "  # Merge these coordinates back into the original DataFrame\n",
    "  playerCoordinates = playerCoordinates.merge(ball_data, on=[\"playId\", \"frameId\"], suffixes=('', '_Ball'), how='left')\n",
    "\n",
    "  # Calculate the distance from the ball\n",
    "  playerCoordinates['distanceFromBall'] = (\n",
    "      (playerCoordinates['clean_x'] - playerCoordinates['clean_x_Ball'])**2 +\n",
    "      (playerCoordinates['clean_y'] - playerCoordinates['clean_y_Ball'])**2\n",
    "  )**(1/2)\n",
    "  \n",
    "  playerCoordinates['distanceFromBall'] = np.where(playerCoordinates['distanceFromBall'] == 0, 1.5, playerCoordinates['distanceFromBall']).astype(float)\n",
    "\n",
    "  playerCoordinates['PartOfPlay'] = playerCoordinates.groupby(['playId','nflId'])['distanceFromBall'].transform(lambda x: (x <= 10).any()).astype(int)\n",
    "  \n",
    "  playerCoordinates['radiansDirection'] = playerCoordinates['clean_dir'].astype(float).apply(math.radians) #Converts angle in degrees to radians\n",
    "  playerCoordinates['xComponent']=playerCoordinates['radiansDirection'].astype(float).apply(math.cos) #Converts angle into an x and y component\n",
    "  playerCoordinates['yComponent']=playerCoordinates['radiansDirection'].astype(float).apply(math.sin)\n",
    "  playerCoordinates['xspeed']=playerCoordinates['xComponent']*playerCoordinates['s'] #Determines magnitude of speed by multiplying x and y component by magnitude of speed\n",
    "  playerCoordinates['yspeed']=playerCoordinates['yComponent']*playerCoordinates['s']\n",
    "  playerCoordinates['xComponent']= np.where((playerCoordinates['xComponent'] < 1e-2) & \n",
    "                                            (playerCoordinates['xComponent'] > -1e-2), 1e-2, playerCoordinates['xComponent'])\n",
    "  playerCoordinates['yComponent']= np.where((playerCoordinates['yComponent'] < 1e-2) & \n",
    "                                            (playerCoordinates['yComponent'] > -1e-2), 1e-2, playerCoordinates['yComponent'])\n",
    "\n",
    "\n",
    "  \n",
    "  playerCoordinates[\"UniqueIndex\"] = playerCoordinates[\"gameId\"].astype(str) + \"-\" + playerCoordinates['playId'].astype(str) + \"-\" + playerCoordinates['frameId'].astype(str)\n",
    "\n",
    "  unique_frames = playerCoordinates['UniqueIndex'].unique()\n",
    "\n",
    "  output_df = pd.DataFrame()\n",
    "  \n",
    "  y, x = np.mgrid[0:53.3:1, 0:120:1]\n",
    "  locations = np.dstack((x, y))\n",
    "  \n",
    "  for frame in unique_frames:\n",
    "\n",
    "    frame_data = playerCoordinates[playerCoordinates[\"UniqueIndex\"] == frame]\n",
    "    frame_list = []\n",
    "\n",
    "    frame_data = frame_data[((frame_data[\"PartOfPlay\"] == 1) & (frame_data[\"club\"] == frame_data[\"defensiveTeam\"])) |  \n",
    "                                        (frame_data[\"GotTheBall\"] == 1)]\n",
    "\n",
    "    # Generate pdf's for the defensive players and the quarteback\n",
    "    for index, row in frame_data.iterrows():\n",
    "      if((row['club'] == row['defensiveTeam'])) | (row[\"GotTheBall\"] == 1):\n",
    "        speed_Ratio=(row['s']**2)/(100)\n",
    "        topLeftSMatrix=(row['distanceFromBall']+row['distanceFromBall']*speed_Ratio)/2\n",
    "        bottomRightSMatrix=(row['distanceFromBall']-row['distanceFromBall']*speed_Ratio)/2\n",
    "\n",
    "        try:\n",
    "          #Setting up R and S matrix in bivariate normal distribution\n",
    "          r_matrix=[(row['xComponent'], -row['yComponent']),(row['yComponent'], row['xComponent'])]\n",
    "          r_matrix=pd.DataFrame(data=r_matrix)\n",
    "          #Adds very small value to ensure matrix is invertible even if player is completely stationary\n",
    "          s_matrix=[(topLeftSMatrix+0.00001,0), (0, bottomRightSMatrix-0.000001)]\n",
    "          s_matrix=pd.DataFrame(data=s_matrix)\n",
    "          inverse_r_Matrix=np.linalg.inv(r_matrix)\n",
    "          multiplyingTogetherFirstTwoMatrices=r_matrix.dot(s_matrix)\n",
    "          nextMatrix=multiplyingTogetherFirstTwoMatrices.dot(s_matrix)\n",
    "          covariance_matrix=nextMatrix.dot(inverse_r_Matrix)\n",
    "          mu_val_x=row['clean_x']+row['xspeed']*0.5\n",
    "          mu_val_y=row['clean_y']+row['yspeed']*0.5\n",
    "          mu=[mu_val_x,mu_val_y]\n",
    "          player_pdf=multivariate_normal(mu,covariance_matrix).pdf(locations)\n",
    "\n",
    "          Player_y_max = find_rows_above_threshold(player_pdf)\n",
    "\n",
    "          Player_x_max = find_columns_above_threshold(player_pdf)\n",
    "\n",
    "          frame_data.at[index, \"Max_y\"] = int(Player_y_max[1])\n",
    "          frame_data.at[index, \"Min_y\"] = int(Player_y_max[0])\n",
    "\n",
    "          frame_data.at[index, \"Max_x\"] = int(Player_x_max[1])\n",
    "          frame_data.at[index, \"Min_x\"] = int(Player_x_max[0])\n",
    "\n",
    "          frame_data[\"Max_y\"] = frame_data[\"Max_y\"].fillna(0)\n",
    "          frame_data[\"Min_y\"] = frame_data[\"Min_y\"].fillna(53) \n",
    "\n",
    "          frame_data[\"Max_x\"] = frame_data[\"Max_x\"].fillna(0)\n",
    "          frame_data[\"Min_x\"] = frame_data[\"Min_x\"].fillna(120) \n",
    "\n",
    "          \n",
    "        except np.linalg.LinAlgError:\n",
    "           pass\n",
    "\n",
    "    frame_data[\"Ball_Max_y\"] = frame_data.loc[frame_data[\"GotTheBall\"] == 1, \"Max_y\"].iloc[0].astype(int)\n",
    "    frame_data[\"Ball_Min_y\"] = frame_data.loc[frame_data[\"GotTheBall\"] == 1, \"Min_y\"].iloc[0].astype(int)\n",
    "    \n",
    "    frame_data[\"Ball_Max_x\"] = frame_data.loc[frame_data[\"GotTheBall\"] == 1, \"Max_x\"].iloc[0].astype(int)\n",
    "    frame_data[\"Ball_Min_x\"] = frame_data.loc[frame_data[\"GotTheBall\"] == 1, \"Min_x\"].iloc[0].astype(int)\n",
    "\n",
    "    frame_data[\"Covering\"] = frame_data.apply(uncovered_frame_list, axis=1)\n",
    "\n",
    "    output_df = pd.concat([output_df, frame_data], ignore_index=True)\n",
    "\n",
    "  \n",
    "  return output_df\n",
    "      \n",
    "\n",
    "\n"
   ]
  },
  {
   "cell_type": "code",
   "execution_count": null,
   "metadata": {},
   "outputs": [],
   "source": [
    "WorkDF_data_folder_path = \"C:/Users/sethl/OneDrive/Important Stuff/R/R files/NFL/DataBowl/2024-Big-Data-Bowl/Created_DF/WorkDF\"\n",
    "\n",
    "# List all files in the data folder\n",
    "WorkDF_file_list = os.listdir(WorkDF_data_folder_path)\n",
    "\n",
    "# Use glob to filter specific file types\n",
    "WorkDF_csv_files = glob.glob(os.path.join(WorkDF_data_folder_path, \"*.csv\"))\n",
    "\n",
    "\n",
    "for game in WorkDF_csv_files:\n",
    "\n",
    "    #Write code chunk to check if any of the files already in the folder are named what we want\n",
    "    #if so ignore it and move on to the next one\n",
    "\n",
    "\n",
    "    # Your code to process the chunk\n",
    "    breakthrough_df = pd.read_csv(game)\n",
    "\n",
    "    gameName = breakthrough_df[\"gameId\"].unique()\n",
    "\n",
    "    # Your code to process the chunk\n",
    "    breakthrough_df = CalculateBreakthrough(breakthrough_df)    \n",
    "\n",
    "    filepath = \"C:/Users/sethl/OneDrive/Important Stuff/R/R files/NFL/DataBowl/2024-Big-Data-Bowl/BreakThroughChunks/\"\n",
    "\n",
    "    filename = f\"BreakThroughChunk{gameName}.csv\"\n",
    "    \n",
    "    # Save the processed chunk to a specific location\n",
    "    breakthrough_df.to_csv(f\"{filepath}{filename}\", index=False)\n",
    "\n",
    "    del breakthrough_df"
   ]
  },
  {
   "cell_type": "code",
   "execution_count": null,
   "metadata": {},
   "outputs": [],
   "source": [
    "breakthrough_filepath = \"C:/Users/sethl/OneDrive/Important Stuff/R/R files/NFL/DataBowl/2024-Big-Data-Bowl/BreakThroughChunks\"\n",
    "\n",
    "# List all files in the data folder\n",
    "BreakThrough_file_list = os.listdir(breakthrough_filepath)\n",
    "\n",
    "# Use glob to filter specific file types\n",
    "BreakThrough_csv_files = glob.glob(os.path.join(breakthrough_filepath, \"*.csv\"))\n",
    "\n",
    "#Breakthrough_df_output = pd.read_csv(BreakThrough_csv_files[0])\n",
    "\n",
    "# Read in the weekly game data and concat into one combined df\n",
    "BreakThrough_dfs = [pd.read_csv(file) for file in BreakThrough_csv_files]\n",
    "BreakThrough_df_output = pd.concat(BreakThrough_dfs, ignore_index=True)"
   ]
  },
  {
   "cell_type": "code",
   "execution_count": null,
   "metadata": {},
   "outputs": [],
   "source": [
    "Break_work = BreakThrough_df_output[[\"gameId\", \"playId\", \"frameId\", 'PassPlay',\n",
    "                                     \"club\", \"possessionTeam\", \"defensiveTeam\",\n",
    "                                       \"GotTheBall\", \"nflId\", \"displayName\", \"Covering\"]]\n",
    "\n",
    "player_name = players[[\"nflId\", \"position\"]]\n",
    "BreakThrough = Break_work.groupby([\"gameId\", \"playId\", \"frameId\"])[\"Covering\"].sum()\n",
    "\n",
    "BreakThrough = pd.merge(Break_work, BreakThrough, on = [\"gameId\", \"playId\", \"frameId\"])\n",
    "\n",
    "BreakThrough[\"BreakThrough\"] = np.where(BreakThrough[\"Covering_y\"] == 0, 1, 0)\n",
    "\n",
    "BreakThrough = BreakThrough[(BreakThrough[\"club\"] == BreakThrough[\"defensiveTeam\"])]\n",
    "\n",
    "# Group by 'nflId' and count the unique 'frameId' values in each group\n",
    "play_counts = BreakThrough.groupby('nflId')['playId'].nunique()\n",
    "\n",
    "# Create a new column 'TotalPlays' in the original DataFrame\n",
    "BreakThrough['TotalPlays'] = BreakThrough['nflId'].map(play_counts)\n",
    "BreakThrough = BreakThrough[BreakThrough[\"TotalPlays\"] >= 15]\n",
    "TotalPlays = BreakThrough[[\"nflId\",\"TotalPlays\"]].drop_duplicates()\n",
    "\n",
    "TeamNameJoin = BreakThrough[['club', \"nflId\", \"displayName\"]].drop_duplicates()\n",
    "\n",
    "\n",
    "Summarized_BreakThrough = pd.DataFrame()\n",
    "Summarized_BreakThrough[\"PassShielding\"] = BreakThrough[BreakThrough[\"PassPlay\"] == 1].groupby(\"nflId\")[\"Covering_x\"].mean()\n",
    "Summarized_BreakThrough[\"RushShielding\"] = BreakThrough[BreakThrough[\"PassPlay\"] == 0].groupby(\"nflId\")[\"Covering_x\"].mean()\n",
    "Summarized_BreakThrough[\"TotalShielding\"] = BreakThrough.groupby(\"nflId\")[\"Covering_x\"].mean()\n",
    "Summarized_BreakThrough = pd.merge(Summarized_BreakThrough, TotalPlays, on = \"nflId\")\n",
    "Summarized_BreakThrough = pd.merge(Summarized_BreakThrough, TeamNameJoin, on = \"nflId\")\n",
    "Summarized_BreakThrough = pd.merge(Summarized_BreakThrough, player_name, on = \"nflId\")\n",
    "\n",
    "\n",
    "\n",
    "\n"
   ]
  },
  {
   "cell_type": "code",
   "execution_count": null,
   "metadata": {},
   "outputs": [],
   "source": [
    "#BreakThrough_df_output.to_csv(\"C:/Users/sethl/OneDrive/Important Stuff/R/R files/NFL/DataBowl/2024-Big-Data-Bowl/Created_DF/AllGamesBreakthrough.csv\", index=False)\n",
    "Summarized_BreakThrough.to_csv(\"C:/Users/sethl/OneDrive/Important Stuff/R/R files/NFL/DataBowl/2024-Big-Data-Bowl/Created_DF/AllGamesBreakthroughSummarized.csv\", index=False)\n"
   ]
  },
  {
   "cell_type": "markdown",
   "metadata": {},
   "source": [
    "### Team BreakThrough Perc"
   ]
  },
  {
   "cell_type": "code",
   "execution_count": null,
   "metadata": {},
   "outputs": [],
   "source": [
    "BreakThrough_df_output = pd.read_csv(\"C:/Users/sethl/OneDrive/Important Stuff/R/R files/NFL/DataBowl/2024-Big-Data-Bowl/Created_DF/AllGamesBreakthrough.csv\")\n"
   ]
  },
  {
   "cell_type": "code",
   "execution_count": null,
   "metadata": {},
   "outputs": [],
   "source": [
    "Break_work = BreakThrough_df_output[[\"gameId\", \"playId\", \"frameId\", 'PassPlay', \"club\", \"possessionTeam\", \"defensiveTeam\", \"GotTheBall\", \"nflId\", \"displayName\", \"Covering\"]]\n",
    "player_name = players[[\"nflId\", \"position\"]]\n",
    "BreakThrough = Break_work.groupby([\"gameId\", \"playId\", \"frameId\"])[\"Covering\"].sum()\n",
    "\n",
    "BreakThrough = pd.merge(Break_work, BreakThrough, on = [\"gameId\", \"playId\", \"frameId\"])\n",
    "\n",
    "# Group by 'nflId' and count the unique 'frameId' values in each group\n",
    "play_counts = BreakThrough.groupby('nflId')['playId'].nunique()\n",
    "\n",
    "# Create a new column 'TotalPlays' in the original DataFrame\n",
    "BreakThrough['TotalPlays'] = BreakThrough['nflId'].map(play_counts)\n",
    "BreakThrough = BreakThrough[BreakThrough[\"TotalPlays\"] >= 15]\n",
    "\n",
    "BreakThrough[\"BreakThrough\"] = np.where(BreakThrough[\"Covering_y\"] == 0, 1, 0)\n",
    "\n",
    "\n",
    "DefensiveBreakThrough = pd.DataFrame()\n",
    "DefensiveBreakThrough[\"PassShielding\"] = BreakThrough[BreakThrough[\"PassPlay\"] == 1].groupby(\"defensiveTeam\")[\"Covering_x\"].mean()\n",
    "DefensiveBreakThrough[\"RushShielding\"] = BreakThrough[BreakThrough[\"PassPlay\"] == 0].groupby(\"defensiveTeam\")[\"Covering_x\"].mean()\n",
    "DefensiveBreakThrough[\"TotalShielding\"] = BreakThrough.groupby(\"defensiveTeam\")[\"Covering_x\"].mean()\n",
    "DefensiveBreakThrough = DefensiveBreakThrough.drop_duplicates()\n",
    "DefensiveBreakThrough.reset_index(inplace=True)\n",
    "\n",
    "DefensiveBreakThrough = DefensiveBreakThrough.sort_values(by=['TotalShielding'], ascending = False)\n",
    "\n",
    "\n",
    "'''\n",
    "OffensiveBreakThrough = pd.DataFrame()\n",
    "OffensiveBreakThrough[\"BreakThroughO\"] = BreakThrough.groupby([\"possessionTeam\"])[\"BreakThrough\"].mean()\n",
    "OffensiveBreakThrough = OffensiveBreakThrough.drop_duplicates()\n",
    "OffensiveBreakThrough.reset_index(inplace=True)\n",
    "\n",
    "OffensiveBreakThrough = OffensiveBreakThrough.sort_values(by=['BreakThroughO'], ascending = False)\n",
    "\n",
    "'''"
   ]
  },
  {
   "cell_type": "code",
   "execution_count": null,
   "metadata": {},
   "outputs": [],
   "source": [
    "#OffensiveBreakThrough.to_csv(\"C:/Users/sethl/OneDrive/Important Stuff/R/R files/NFL/DataBowl/2024-Big-Data-Bowl/Created_DF/OffensiveBreakThroughTeam.csv\", index=False)\n",
    "DefensiveBreakThrough.to_csv(\"C:/Users/sethl/OneDrive/Important Stuff/R/R files/NFL/DataBowl/2024-Big-Data-Bowl/Created_DF/DefensiveBreakThroughTeam.csv\", index=False)\n"
   ]
  },
  {
   "cell_type": "markdown",
   "metadata": {},
   "source": [
    "### Deviation from Ideal Angles"
   ]
  },
  {
   "cell_type": "code",
   "execution_count": null,
   "metadata": {},
   "outputs": [],
   "source": [
    "BreakThrough_df_output = pd.read_csv(\"C:/Users/sethl/OneDrive/Important Stuff/R/R files/NFL/DataBowl/2024-Big-Data-Bowl/Created_DF/AllGamesBreakthrough.csv\")"
   ]
  },
  {
   "cell_type": "code",
   "execution_count": null,
   "metadata": {},
   "outputs": [],
   "source": [
    "def calculate_angle(row):\n",
    "    Expected_x = (row[\"Ball_Max_x\"] + row['Ball_Min_x']) / 2\n",
    "    Expected_y = (row[\"Ball_Max_y\"] + row['Ball_Min_y']) / 2\n",
    "    delta_x = Expected_x - row['clean_x']\n",
    "    delta_y = Expected_y - row['clean_y']\n",
    "    angle_radians = math.atan2(delta_y, delta_x)\n",
    "    angle_radians = np.where(angle_radians < 0, angle_radians + 2 * math.pi, angle_radians) \n",
    "    angle_degrees = math.degrees(angle_radians)\n",
    "    return angle_degrees\n",
    "\n",
    "def Calculate_Deviation_From_Ideal(row):\n",
    "    Deviation = abs(row[\"clean_dir\"] - row[\"IdealAngle\"]) ** 2\n",
    "    return Deviation"
   ]
  },
  {
   "cell_type": "code",
   "execution_count": null,
   "metadata": {},
   "outputs": [],
   "source": [
    "Deviation = BreakThrough_df_output.copy()\n",
    "\n",
    "Deviation[\"IdealAngle\"] = Deviation.apply(calculate_angle, axis = 1)\n",
    "\n",
    "Deviation[\"Deviation\"] = Deviation.apply(Calculate_Deviation_From_Ideal, axis = 1)"
   ]
  },
  {
   "cell_type": "code",
   "execution_count": null,
   "metadata": {},
   "outputs": [],
   "source": [
    "DeviationWork = Deviation[[\"gameId\", \"playId\", \"frameId\", 'PassPlay', \"club\", \"possessionTeam\", \"defensiveTeam\", \"GotTheBall\", \"nflId\",\\\n",
    "                            \"displayName\", 'distanceFromBall',\"clean_dir\", \"IdealAngle\",\n",
    "                              \"Deviation\"]]\n",
    "\n",
    "\n",
    "player_name = players[[\"nflId\", \"position\"]]\n",
    "\n",
    "DeviationWork = DeviationWork[(DeviationWork[\"club\"] == DeviationWork[\"defensiveTeam\"])]\n",
    "\n",
    "# Group by 'nflId' and count the unique 'frameId' values in each group\n",
    "play_counts = DeviationWork.groupby('nflId')['playId'].nunique()\n",
    "\n",
    "# Create a new column 'TotalPlays' in the original DataFrame\n",
    "DeviationWork['TotalPlays'] = DeviationWork['nflId'].map(play_counts)\n",
    "TotalPlays = DeviationWork[[\"nflId\",\"TotalPlays\"]].drop_duplicates()\n",
    "\n",
    "TeamNameJoin = DeviationWork[['club', \"nflId\", \"displayName\"]].drop_duplicates()\n",
    "\n",
    "\n",
    "\n",
    "DeviationSummary = pd.DataFrame()\n",
    "DeviationSummary[\"PassMeanSquaredDeviation\"] = DeviationWork[DeviationWork[\"PassPlay\"] == 1].groupby(\"nflId\")[\"Deviation\"].mean()\n",
    "DeviationSummary[\"PassRootMeanSquaredDeviation\"] = np.sqrt(DeviationSummary[\"PassMeanSquaredDeviation\"])\n",
    "DeviationSummary[\"RushMeanSquaredDeviation\"] = DeviationWork[DeviationWork[\"PassPlay\"] == 0].groupby(\"nflId\")[\"Deviation\"].mean()\n",
    "DeviationSummary[\"RushRootMeanSquaredDeviation\"] = np.sqrt(DeviationSummary[\"RushMeanSquaredDeviation\"])\n",
    "DeviationSummary[\"TotalMeanSquaredDeviation\"] = DeviationWork.groupby(\"nflId\")[\"Deviation\"].mean()\n",
    "DeviationSummary[\"TotalRootMeanSquaredDeviation\"] = np.sqrt(DeviationSummary[\"TotalMeanSquaredDeviation\"])\n",
    "DeviationSummary = pd.merge(DeviationSummary, TotalPlays, on = \"nflId\")\n",
    "DeviationSummary = pd.merge(DeviationSummary, TeamNameJoin, on = \"nflId\")\n",
    "DeviationSummary = pd.merge(DeviationSummary, player_name, on = \"nflId\")\n"
   ]
  },
  {
   "cell_type": "code",
   "execution_count": null,
   "metadata": {},
   "outputs": [],
   "source": [
    "Deviation.to_csv(\"C:/Users/sethl/OneDrive/Important Stuff/R/R files/NFL/DataBowl/2024-Big-Data-Bowl/Created_DF/AllGamesDeviation.csv\", index=False)\n",
    "DeviationSummary.to_csv(\"C:/Users/sethl/OneDrive/Important Stuff/R/R files/NFL/DataBowl/2024-Big-Data-Bowl/Created_DF/AllGamesDeviationSummarized.csv\", index=False)\n"
   ]
  },
  {
   "cell_type": "markdown",
   "metadata": {},
   "source": [
    "### Team Deviation"
   ]
  },
  {
   "cell_type": "code",
   "execution_count": null,
   "metadata": {},
   "outputs": [],
   "source": [
    "Deviation = pd.read_csv(\"C:/Users/sethl/OneDrive/Important Stuff/R/R files/NFL/DataBowl/2024-Big-Data-Bowl/Created_DF/AllGamesDeviation.csv\", index=False)\n"
   ]
  },
  {
   "cell_type": "code",
   "execution_count": null,
   "metadata": {},
   "outputs": [],
   "source": [
    "DeviationWork = DeviationWork[DeviationWork[\"TotalPlays\"] >= 15]\n",
    "\n",
    "\n",
    "TeamDeviation = pd.DataFrame()\n",
    "TeamDeviation[\"PassMeanSquaredDeviation\"] = DeviationWork[DeviationWork[\"PassPlay\"] == 1].groupby(\"club\")[\"Deviation\"].mean()\n",
    "TeamDeviation[\"PassRootMeanSquaredDeviation\"] = np.sqrt(TeamDeviation[\"PassMeanSquaredDeviation\"])\n",
    "TeamDeviation[\"RushMeanSquaredDeviation\"] = DeviationWork[DeviationWork[\"PassPlay\"] == 0].groupby(\"club\")[\"Deviation\"].mean()\n",
    "TeamDeviation[\"RushRootMeanSquaredDeviation\"] = np.sqrt(TeamDeviation[\"RushMeanSquaredDeviation\"])\n",
    "TeamDeviation[\"TotalMeanSquaredDeviation\"] = DeviationWork.groupby(\"club\")[\"Deviation\"].mean()\n",
    "TeamDeviation[\"TotalRootMeanSquaredDeviation\"] = np.sqrt(TeamDeviation[\"TotalMeanSquaredDeviation\"])\n",
    "TeamDeviation = TeamDeviation.drop_duplicates()\n",
    "TeamDeviation.reset_index(inplace=True)\n",
    "\n",
    "TeamDeviation = TeamDeviation.sort_values(by=['TotalRootMeanSquaredDeviation'], ascending = True)\n"
   ]
  },
  {
   "cell_type": "code",
   "execution_count": null,
   "metadata": {},
   "outputs": [],
   "source": [
    "TeamDeviation.to_csv(\"C:/Users/sethl/OneDrive/Important Stuff/R/R files/NFL/DataBowl/2024-Big-Data-Bowl/Created_DF/TeamDeviation.csv\", index=False)\n"
   ]
  },
  {
   "cell_type": "markdown",
   "metadata": {},
   "source": [
    "## Full Enchilada"
   ]
  },
  {
   "cell_type": "code",
   "execution_count": 3,
   "metadata": {},
   "outputs": [],
   "source": [
    "#YACSummarized = pd.read_csv(\"C:/Users/sethl/OneDrive/Important Stuff/R/R files/NFL/DataBowl/2024-Big-Data-Bowl/Created_DF/AllGamesYACSummarized.csv\")\n",
    "BreakthroughSummarized = pd.read_csv(\"C:/Users/sethl/OneDrive/Important Stuff/R/R files/NFL/DataBowl/2024-Big-Data-Bowl/Created_DF/AllGamesBreakthroughSummarized.csv\")\n",
    "ClosestSummary = pd.read_csv(\"C:/Users/sethl/OneDrive/Important Stuff/R/R files/NFL/DataBowl/2024-Big-Data-Bowl/Created_DF/AllGamesDefenseClosestSummary.csv\")\n",
    "DeviationSummary = pd.read_csv(\"C:/Users/sethl/OneDrive/Important Stuff/R/R files/NFL/DataBowl/2024-Big-Data-Bowl/Created_DF/AllGamesDeviationSummarized.csv\")\n"
   ]
  },
  {
   "cell_type": "code",
   "execution_count": null,
   "metadata": {},
   "outputs": [],
   "source": [
    "Full_Offense = pd.merge(YACSummarized, BreakthroughSummarized, on = [\"nflId\", \"displayName\", \"club\", \"position\"])\n",
    "\n",
    "Full_Offense = Full_Offense[Full_Offense[\"TotalPlays_x\"] >= 15]\n",
    "\n",
    "# Calculate percent ranks within each position group\n",
    "Full_Offense['PercentRankGravity'] = Full_Offense.groupby('position')['MeanPlay'].transform(\n",
    "    lambda x: (x.abs() / x.abs().max())\n",
    ")\n",
    "\n",
    "Full_Offense['PercentRankBreakthrough'] = Full_Offense.groupby('position')['UnCoveredPerc'].transform(\n",
    "    lambda x: (x.abs() / x.abs().max())\n",
    ")\n",
    "\n",
    "Full_Offense[\"KEEPAWAY\"] = (Full_Offense[\"PercentRankBreakthrough\"] + Full_Offense[\"PercentRankGravity\"] * 2) / 3\n",
    "\n",
    "Full_Offense = Full_Offense[[\"displayName\", \"nflId\", \"position\", \"club\", \"TotalPlays_x\", \"MeanPlay\", \"UnCoveredPerc\", \"expectedPointsAdded\", \n",
    "                             \"PercentRankGravity\", \"PercentRankBreakthrough\", \"KEEPAWAY\"]]\n",
    "\n",
    "\n",
    "Full_Offense = Full_Offense.sort_values(by=['KEEPAWAY'], ascending = False)"
   ]
  },
  {
   "cell_type": "code",
   "execution_count": 4,
   "metadata": {},
   "outputs": [],
   "source": [
    "AltPositionNames = {\n",
    "    \"DT\" : \"DT\",\n",
    "    \"NT\" : \"DT\",\n",
    "    \"MLB\" : \"LB\",\n",
    "    \"ILB\" : \"LB\",\n",
    "    \"DE\" : \"ED\",\n",
    "    \"OLB\" : \"ED\",\n",
    "    \"CB\" : \"CB\",\n",
    "    \"SS\" : \"S\",\n",
    "    \"FS\" : \"S\",\n",
    "    \"DB\" : \"LB\",\n",
    "}\n",
    "\n",
    "AltPositionGroups = {\n",
    "    \"DT\" : \"DL\",\n",
    "    \"NT\" : \"DL\",\n",
    "    \"MLB\" : \"LB\",\n",
    "    \"ILB\" : \"LB\",\n",
    "    \"DE\" : \"DL\",\n",
    "    \"OLB\" : \"DL\",\n",
    "    \"CB\" : \"DB\",\n",
    "    \"SS\" : \"DB\",\n",
    "    \"FS\" : \"DB\",\n",
    "    \"DB\" : \"LB\",\n",
    "}"
   ]
  },
  {
   "cell_type": "code",
   "execution_count": 6,
   "metadata": {},
   "outputs": [],
   "source": [
    "Full_Defense = pd.merge(ClosestSummary, BreakthroughSummarized, on = [\"nflId\", \"displayName\", \"position\"])\n",
    "\n",
    "Full_Defense = pd.merge(Full_Defense, DeviationSummary, on = [\"nflId\", \"displayName\", \"position\"])\n",
    "\n",
    "Full_Defense = Full_Defense[Full_Defense[\"TotalPlays_x\"] >= 25]\n",
    "\n",
    "Full_Defense['Alt_Position'] = Full_Defense['position'].map(AltPositionGroups)\n",
    "\n",
    "\n",
    "Full_Defense = Full_Defense[[\"displayName\", \"nflId\", \"Alt_Position\", \"club_x\", \"TotalPlays_x\",\n",
    "                              'PassVoronoi', 'PassShielding', 'PassRootMeanSquaredDeviation',\n",
    "                             \n",
    "                              'RushVoronoi', 'RushShielding', 'RushRootMeanSquaredDeviation',\n",
    "                             \n",
    "                              'TotalVoronoi', 'TotalShielding', 'TotalRootMeanSquaredDeviation',\n",
    "                             ]]\n"
   ]
  },
  {
   "cell_type": "code",
   "execution_count": 7,
   "metadata": {},
   "outputs": [],
   "source": [
    "#Full_Offense.to_csv(\"C:/Users/sethl/OneDrive/Important Stuff/R/R files/NFL/DataBowl/2024-Big-Data-Bowl/Created_DF/Full_Offense.csv\", index=False)\n",
    "Full_Defense.to_csv(\"C:/Users/sethl/OneDrive/Important Stuff/R/R files/NFL/DataBowl/2024-Big-Data-Bowl/Created_DF/Full_Defense.csv\", index=False)\n"
   ]
  },
  {
   "cell_type": "code",
   "execution_count": null,
   "metadata": {},
   "outputs": [],
   "source": [
    "#OGravTable = pd.read_csv(\"C:/Users/sethl/OneDrive/Important Stuff/R/R files/NFL/DataBowl/2024-Big-Data-Bowl/Created_DF/OffensiveGravityTeam.csv\")\n",
    "#OBreakTable = pd.read_csv(\"C:/Users/sethl/OneDrive/Important Stuff/R/R files/NFL/DataBowl/2024-Big-Data-Bowl/Created_DF/OffensiveBreakThroughTeam.csv\")\n",
    "DVoronoiTable = pd.read_csv(\"C:/Users/sethl/OneDrive/Important Stuff/R/R files/NFL/DataBowl/2024-Big-Data-Bowl/Created_DF/DefensiveGravityTeam.csv\")\n",
    "DShieldTable = pd.read_csv(\"C:/Users/sethl/OneDrive/Important Stuff/R/R files/NFL/DataBowl/2024-Big-Data-Bowl/Created_DF/DefensiveBreakThroughTeam.csv\")\n",
    "DTackleTable = pd.read_csv(\"C:/Users/sethl/OneDrive/Important Stuff/R/R files/NFL/DataBowl/2024-Big-Data-Bowl/Created_DF/TeamDeviation.csv\")\n"
   ]
  },
  {
   "cell_type": "code",
   "execution_count": null,
   "metadata": {},
   "outputs": [],
   "source": [
    "#OTeamTable = pd.merge(OGravTable, OBreakTable, on = \"possessionTeam\")\n",
    "\n",
    "DTeamTable = pd.merge(DVoronoiTable, DShieldTable, on = \"defensiveTeam\")\n",
    "DTeamTable = pd.merge(DTeamTable, DTackleTable, left_on = \"defensiveTeam\", right_on= \"club\")\n",
    "DTeamTable.drop(\"club\", axis = 1, inplace=True)\n",
    "\n",
    "#FullTeamTable = pd.merge(OTeamTable, DTeamTable, left_on = \"possessionTeam\", right_on=\"defensiveTeam\")\n",
    "#FullTeamTable.drop(\"defensiveTeam\", axis = 1, inplace=True)"
   ]
  },
  {
   "cell_type": "code",
   "execution_count": null,
   "metadata": {},
   "outputs": [],
   "source": [
    "DTeamTable.to_csv(\"C:/Users/sethl/OneDrive/Important Stuff/R/R files/NFL/DataBowl/2024-Big-Data-Bowl/Created_DF/Full_TeamTable.csv\", index=False)\n"
   ]
  },
  {
   "cell_type": "markdown",
   "metadata": {},
   "source": [
    "## Pick Plays"
   ]
  },
  {
   "cell_type": "code",
   "execution_count": 8,
   "metadata": {},
   "outputs": [
    {
     "name": "stderr",
     "output_type": "stream",
     "text": [
      "C:\\Users\\sethl\\AppData\\Local\\Temp\\ipykernel_1864\\534229133.py:1: DtypeWarning: Columns (62) have mixed types. Specify dtype option on import or set low_memory=False.\n",
      "  VOR_df_output = pd.read_csv(\"C:/Users/sethl/OneDrive/Important Stuff/R/R files/NFL/DataBowl/2024-Big-Data-Bowl/Created_DF/AllGamesYAC.csv\")\n"
     ]
    }
   ],
   "source": [
    "VOR_df_output = pd.read_csv(\"C:/Users/sethl/OneDrive/Important Stuff/R/R files/NFL/DataBowl/2024-Big-Data-Bowl/Created_DF/AllGamesYAC.csv\")"
   ]
  },
  {
   "cell_type": "code",
   "execution_count": 12,
   "metadata": {},
   "outputs": [],
   "source": [
    "gravplay = pd.DataFrame()\n",
    "ExtraWork = VOR_df_output.copy()\n",
    "\n",
    "\n",
    "FiltVor = ExtraWork[(ExtraWork[\"passResult\"] == \"C\") &\\\n",
    "                     (ExtraWork[\"playDirection\"] == \"right\") &\\\n",
    "                     (ExtraWork[\"end_frame\"] >= 25)]\n",
    "\n",
    "\n",
    "gravplay[\"MeanPlay\"] = FiltVor.groupby([\"gameId\", \"playId\"])[\"adjusted_change\"].sum()\n",
    "\n",
    "gravplay = gravplay.sort_values(by=['MeanPlay'], ascending = True).reset_index()\n",
    "\n",
    "\n"
   ]
  },
  {
   "cell_type": "code",
   "execution_count": null,
   "metadata": {},
   "outputs": [],
   "source": [
    "print(VOR_df_output[VOR_df_output[\"gameId\"] == 2022100211])"
   ]
  },
  {
   "cell_type": "code",
   "execution_count": 16,
   "metadata": {},
   "outputs": [],
   "source": [
    "PlayValues = VOR_df_output[(VOR_df_output[\"gameId\"] == 2022110604) & (VOR_df_output[\"playId\"] == 221)]\n",
    "\n",
    "PlayValues = PlayValues[[\"Time\", \"ballCarrierId_x\", \"PercentRankA\", 'a', 'area', 'distanceFromBall',\n",
    "                         \"ScalingFactor\", \"adjusted_change\", \"primary\", \"secondary\"]]"
   ]
  },
  {
   "cell_type": "code",
   "execution_count": 15,
   "metadata": {},
   "outputs": [],
   "source": [
    "PlayValues.to_csv(\"C:/Users/sethl/OneDrive/Important Stuff/R/R files/NFL/DataBowl/2024-Big-Data-Bowl/Created_DF/viz_play_values.csv\", index=False)\n"
   ]
  },
  {
   "cell_type": "code",
   "execution_count": 52,
   "metadata": {},
   "outputs": [
    {
     "name": "stderr",
     "output_type": "stream",
     "text": [
      "C:\\Users\\sethl\\AppData\\Local\\Temp\\ipykernel_19132\\1145724364.py:12: DtypeWarning: Columns (45,61) have mixed types. Specify dtype option on import or set low_memory=False.\n",
      "  BreakThrough_dfs = [pd.read_csv(file) for file in BreakThrough_csv_files]\n",
      "C:\\Users\\sethl\\AppData\\Local\\Temp\\ipykernel_19132\\1145724364.py:12: DtypeWarning: Columns (61) have mixed types. Specify dtype option on import or set low_memory=False.\n",
      "  BreakThrough_dfs = [pd.read_csv(file) for file in BreakThrough_csv_files]\n",
      "C:\\Users\\sethl\\AppData\\Local\\Temp\\ipykernel_19132\\1145724364.py:12: DtypeWarning: Columns (61) have mixed types. Specify dtype option on import or set low_memory=False.\n",
      "  BreakThrough_dfs = [pd.read_csv(file) for file in BreakThrough_csv_files]\n",
      "C:\\Users\\sethl\\AppData\\Local\\Temp\\ipykernel_19132\\1145724364.py:12: DtypeWarning: Columns (61) have mixed types. Specify dtype option on import or set low_memory=False.\n",
      "  BreakThrough_dfs = [pd.read_csv(file) for file in BreakThrough_csv_files]\n",
      "C:\\Users\\sethl\\AppData\\Local\\Temp\\ipykernel_19132\\1145724364.py:12: DtypeWarning: Columns (61) have mixed types. Specify dtype option on import or set low_memory=False.\n",
      "  BreakThrough_dfs = [pd.read_csv(file) for file in BreakThrough_csv_files]\n",
      "C:\\Users\\sethl\\AppData\\Local\\Temp\\ipykernel_19132\\1145724364.py:12: DtypeWarning: Columns (61,62) have mixed types. Specify dtype option on import or set low_memory=False.\n",
      "  BreakThrough_dfs = [pd.read_csv(file) for file in BreakThrough_csv_files]\n",
      "C:\\Users\\sethl\\AppData\\Local\\Temp\\ipykernel_19132\\1145724364.py:12: DtypeWarning: Columns (61) have mixed types. Specify dtype option on import or set low_memory=False.\n",
      "  BreakThrough_dfs = [pd.read_csv(file) for file in BreakThrough_csv_files]\n",
      "C:\\Users\\sethl\\AppData\\Local\\Temp\\ipykernel_19132\\1145724364.py:12: DtypeWarning: Columns (61) have mixed types. Specify dtype option on import or set low_memory=False.\n",
      "  BreakThrough_dfs = [pd.read_csv(file) for file in BreakThrough_csv_files]\n",
      "C:\\Users\\sethl\\AppData\\Local\\Temp\\ipykernel_19132\\1145724364.py:12: DtypeWarning: Columns (61) have mixed types. Specify dtype option on import or set low_memory=False.\n",
      "  BreakThrough_dfs = [pd.read_csv(file) for file in BreakThrough_csv_files]\n",
      "C:\\Users\\sethl\\AppData\\Local\\Temp\\ipykernel_19132\\1145724364.py:12: DtypeWarning: Columns (61) have mixed types. Specify dtype option on import or set low_memory=False.\n",
      "  BreakThrough_dfs = [pd.read_csv(file) for file in BreakThrough_csv_files]\n",
      "C:\\Users\\sethl\\AppData\\Local\\Temp\\ipykernel_19132\\1145724364.py:12: DtypeWarning: Columns (61) have mixed types. Specify dtype option on import or set low_memory=False.\n",
      "  BreakThrough_dfs = [pd.read_csv(file) for file in BreakThrough_csv_files]\n",
      "C:\\Users\\sethl\\AppData\\Local\\Temp\\ipykernel_19132\\1145724364.py:12: DtypeWarning: Columns (61) have mixed types. Specify dtype option on import or set low_memory=False.\n",
      "  BreakThrough_dfs = [pd.read_csv(file) for file in BreakThrough_csv_files]\n",
      "C:\\Users\\sethl\\AppData\\Local\\Temp\\ipykernel_19132\\1145724364.py:12: DtypeWarning: Columns (61) have mixed types. Specify dtype option on import or set low_memory=False.\n",
      "  BreakThrough_dfs = [pd.read_csv(file) for file in BreakThrough_csv_files]\n",
      "C:\\Users\\sethl\\AppData\\Local\\Temp\\ipykernel_19132\\1145724364.py:12: DtypeWarning: Columns (61) have mixed types. Specify dtype option on import or set low_memory=False.\n",
      "  BreakThrough_dfs = [pd.read_csv(file) for file in BreakThrough_csv_files]\n",
      "C:\\Users\\sethl\\AppData\\Local\\Temp\\ipykernel_19132\\1145724364.py:12: DtypeWarning: Columns (61,62) have mixed types. Specify dtype option on import or set low_memory=False.\n",
      "  BreakThrough_dfs = [pd.read_csv(file) for file in BreakThrough_csv_files]\n",
      "C:\\Users\\sethl\\AppData\\Local\\Temp\\ipykernel_19132\\1145724364.py:12: DtypeWarning: Columns (61) have mixed types. Specify dtype option on import or set low_memory=False.\n",
      "  BreakThrough_dfs = [pd.read_csv(file) for file in BreakThrough_csv_files]\n",
      "C:\\Users\\sethl\\AppData\\Local\\Temp\\ipykernel_19132\\1145724364.py:12: DtypeWarning: Columns (61,62) have mixed types. Specify dtype option on import or set low_memory=False.\n",
      "  BreakThrough_dfs = [pd.read_csv(file) for file in BreakThrough_csv_files]\n",
      "C:\\Users\\sethl\\AppData\\Local\\Temp\\ipykernel_19132\\1145724364.py:12: DtypeWarning: Columns (45,61,62) have mixed types. Specify dtype option on import or set low_memory=False.\n",
      "  BreakThrough_dfs = [pd.read_csv(file) for file in BreakThrough_csv_files]\n",
      "C:\\Users\\sethl\\AppData\\Local\\Temp\\ipykernel_19132\\1145724364.py:12: DtypeWarning: Columns (61) have mixed types. Specify dtype option on import or set low_memory=False.\n",
      "  BreakThrough_dfs = [pd.read_csv(file) for file in BreakThrough_csv_files]\n",
      "C:\\Users\\sethl\\AppData\\Local\\Temp\\ipykernel_19132\\1145724364.py:12: DtypeWarning: Columns (61,62) have mixed types. Specify dtype option on import or set low_memory=False.\n",
      "  BreakThrough_dfs = [pd.read_csv(file) for file in BreakThrough_csv_files]\n",
      "C:\\Users\\sethl\\AppData\\Local\\Temp\\ipykernel_19132\\1145724364.py:12: DtypeWarning: Columns (45,61) have mixed types. Specify dtype option on import or set low_memory=False.\n",
      "  BreakThrough_dfs = [pd.read_csv(file) for file in BreakThrough_csv_files]\n",
      "C:\\Users\\sethl\\AppData\\Local\\Temp\\ipykernel_19132\\1145724364.py:12: DtypeWarning: Columns (61) have mixed types. Specify dtype option on import or set low_memory=False.\n",
      "  BreakThrough_dfs = [pd.read_csv(file) for file in BreakThrough_csv_files]\n",
      "C:\\Users\\sethl\\AppData\\Local\\Temp\\ipykernel_19132\\1145724364.py:12: DtypeWarning: Columns (61) have mixed types. Specify dtype option on import or set low_memory=False.\n",
      "  BreakThrough_dfs = [pd.read_csv(file) for file in BreakThrough_csv_files]\n",
      "C:\\Users\\sethl\\AppData\\Local\\Temp\\ipykernel_19132\\1145724364.py:12: DtypeWarning: Columns (61) have mixed types. Specify dtype option on import or set low_memory=False.\n",
      "  BreakThrough_dfs = [pd.read_csv(file) for file in BreakThrough_csv_files]\n",
      "C:\\Users\\sethl\\AppData\\Local\\Temp\\ipykernel_19132\\1145724364.py:12: DtypeWarning: Columns (61) have mixed types. Specify dtype option on import or set low_memory=False.\n",
      "  BreakThrough_dfs = [pd.read_csv(file) for file in BreakThrough_csv_files]\n",
      "C:\\Users\\sethl\\AppData\\Local\\Temp\\ipykernel_19132\\1145724364.py:12: DtypeWarning: Columns (45,61,62) have mixed types. Specify dtype option on import or set low_memory=False.\n",
      "  BreakThrough_dfs = [pd.read_csv(file) for file in BreakThrough_csv_files]\n",
      "C:\\Users\\sethl\\AppData\\Local\\Temp\\ipykernel_19132\\1145724364.py:12: DtypeWarning: Columns (61) have mixed types. Specify dtype option on import or set low_memory=False.\n",
      "  BreakThrough_dfs = [pd.read_csv(file) for file in BreakThrough_csv_files]\n",
      "C:\\Users\\sethl\\AppData\\Local\\Temp\\ipykernel_19132\\1145724364.py:12: DtypeWarning: Columns (61) have mixed types. Specify dtype option on import or set low_memory=False.\n",
      "  BreakThrough_dfs = [pd.read_csv(file) for file in BreakThrough_csv_files]\n",
      "C:\\Users\\sethl\\AppData\\Local\\Temp\\ipykernel_19132\\1145724364.py:12: DtypeWarning: Columns (61) have mixed types. Specify dtype option on import or set low_memory=False.\n",
      "  BreakThrough_dfs = [pd.read_csv(file) for file in BreakThrough_csv_files]\n",
      "C:\\Users\\sethl\\AppData\\Local\\Temp\\ipykernel_19132\\1145724364.py:12: DtypeWarning: Columns (61) have mixed types. Specify dtype option on import or set low_memory=False.\n",
      "  BreakThrough_dfs = [pd.read_csv(file) for file in BreakThrough_csv_files]\n",
      "C:\\Users\\sethl\\AppData\\Local\\Temp\\ipykernel_19132\\1145724364.py:12: DtypeWarning: Columns (61) have mixed types. Specify dtype option on import or set low_memory=False.\n",
      "  BreakThrough_dfs = [pd.read_csv(file) for file in BreakThrough_csv_files]\n",
      "C:\\Users\\sethl\\AppData\\Local\\Temp\\ipykernel_19132\\1145724364.py:12: DtypeWarning: Columns (61) have mixed types. Specify dtype option on import or set low_memory=False.\n",
      "  BreakThrough_dfs = [pd.read_csv(file) for file in BreakThrough_csv_files]\n",
      "C:\\Users\\sethl\\AppData\\Local\\Temp\\ipykernel_19132\\1145724364.py:12: DtypeWarning: Columns (61) have mixed types. Specify dtype option on import or set low_memory=False.\n",
      "  BreakThrough_dfs = [pd.read_csv(file) for file in BreakThrough_csv_files]\n",
      "C:\\Users\\sethl\\AppData\\Local\\Temp\\ipykernel_19132\\1145724364.py:12: DtypeWarning: Columns (61,62) have mixed types. Specify dtype option on import or set low_memory=False.\n",
      "  BreakThrough_dfs = [pd.read_csv(file) for file in BreakThrough_csv_files]\n",
      "C:\\Users\\sethl\\AppData\\Local\\Temp\\ipykernel_19132\\1145724364.py:12: DtypeWarning: Columns (61) have mixed types. Specify dtype option on import or set low_memory=False.\n",
      "  BreakThrough_dfs = [pd.read_csv(file) for file in BreakThrough_csv_files]\n",
      "C:\\Users\\sethl\\AppData\\Local\\Temp\\ipykernel_19132\\1145724364.py:12: DtypeWarning: Columns (61) have mixed types. Specify dtype option on import or set low_memory=False.\n",
      "  BreakThrough_dfs = [pd.read_csv(file) for file in BreakThrough_csv_files]\n",
      "C:\\Users\\sethl\\AppData\\Local\\Temp\\ipykernel_19132\\1145724364.py:12: DtypeWarning: Columns (61) have mixed types. Specify dtype option on import or set low_memory=False.\n",
      "  BreakThrough_dfs = [pd.read_csv(file) for file in BreakThrough_csv_files]\n",
      "C:\\Users\\sethl\\AppData\\Local\\Temp\\ipykernel_19132\\1145724364.py:12: DtypeWarning: Columns (61) have mixed types. Specify dtype option on import or set low_memory=False.\n",
      "  BreakThrough_dfs = [pd.read_csv(file) for file in BreakThrough_csv_files]\n",
      "C:\\Users\\sethl\\AppData\\Local\\Temp\\ipykernel_19132\\1145724364.py:12: DtypeWarning: Columns (61) have mixed types. Specify dtype option on import or set low_memory=False.\n",
      "  BreakThrough_dfs = [pd.read_csv(file) for file in BreakThrough_csv_files]\n",
      "C:\\Users\\sethl\\AppData\\Local\\Temp\\ipykernel_19132\\1145724364.py:12: DtypeWarning: Columns (61,62) have mixed types. Specify dtype option on import or set low_memory=False.\n",
      "  BreakThrough_dfs = [pd.read_csv(file) for file in BreakThrough_csv_files]\n",
      "C:\\Users\\sethl\\AppData\\Local\\Temp\\ipykernel_19132\\1145724364.py:12: DtypeWarning: Columns (62) have mixed types. Specify dtype option on import or set low_memory=False.\n",
      "  BreakThrough_dfs = [pd.read_csv(file) for file in BreakThrough_csv_files]\n",
      "C:\\Users\\sethl\\AppData\\Local\\Temp\\ipykernel_19132\\1145724364.py:12: DtypeWarning: Columns (61) have mixed types. Specify dtype option on import or set low_memory=False.\n",
      "  BreakThrough_dfs = [pd.read_csv(file) for file in BreakThrough_csv_files]\n",
      "C:\\Users\\sethl\\AppData\\Local\\Temp\\ipykernel_19132\\1145724364.py:12: DtypeWarning: Columns (61) have mixed types. Specify dtype option on import or set low_memory=False.\n",
      "  BreakThrough_dfs = [pd.read_csv(file) for file in BreakThrough_csv_files]\n",
      "C:\\Users\\sethl\\AppData\\Local\\Temp\\ipykernel_19132\\1145724364.py:12: DtypeWarning: Columns (61,62) have mixed types. Specify dtype option on import or set low_memory=False.\n",
      "  BreakThrough_dfs = [pd.read_csv(file) for file in BreakThrough_csv_files]\n",
      "C:\\Users\\sethl\\AppData\\Local\\Temp\\ipykernel_19132\\1145724364.py:12: DtypeWarning: Columns (61) have mixed types. Specify dtype option on import or set low_memory=False.\n",
      "  BreakThrough_dfs = [pd.read_csv(file) for file in BreakThrough_csv_files]\n",
      "C:\\Users\\sethl\\AppData\\Local\\Temp\\ipykernel_19132\\1145724364.py:12: DtypeWarning: Columns (61) have mixed types. Specify dtype option on import or set low_memory=False.\n",
      "  BreakThrough_dfs = [pd.read_csv(file) for file in BreakThrough_csv_files]\n",
      "C:\\Users\\sethl\\AppData\\Local\\Temp\\ipykernel_19132\\1145724364.py:12: DtypeWarning: Columns (61) have mixed types. Specify dtype option on import or set low_memory=False.\n",
      "  BreakThrough_dfs = [pd.read_csv(file) for file in BreakThrough_csv_files]\n",
      "C:\\Users\\sethl\\AppData\\Local\\Temp\\ipykernel_19132\\1145724364.py:12: DtypeWarning: Columns (61) have mixed types. Specify dtype option on import or set low_memory=False.\n",
      "  BreakThrough_dfs = [pd.read_csv(file) for file in BreakThrough_csv_files]\n",
      "C:\\Users\\sethl\\AppData\\Local\\Temp\\ipykernel_19132\\1145724364.py:12: DtypeWarning: Columns (61) have mixed types. Specify dtype option on import or set low_memory=False.\n",
      "  BreakThrough_dfs = [pd.read_csv(file) for file in BreakThrough_csv_files]\n",
      "C:\\Users\\sethl\\AppData\\Local\\Temp\\ipykernel_19132\\1145724364.py:12: DtypeWarning: Columns (61,62) have mixed types. Specify dtype option on import or set low_memory=False.\n",
      "  BreakThrough_dfs = [pd.read_csv(file) for file in BreakThrough_csv_files]\n",
      "C:\\Users\\sethl\\AppData\\Local\\Temp\\ipykernel_19132\\1145724364.py:12: DtypeWarning: Columns (61) have mixed types. Specify dtype option on import or set low_memory=False.\n",
      "  BreakThrough_dfs = [pd.read_csv(file) for file in BreakThrough_csv_files]\n",
      "C:\\Users\\sethl\\AppData\\Local\\Temp\\ipykernel_19132\\1145724364.py:12: DtypeWarning: Columns (61) have mixed types. Specify dtype option on import or set low_memory=False.\n",
      "  BreakThrough_dfs = [pd.read_csv(file) for file in BreakThrough_csv_files]\n",
      "C:\\Users\\sethl\\AppData\\Local\\Temp\\ipykernel_19132\\1145724364.py:12: DtypeWarning: Columns (61) have mixed types. Specify dtype option on import or set low_memory=False.\n",
      "  BreakThrough_dfs = [pd.read_csv(file) for file in BreakThrough_csv_files]\n",
      "C:\\Users\\sethl\\AppData\\Local\\Temp\\ipykernel_19132\\1145724364.py:12: DtypeWarning: Columns (61) have mixed types. Specify dtype option on import or set low_memory=False.\n",
      "  BreakThrough_dfs = [pd.read_csv(file) for file in BreakThrough_csv_files]\n",
      "C:\\Users\\sethl\\AppData\\Local\\Temp\\ipykernel_19132\\1145724364.py:12: DtypeWarning: Columns (61) have mixed types. Specify dtype option on import or set low_memory=False.\n",
      "  BreakThrough_dfs = [pd.read_csv(file) for file in BreakThrough_csv_files]\n",
      "C:\\Users\\sethl\\AppData\\Local\\Temp\\ipykernel_19132\\1145724364.py:12: DtypeWarning: Columns (61) have mixed types. Specify dtype option on import or set low_memory=False.\n",
      "  BreakThrough_dfs = [pd.read_csv(file) for file in BreakThrough_csv_files]\n",
      "C:\\Users\\sethl\\AppData\\Local\\Temp\\ipykernel_19132\\1145724364.py:12: DtypeWarning: Columns (62) have mixed types. Specify dtype option on import or set low_memory=False.\n",
      "  BreakThrough_dfs = [pd.read_csv(file) for file in BreakThrough_csv_files]\n",
      "C:\\Users\\sethl\\AppData\\Local\\Temp\\ipykernel_19132\\1145724364.py:12: DtypeWarning: Columns (61,62) have mixed types. Specify dtype option on import or set low_memory=False.\n",
      "  BreakThrough_dfs = [pd.read_csv(file) for file in BreakThrough_csv_files]\n",
      "C:\\Users\\sethl\\AppData\\Local\\Temp\\ipykernel_19132\\1145724364.py:12: DtypeWarning: Columns (61) have mixed types. Specify dtype option on import or set low_memory=False.\n",
      "  BreakThrough_dfs = [pd.read_csv(file) for file in BreakThrough_csv_files]\n",
      "C:\\Users\\sethl\\AppData\\Local\\Temp\\ipykernel_19132\\1145724364.py:12: DtypeWarning: Columns (61) have mixed types. Specify dtype option on import or set low_memory=False.\n",
      "  BreakThrough_dfs = [pd.read_csv(file) for file in BreakThrough_csv_files]\n",
      "C:\\Users\\sethl\\AppData\\Local\\Temp\\ipykernel_19132\\1145724364.py:12: DtypeWarning: Columns (61) have mixed types. Specify dtype option on import or set low_memory=False.\n",
      "  BreakThrough_dfs = [pd.read_csv(file) for file in BreakThrough_csv_files]\n",
      "C:\\Users\\sethl\\AppData\\Local\\Temp\\ipykernel_19132\\1145724364.py:12: DtypeWarning: Columns (45,61) have mixed types. Specify dtype option on import or set low_memory=False.\n",
      "  BreakThrough_dfs = [pd.read_csv(file) for file in BreakThrough_csv_files]\n",
      "C:\\Users\\sethl\\AppData\\Local\\Temp\\ipykernel_19132\\1145724364.py:12: DtypeWarning: Columns (61) have mixed types. Specify dtype option on import or set low_memory=False.\n",
      "  BreakThrough_dfs = [pd.read_csv(file) for file in BreakThrough_csv_files]\n",
      "C:\\Users\\sethl\\AppData\\Local\\Temp\\ipykernel_19132\\1145724364.py:12: DtypeWarning: Columns (61,62) have mixed types. Specify dtype option on import or set low_memory=False.\n",
      "  BreakThrough_dfs = [pd.read_csv(file) for file in BreakThrough_csv_files]\n",
      "C:\\Users\\sethl\\AppData\\Local\\Temp\\ipykernel_19132\\1145724364.py:12: DtypeWarning: Columns (61) have mixed types. Specify dtype option on import or set low_memory=False.\n",
      "  BreakThrough_dfs = [pd.read_csv(file) for file in BreakThrough_csv_files]\n",
      "C:\\Users\\sethl\\AppData\\Local\\Temp\\ipykernel_19132\\1145724364.py:12: DtypeWarning: Columns (61) have mixed types. Specify dtype option on import or set low_memory=False.\n",
      "  BreakThrough_dfs = [pd.read_csv(file) for file in BreakThrough_csv_files]\n",
      "C:\\Users\\sethl\\AppData\\Local\\Temp\\ipykernel_19132\\1145724364.py:12: DtypeWarning: Columns (61) have mixed types. Specify dtype option on import or set low_memory=False.\n",
      "  BreakThrough_dfs = [pd.read_csv(file) for file in BreakThrough_csv_files]\n",
      "C:\\Users\\sethl\\AppData\\Local\\Temp\\ipykernel_19132\\1145724364.py:12: DtypeWarning: Columns (61) have mixed types. Specify dtype option on import or set low_memory=False.\n",
      "  BreakThrough_dfs = [pd.read_csv(file) for file in BreakThrough_csv_files]\n",
      "C:\\Users\\sethl\\AppData\\Local\\Temp\\ipykernel_19132\\1145724364.py:12: DtypeWarning: Columns (61) have mixed types. Specify dtype option on import or set low_memory=False.\n",
      "  BreakThrough_dfs = [pd.read_csv(file) for file in BreakThrough_csv_files]\n",
      "C:\\Users\\sethl\\AppData\\Local\\Temp\\ipykernel_19132\\1145724364.py:12: DtypeWarning: Columns (61) have mixed types. Specify dtype option on import or set low_memory=False.\n",
      "  BreakThrough_dfs = [pd.read_csv(file) for file in BreakThrough_csv_files]\n",
      "C:\\Users\\sethl\\AppData\\Local\\Temp\\ipykernel_19132\\1145724364.py:12: DtypeWarning: Columns (61) have mixed types. Specify dtype option on import or set low_memory=False.\n",
      "  BreakThrough_dfs = [pd.read_csv(file) for file in BreakThrough_csv_files]\n",
      "C:\\Users\\sethl\\AppData\\Local\\Temp\\ipykernel_19132\\1145724364.py:12: DtypeWarning: Columns (61) have mixed types. Specify dtype option on import or set low_memory=False.\n",
      "  BreakThrough_dfs = [pd.read_csv(file) for file in BreakThrough_csv_files]\n",
      "C:\\Users\\sethl\\AppData\\Local\\Temp\\ipykernel_19132\\1145724364.py:12: DtypeWarning: Columns (61) have mixed types. Specify dtype option on import or set low_memory=False.\n",
      "  BreakThrough_dfs = [pd.read_csv(file) for file in BreakThrough_csv_files]\n",
      "C:\\Users\\sethl\\AppData\\Local\\Temp\\ipykernel_19132\\1145724364.py:12: DtypeWarning: Columns (61) have mixed types. Specify dtype option on import or set low_memory=False.\n",
      "  BreakThrough_dfs = [pd.read_csv(file) for file in BreakThrough_csv_files]\n",
      "C:\\Users\\sethl\\AppData\\Local\\Temp\\ipykernel_19132\\1145724364.py:12: DtypeWarning: Columns (61) have mixed types. Specify dtype option on import or set low_memory=False.\n",
      "  BreakThrough_dfs = [pd.read_csv(file) for file in BreakThrough_csv_files]\n",
      "C:\\Users\\sethl\\AppData\\Local\\Temp\\ipykernel_19132\\1145724364.py:12: DtypeWarning: Columns (61) have mixed types. Specify dtype option on import or set low_memory=False.\n",
      "  BreakThrough_dfs = [pd.read_csv(file) for file in BreakThrough_csv_files]\n",
      "C:\\Users\\sethl\\AppData\\Local\\Temp\\ipykernel_19132\\1145724364.py:12: DtypeWarning: Columns (61,62) have mixed types. Specify dtype option on import or set low_memory=False.\n",
      "  BreakThrough_dfs = [pd.read_csv(file) for file in BreakThrough_csv_files]\n",
      "C:\\Users\\sethl\\AppData\\Local\\Temp\\ipykernel_19132\\1145724364.py:12: DtypeWarning: Columns (61) have mixed types. Specify dtype option on import or set low_memory=False.\n",
      "  BreakThrough_dfs = [pd.read_csv(file) for file in BreakThrough_csv_files]\n",
      "C:\\Users\\sethl\\AppData\\Local\\Temp\\ipykernel_19132\\1145724364.py:12: DtypeWarning: Columns (61) have mixed types. Specify dtype option on import or set low_memory=False.\n",
      "  BreakThrough_dfs = [pd.read_csv(file) for file in BreakThrough_csv_files]\n",
      "C:\\Users\\sethl\\AppData\\Local\\Temp\\ipykernel_19132\\1145724364.py:12: DtypeWarning: Columns (45,61) have mixed types. Specify dtype option on import or set low_memory=False.\n",
      "  BreakThrough_dfs = [pd.read_csv(file) for file in BreakThrough_csv_files]\n",
      "C:\\Users\\sethl\\AppData\\Local\\Temp\\ipykernel_19132\\1145724364.py:12: DtypeWarning: Columns (61,62) have mixed types. Specify dtype option on import or set low_memory=False.\n",
      "  BreakThrough_dfs = [pd.read_csv(file) for file in BreakThrough_csv_files]\n",
      "C:\\Users\\sethl\\AppData\\Local\\Temp\\ipykernel_19132\\1145724364.py:12: DtypeWarning: Columns (61) have mixed types. Specify dtype option on import or set low_memory=False.\n",
      "  BreakThrough_dfs = [pd.read_csv(file) for file in BreakThrough_csv_files]\n",
      "C:\\Users\\sethl\\AppData\\Local\\Temp\\ipykernel_19132\\1145724364.py:12: DtypeWarning: Columns (61) have mixed types. Specify dtype option on import or set low_memory=False.\n",
      "  BreakThrough_dfs = [pd.read_csv(file) for file in BreakThrough_csv_files]\n",
      "C:\\Users\\sethl\\AppData\\Local\\Temp\\ipykernel_19132\\1145724364.py:12: DtypeWarning: Columns (61) have mixed types. Specify dtype option on import or set low_memory=False.\n",
      "  BreakThrough_dfs = [pd.read_csv(file) for file in BreakThrough_csv_files]\n",
      "C:\\Users\\sethl\\AppData\\Local\\Temp\\ipykernel_19132\\1145724364.py:12: DtypeWarning: Columns (45,61) have mixed types. Specify dtype option on import or set low_memory=False.\n",
      "  BreakThrough_dfs = [pd.read_csv(file) for file in BreakThrough_csv_files]\n",
      "C:\\Users\\sethl\\AppData\\Local\\Temp\\ipykernel_19132\\1145724364.py:12: DtypeWarning: Columns (61) have mixed types. Specify dtype option on import or set low_memory=False.\n",
      "  BreakThrough_dfs = [pd.read_csv(file) for file in BreakThrough_csv_files]\n",
      "C:\\Users\\sethl\\AppData\\Local\\Temp\\ipykernel_19132\\1145724364.py:12: DtypeWarning: Columns (61,62) have mixed types. Specify dtype option on import or set low_memory=False.\n",
      "  BreakThrough_dfs = [pd.read_csv(file) for file in BreakThrough_csv_files]\n",
      "C:\\Users\\sethl\\AppData\\Local\\Temp\\ipykernel_19132\\1145724364.py:12: DtypeWarning: Columns (61) have mixed types. Specify dtype option on import or set low_memory=False.\n",
      "  BreakThrough_dfs = [pd.read_csv(file) for file in BreakThrough_csv_files]\n",
      "C:\\Users\\sethl\\AppData\\Local\\Temp\\ipykernel_19132\\1145724364.py:12: DtypeWarning: Columns (61,62) have mixed types. Specify dtype option on import or set low_memory=False.\n",
      "  BreakThrough_dfs = [pd.read_csv(file) for file in BreakThrough_csv_files]\n",
      "C:\\Users\\sethl\\AppData\\Local\\Temp\\ipykernel_19132\\1145724364.py:12: DtypeWarning: Columns (61) have mixed types. Specify dtype option on import or set low_memory=False.\n",
      "  BreakThrough_dfs = [pd.read_csv(file) for file in BreakThrough_csv_files]\n",
      "C:\\Users\\sethl\\AppData\\Local\\Temp\\ipykernel_19132\\1145724364.py:12: DtypeWarning: Columns (62) have mixed types. Specify dtype option on import or set low_memory=False.\n",
      "  BreakThrough_dfs = [pd.read_csv(file) for file in BreakThrough_csv_files]\n",
      "C:\\Users\\sethl\\AppData\\Local\\Temp\\ipykernel_19132\\1145724364.py:12: DtypeWarning: Columns (61) have mixed types. Specify dtype option on import or set low_memory=False.\n",
      "  BreakThrough_dfs = [pd.read_csv(file) for file in BreakThrough_csv_files]\n",
      "C:\\Users\\sethl\\AppData\\Local\\Temp\\ipykernel_19132\\1145724364.py:12: DtypeWarning: Columns (45,61) have mixed types. Specify dtype option on import or set low_memory=False.\n",
      "  BreakThrough_dfs = [pd.read_csv(file) for file in BreakThrough_csv_files]\n",
      "C:\\Users\\sethl\\AppData\\Local\\Temp\\ipykernel_19132\\1145724364.py:12: DtypeWarning: Columns (61) have mixed types. Specify dtype option on import or set low_memory=False.\n",
      "  BreakThrough_dfs = [pd.read_csv(file) for file in BreakThrough_csv_files]\n",
      "C:\\Users\\sethl\\AppData\\Local\\Temp\\ipykernel_19132\\1145724364.py:12: DtypeWarning: Columns (45,61) have mixed types. Specify dtype option on import or set low_memory=False.\n",
      "  BreakThrough_dfs = [pd.read_csv(file) for file in BreakThrough_csv_files]\n",
      "C:\\Users\\sethl\\AppData\\Local\\Temp\\ipykernel_19132\\1145724364.py:12: DtypeWarning: Columns (45,61,62) have mixed types. Specify dtype option on import or set low_memory=False.\n",
      "  BreakThrough_dfs = [pd.read_csv(file) for file in BreakThrough_csv_files]\n",
      "C:\\Users\\sethl\\AppData\\Local\\Temp\\ipykernel_19132\\1145724364.py:12: DtypeWarning: Columns (61) have mixed types. Specify dtype option on import or set low_memory=False.\n",
      "  BreakThrough_dfs = [pd.read_csv(file) for file in BreakThrough_csv_files]\n",
      "C:\\Users\\sethl\\AppData\\Local\\Temp\\ipykernel_19132\\1145724364.py:12: DtypeWarning: Columns (61) have mixed types. Specify dtype option on import or set low_memory=False.\n",
      "  BreakThrough_dfs = [pd.read_csv(file) for file in BreakThrough_csv_files]\n",
      "C:\\Users\\sethl\\AppData\\Local\\Temp\\ipykernel_19132\\1145724364.py:12: DtypeWarning: Columns (61) have mixed types. Specify dtype option on import or set low_memory=False.\n",
      "  BreakThrough_dfs = [pd.read_csv(file) for file in BreakThrough_csv_files]\n",
      "C:\\Users\\sethl\\AppData\\Local\\Temp\\ipykernel_19132\\1145724364.py:12: DtypeWarning: Columns (61) have mixed types. Specify dtype option on import or set low_memory=False.\n",
      "  BreakThrough_dfs = [pd.read_csv(file) for file in BreakThrough_csv_files]\n",
      "C:\\Users\\sethl\\AppData\\Local\\Temp\\ipykernel_19132\\1145724364.py:12: DtypeWarning: Columns (61) have mixed types. Specify dtype option on import or set low_memory=False.\n",
      "  BreakThrough_dfs = [pd.read_csv(file) for file in BreakThrough_csv_files]\n",
      "C:\\Users\\sethl\\AppData\\Local\\Temp\\ipykernel_19132\\1145724364.py:12: DtypeWarning: Columns (61) have mixed types. Specify dtype option on import or set low_memory=False.\n",
      "  BreakThrough_dfs = [pd.read_csv(file) for file in BreakThrough_csv_files]\n",
      "C:\\Users\\sethl\\AppData\\Local\\Temp\\ipykernel_19132\\1145724364.py:12: DtypeWarning: Columns (61) have mixed types. Specify dtype option on import or set low_memory=False.\n",
      "  BreakThrough_dfs = [pd.read_csv(file) for file in BreakThrough_csv_files]\n",
      "C:\\Users\\sethl\\AppData\\Local\\Temp\\ipykernel_19132\\1145724364.py:12: DtypeWarning: Columns (61) have mixed types. Specify dtype option on import or set low_memory=False.\n",
      "  BreakThrough_dfs = [pd.read_csv(file) for file in BreakThrough_csv_files]\n",
      "C:\\Users\\sethl\\AppData\\Local\\Temp\\ipykernel_19132\\1145724364.py:12: DtypeWarning: Columns (61) have mixed types. Specify dtype option on import or set low_memory=False.\n",
      "  BreakThrough_dfs = [pd.read_csv(file) for file in BreakThrough_csv_files]\n",
      "C:\\Users\\sethl\\AppData\\Local\\Temp\\ipykernel_19132\\1145724364.py:12: DtypeWarning: Columns (61) have mixed types. Specify dtype option on import or set low_memory=False.\n",
      "  BreakThrough_dfs = [pd.read_csv(file) for file in BreakThrough_csv_files]\n",
      "C:\\Users\\sethl\\AppData\\Local\\Temp\\ipykernel_19132\\1145724364.py:12: DtypeWarning: Columns (61) have mixed types. Specify dtype option on import or set low_memory=False.\n",
      "  BreakThrough_dfs = [pd.read_csv(file) for file in BreakThrough_csv_files]\n",
      "C:\\Users\\sethl\\AppData\\Local\\Temp\\ipykernel_19132\\1145724364.py:12: DtypeWarning: Columns (61) have mixed types. Specify dtype option on import or set low_memory=False.\n",
      "  BreakThrough_dfs = [pd.read_csv(file) for file in BreakThrough_csv_files]\n",
      "C:\\Users\\sethl\\AppData\\Local\\Temp\\ipykernel_19132\\1145724364.py:12: DtypeWarning: Columns (61) have mixed types. Specify dtype option on import or set low_memory=False.\n",
      "  BreakThrough_dfs = [pd.read_csv(file) for file in BreakThrough_csv_files]\n",
      "C:\\Users\\sethl\\AppData\\Local\\Temp\\ipykernel_19132\\1145724364.py:12: DtypeWarning: Columns (45,61,62) have mixed types. Specify dtype option on import or set low_memory=False.\n",
      "  BreakThrough_dfs = [pd.read_csv(file) for file in BreakThrough_csv_files]\n",
      "C:\\Users\\sethl\\AppData\\Local\\Temp\\ipykernel_19132\\1145724364.py:12: DtypeWarning: Columns (61) have mixed types. Specify dtype option on import or set low_memory=False.\n",
      "  BreakThrough_dfs = [pd.read_csv(file) for file in BreakThrough_csv_files]\n",
      "C:\\Users\\sethl\\AppData\\Local\\Temp\\ipykernel_19132\\1145724364.py:12: DtypeWarning: Columns (61) have mixed types. Specify dtype option on import or set low_memory=False.\n",
      "  BreakThrough_dfs = [pd.read_csv(file) for file in BreakThrough_csv_files]\n",
      "C:\\Users\\sethl\\AppData\\Local\\Temp\\ipykernel_19132\\1145724364.py:12: DtypeWarning: Columns (61) have mixed types. Specify dtype option on import or set low_memory=False.\n",
      "  BreakThrough_dfs = [pd.read_csv(file) for file in BreakThrough_csv_files]\n",
      "C:\\Users\\sethl\\AppData\\Local\\Temp\\ipykernel_19132\\1145724364.py:12: DtypeWarning: Columns (61) have mixed types. Specify dtype option on import or set low_memory=False.\n",
      "  BreakThrough_dfs = [pd.read_csv(file) for file in BreakThrough_csv_files]\n",
      "C:\\Users\\sethl\\AppData\\Local\\Temp\\ipykernel_19132\\1145724364.py:12: DtypeWarning: Columns (45,61) have mixed types. Specify dtype option on import or set low_memory=False.\n",
      "  BreakThrough_dfs = [pd.read_csv(file) for file in BreakThrough_csv_files]\n",
      "C:\\Users\\sethl\\AppData\\Local\\Temp\\ipykernel_19132\\1145724364.py:12: DtypeWarning: Columns (61) have mixed types. Specify dtype option on import or set low_memory=False.\n",
      "  BreakThrough_dfs = [pd.read_csv(file) for file in BreakThrough_csv_files]\n",
      "C:\\Users\\sethl\\AppData\\Local\\Temp\\ipykernel_19132\\1145724364.py:12: DtypeWarning: Columns (61) have mixed types. Specify dtype option on import or set low_memory=False.\n",
      "  BreakThrough_dfs = [pd.read_csv(file) for file in BreakThrough_csv_files]\n",
      "C:\\Users\\sethl\\AppData\\Local\\Temp\\ipykernel_19132\\1145724364.py:12: DtypeWarning: Columns (61) have mixed types. Specify dtype option on import or set low_memory=False.\n",
      "  BreakThrough_dfs = [pd.read_csv(file) for file in BreakThrough_csv_files]\n",
      "C:\\Users\\sethl\\AppData\\Local\\Temp\\ipykernel_19132\\1145724364.py:12: DtypeWarning: Columns (61) have mixed types. Specify dtype option on import or set low_memory=False.\n",
      "  BreakThrough_dfs = [pd.read_csv(file) for file in BreakThrough_csv_files]\n",
      "C:\\Users\\sethl\\AppData\\Local\\Temp\\ipykernel_19132\\1145724364.py:12: DtypeWarning: Columns (61) have mixed types. Specify dtype option on import or set low_memory=False.\n",
      "  BreakThrough_dfs = [pd.read_csv(file) for file in BreakThrough_csv_files]\n"
     ]
    }
   ],
   "source": [
    "breakthrough_filepath = \"C:/Users/sethl/OneDrive/Important Stuff/R/R files/NFL/DataBowl/2024-Big-Data-Bowl/BreakThroughChunks\"\n",
    "\n",
    "# List all files in the data folder\n",
    "BreakThrough_file_list = os.listdir(breakthrough_filepath)\n",
    "\n",
    "# Use glob to filter specific file types\n",
    "BreakThrough_csv_files = glob.glob(os.path.join(breakthrough_filepath, \"*.csv\"))\n",
    "\n",
    "#Breakthrough_df_output = pd.read_csv(BreakThrough_csv_files[0])\n",
    "\n",
    "# Read in the weekly game data and concat into one combined df\n",
    "BreakThrough_dfs = [pd.read_csv(file) for file in BreakThrough_csv_files]\n",
    "BreakThrough_df_output = pd.concat(BreakThrough_dfs, ignore_index=True)"
   ]
  },
  {
   "cell_type": "code",
   "execution_count": 55,
   "metadata": {},
   "outputs": [],
   "source": [
    "Breakplay = pd.DataFrame()\n",
    "ExtraWork = BreakThrough_df_output.copy()\n",
    "\n",
    "\n",
    "FiltVor = ExtraWork[(ExtraWork[\"passResult\"] == \"C\") &\\\n",
    "                     (ExtraWork[\"playDirection\"] == \"right\") &\\\n",
    "                     (ExtraWork[\"end_frame\"] >= 25)]\n",
    "\n",
    "\n",
    "Breakplay[\"Shielding\"] = FiltVor.groupby([\"gameId\", \"playId\"])[\"Covering\"].mean()\n",
    "\n",
    "Breakplay = Breakplay.sort_values(by=['Shielding'], ascending = False).reset_index()\n",
    "\n"
   ]
  },
  {
   "cell_type": "code",
   "execution_count": 64,
   "metadata": {},
   "outputs": [],
   "source": [
    "SpecificBreakPlay = BreakThrough_df_output[(BreakThrough_df_output[\"gameId\"] == 2022100600         ) & \\\n",
    "                                           (BreakThrough_df_output[\"playId\"] == 226)]"
   ]
  },
  {
   "cell_type": "code",
   "execution_count": null,
   "metadata": {},
   "outputs": [],
   "source": [
    "SpecificBreakPlay.to_csv(\"C:/Users/sethl/OneDrive/Important Stuff/R/R files/NFL/DataBowl/2024-Big-Data-Bowl/Created_DF/viz_play_values.csv\", index=False)\n"
   ]
  },
  {
   "cell_type": "code",
   "execution_count": 58,
   "metadata": {},
   "outputs": [
    {
     "name": "stdout",
     "output_type": "stream",
     "text": [
      "       gameId  playId  Shielding\n",
      "0  2022110607    1384   0.669231\n",
      "1  2022100600     226   0.666667\n",
      "2  2022101611    3145   0.635468\n",
      "3  2022102302    1570   0.632653\n",
      "4  2022100206    1798   0.625000\n",
      "5  2022101603     726   0.615385\n",
      "6  2022091105    1170   0.594595\n",
      "7  2022092511     656   0.593750\n",
      "8  2022110606    1107   0.585714\n",
      "9  2022110608    1403   0.579070\n"
     ]
    }
   ],
   "source": [
    "print(Breakplay)"
   ]
  },
  {
   "cell_type": "markdown",
   "metadata": {},
   "source": [
    "## YAC Prevented "
   ]
  },
  {
   "cell_type": "code",
   "execution_count": 2,
   "metadata": {},
   "outputs": [
    {
     "name": "stderr",
     "output_type": "stream",
     "text": [
      "C:\\Users\\sethl\\AppData\\Local\\Temp\\ipykernel_14744\\830041146.py:1: DtypeWarning: Columns (61,62) have mixed types. Specify dtype option on import or set low_memory=False.\n",
      "  Shielding = pd.read_csv(\"C:/Users/sethl/OneDrive/Important Stuff/R/R files/NFL/DataBowl/2024-Big-Data-Bowl/Created_DF/AllGamesBreakthrough.csv\")\n",
      "C:\\Users\\sethl\\AppData\\Local\\Temp\\ipykernel_14744\\830041146.py:3: DtypeWarning: Columns (61,62) have mixed types. Specify dtype option on import or set low_memory=False.\n",
      "  Deviation = pd.read_csv(\"C:/Users/sethl/OneDrive/Important Stuff/R/R files/NFL/DataBowl/2024-Big-Data-Bowl/Created_DF/AllGamesDeviation.csv\")\n"
     ]
    }
   ],
   "source": [
    "Shielding = pd.read_csv(\"C:/Users/sethl/OneDrive/Important Stuff/R/R files/NFL/DataBowl/2024-Big-Data-Bowl/Created_DF/AllGamesBreakthrough.csv\")\n",
    "Voronoi = pd.read_csv(\"C:/Users/sethl/OneDrive/Important Stuff/R/R files/NFL/DataBowl/2024-Big-Data-Bowl/Created_DF/AllGamesDefenseClosest.csv\")\n",
    "Deviation = pd.read_csv(\"C:/Users/sethl/OneDrive/Important Stuff/R/R files/NFL/DataBowl/2024-Big-Data-Bowl/Created_DF/AllGamesDeviation.csv\")\n",
    "VOR_df_output = pd.read_csv(\"C:/Users/sethl/OneDrive/Important Stuff/R/R files/NFL/DataBowl/2024-Big-Data-Bowl/Created_DF/AllGamesYAC.csv\")\n"
   ]
  },
  {
   "cell_type": "code",
   "execution_count": 5,
   "metadata": {},
   "outputs": [],
   "source": [
    "Voronoi = pd.merge(VOR_df_output, Voronoi, on = [\"gameId\", \"playId\", \"frameId\"])\n"
   ]
  },
  {
   "cell_type": "code",
   "execution_count": 7,
   "metadata": {},
   "outputs": [],
   "source": [
    "Shielding = Shielding[[\"gameId\", \"playId\", \"frameId\", \"nflId\", \"Covering\"]]\n",
    "Voronoi = Voronoi[[\"gameId\", \"playId\", \"frameId\", \"nflId_y\", \"adjusted_change\"]]\n",
    "Deviation = Deviation[[\"gameId\", \"playId\", \"frameId\", \"nflId\", \"Deviation\"]]\n"
   ]
  },
  {
   "cell_type": "code",
   "execution_count": 10,
   "metadata": {},
   "outputs": [],
   "source": [
    "Combo_Components = pd.merge(Deviation, Shielding, on = [\"gameId\", \"playId\", \"frameId\", \"nflId\"])\n",
    "\n",
    "Combo_Components = pd.merge(Combo_Components, Voronoi, \n",
    "                            left_on = [\"gameId\", \"playId\", \"frameId\", \"nflId\"],\n",
    "                            right_on = [\"gameId\", \"playId\", \"frameId\", \"nflId_y\"]\n",
    "                            )\n",
    "\n",
    "Combo_Components = Combo_Components.drop(\"nflId_y\", axis = 1)"
   ]
  },
  {
   "cell_type": "code",
   "execution_count": 11,
   "metadata": {},
   "outputs": [],
   "source": [
    "Combo_Components.to_csv(\"C:/Users/sethl/OneDrive/Important Stuff/R/R files/NFL/DataBowl/2024-Big-Data-Bowl/Created_DF/AllGamesComboComponents.csv\")\n"
   ]
  },
  {
   "cell_type": "markdown",
   "metadata": {},
   "source": [
    "### Yac"
   ]
  },
  {
   "cell_type": "code",
   "execution_count": 9,
   "metadata": {},
   "outputs": [],
   "source": [
    "YAC = ModelingDF.copy()\n",
    "\n",
    "first_frame = YAC[YAC[\"GotTheBall\"] == 1].groupby([\"gameId\", \"playId\"]).transform(\"first\")\n",
    "last_frame = YAC[YAC[\"GotTheBall\"] == 1].groupby([\"gameId\", \"playId\"]).transform(\"last\")\n",
    "YAC[\"StartBall_x\"] = first_frame[\"clean_x\"]\n",
    "YAC[\"EndBall_x\"] = last_frame[\"clean_x\"]\n",
    "\n",
    "YAC[\"YardsAfterCatch\"] = YAC[\"EndBall_x\"] - YAC[\"StartBall_x\"]\n",
    "YAC.dropna(subset=\"StartBall_x\")\n",
    "\n",
    "YAC_play = YAC.groupby([\"gameId\",\"playId\"])[\"YardsAfterCatch\"].max()\n",
    "YAC_play = YAC_play.reset_index()"
   ]
  },
  {
   "cell_type": "code",
   "execution_count": null,
   "metadata": {},
   "outputs": [],
   "source": [
    "Combo_Components = pd.read_csv(\"C:/Users/sethl/OneDrive/Important Stuff/R/R files/NFL/DataBowl/2024-Big-Data-Bowl/Created_DF/AllGamesComboComponents.csv\")\n"
   ]
  },
  {
   "cell_type": "code",
   "execution_count": 12,
   "metadata": {},
   "outputs": [],
   "source": [
    "Combo_Components_Play = pd.DataFrame()\n",
    "Combo_Components_Play[\"Deviation\"] = Combo_Components.groupby([\"gameId\", \"playId\"])[\"Deviation\"].mean()\n",
    "Combo_Components_Play[\"Shielding\"] = Combo_Components.groupby([\"gameId\", \"playId\"])[\"Covering\"].mean()\n",
    "Combo_Components_Play[\"Voronoi\"] = Combo_Components.groupby([\"gameId\", \"playId\"])[\"adjusted_change\"].mean()\n",
    "Combo_Components_Play = Combo_Components_Play.reset_index()"
   ]
  },
  {
   "cell_type": "code",
   "execution_count": 44,
   "metadata": {},
   "outputs": [],
   "source": [
    "YacModelDF = pd.merge(plays, YAC_play, on = [\"gameId\", \"playId\"], how = \"inner\")\n",
    "YacModelDF = pd.merge(YacModelDF, Combo_Components_Play, on = [\"gameId\", \"playId\"], how = \"inner\")\n",
    "\n",
    "YacModelDF[\"passResult\"] = YacModelDF[\"passResult\"].replace(np.nan, \"N\")\n",
    "YacModelDF[\"passLength\"] = YacModelDF[\"passLength\"].replace(np.nan, 0)\n",
    "\n",
    "YacModelDF = pd.get_dummies(YacModelDF, columns=[\"offenseFormation\"])\n",
    "YacModelDF[\"UniqueIndex\"] = YacModelDF[\"gameId\"].astype(str) + \"-\" + YacModelDF['playId'].astype(str)\n"
   ]
  },
  {
   "cell_type": "code",
   "execution_count": 14,
   "metadata": {},
   "outputs": [],
   "source": [
    "\n",
    "from sklearn import metrics\n",
    "from sklearn.linear_model import LinearRegression\n",
    "from sklearn.preprocessing import StandardScaler\n",
    "from sklearn.model_selection import GridSearchCV"
   ]
  },
  {
   "cell_type": "code",
   "execution_count": 45,
   "metadata": {},
   "outputs": [],
   "source": [
    "YacModelDF = YacModelDF[['UniqueIndex', \"quarter\", 'down', 'yardsToGo', 'preSnapHomeScore',\n",
    "                   'preSnapVisitorScore', 'passLength', 'absoluteYardlineNumber',\n",
    "                   'defendersInTheBox', 'passProbability', 'preSnapHomeTeamWinProbability',\n",
    "                   'preSnapVisitorTeamWinProbability', 'expectedPoints',\n",
    "                   'Deviation', 'Shielding', 'Voronoi',\n",
    "                   'offenseFormation_EMPTY', 'offenseFormation_I_FORM',\n",
    "                   'offenseFormation_JUMBO', 'offenseFormation_PISTOL',\n",
    "                   'offenseFormation_SHOTGUN', 'offenseFormation_SINGLEBACK', \n",
    "                   'offenseFormation_WILDCAT', \n",
    "                   'YardsAfterCatch']]\n"
   ]
  },
  {
   "cell_type": "code",
   "execution_count": 47,
   "metadata": {},
   "outputs": [],
   "source": [
    "game_ids = list(YacModelDF['UniqueIndex'].unique())\n",
    "\n",
    "random.seed(42)\n",
    "\n",
    "train_index = random.sample(game_ids, int(12366 * 0.8))\n",
    "\n",
    "\n",
    "train_x = YacModelDF[YacModelDF[\"UniqueIndex\"].apply(lambda x: x in train_index)].iloc[:, 1:23]\n",
    "\n",
    "train_y = YacModelDF[YacModelDF[\"UniqueIndex\"].apply(lambda x: x in train_index)][\"YardsAfterCatch\"]\n",
    "\n",
    "\n",
    "test_x = YacModelDF[YacModelDF[\"UniqueIndex\"].apply(lambda x: x not in train_index)].iloc[:, 1:23]\n",
    "\n",
    "test_y = YacModelDF[YacModelDF[\"UniqueIndex\"].apply(lambda x: x not in train_index)][\"YardsAfterCatch\"]"
   ]
  },
  {
   "cell_type": "code",
   "execution_count": 51,
   "metadata": {},
   "outputs": [],
   "source": [
    "YacModelDF.to_csv(\"C:/Users/sethl/OneDrive/Important Stuff/R/R files/NFL/DataBowl/2024-Big-Data-Bowl/Created_DF/YACvsPURSUIT.csv\")\n"
   ]
  },
  {
   "cell_type": "code",
   "execution_count": 49,
   "metadata": {},
   "outputs": [
    {
     "name": "stdout",
     "output_type": "stream",
     "text": [
      "Fitting 5 folds for each of 16 candidates, totalling 80 fits\n",
      "6.280234085788988\n"
     ]
    }
   ],
   "source": [
    "import xgboost as xgb\n",
    "\n",
    "xgbooster = xgb.XGBRegressor()\n",
    "\n",
    "clf = GridSearchCV(xgbooster, {'max_depth': [1, 2, 4, 6],\n",
    "                            'n_estimators': [10, 25, 50, 100]}, verbose=1)\n",
    "clf.fit(train_x, train_y)\n",
    "\n",
    "\n",
    "xgbpredictions = clf.predict(test_x)\n",
    "\n",
    "rmse = np.sqrt(metrics.mean_squared_error(test_y, xgbpredictions))\n",
    "print(rmse)"
   ]
  },
  {
   "cell_type": "code",
   "execution_count": 50,
   "metadata": {},
   "outputs": [
    {
     "name": "stdout",
     "output_type": "stream",
     "text": [
      "XGBRegressor(base_score=None, booster=None, callbacks=None,\n",
      "             colsample_bylevel=None, colsample_bynode=None,\n",
      "             colsample_bytree=None, device=None, early_stopping_rounds=None,\n",
      "             enable_categorical=False, eval_metric=None, feature_types=None,\n",
      "             gamma=None, grow_policy=None, importance_type=None,\n",
      "             interaction_constraints=None, learning_rate=None, max_bin=None,\n",
      "             max_cat_threshold=None, max_cat_to_onehot=None,\n",
      "             max_delta_step=None, max_depth=2, max_leaves=None,\n",
      "             min_child_weight=None, missing=nan, monotone_constraints=None,\n",
      "             multi_strategy=None, n_estimators=50, n_jobs=None,\n",
      "             num_parallel_tree=None, random_state=None, ...)\n"
     ]
    },
    {
     "data": {
      "image/png": "[encoded data removed]",
      "text/plain": [
       "<Figure size 640x480 with 1 Axes>"
      ]
     },
     "metadata": {},
     "output_type": "display_data"
    }
   ],
   "source": [
    "from xgboost import plot_importance\n",
    "\n",
    "print(clf.best_estimator_)\n",
    "\n",
    "plot_importance(clf.best_estimator_)\n",
    "plt.show()\n",
    "\n"
   ]
  }
 ],
 "metadata": {
  "kernelspec": {
   "display_name": "S52",
   "language": "python",
   "name": "python3"
  },
  "language_info": {
   "codemirror_mode": {
    "name": "ipython",
    "version": 3
   },
   "file_extension": ".py",
   "mimetype": "text/x-python",
   "name": "python",
   "nbconvert_exporter": "python",
   "pygments_lexer": "ipython3",
   "version": "3.9.16"
  },
  "orig_nbformat": 4
 },
 "nbformat": 4,
 "nbformat_minor": 2
}
