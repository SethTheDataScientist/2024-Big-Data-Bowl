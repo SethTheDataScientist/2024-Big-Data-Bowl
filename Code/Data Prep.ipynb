{
 "cells": [
  {
   "cell_type": "markdown",
   "metadata": {},
   "source": [
    "### Importing"
   ]
  },
  {
   "cell_type": "code",
   "execution_count": 39,
   "metadata": {},
   "outputs": [],
   "source": [
    "import os\n",
    "import glob\n",
    "import pandas as pd\n",
    "import numpy as np"
   ]
  },
  {
   "cell_type": "markdown",
   "metadata": {},
   "source": [
    "### Downloading and Cleaning"
   ]
  },
  {
   "cell_type": "code",
   "execution_count": 16,
   "metadata": {},
   "outputs": [],
   "source": [
    "# Specify the relative path to the data directory\n",
    "data_folder_path = \"C:/Users/sethl/OneDrive/Important Stuff/R/R files/NFL/DataBowl/2024-Big-Data-Bowl/Data\"\n",
    "non_games_data_folder_path = \"C:/Users/sethl/OneDrive/Important Stuff/R/R files/NFL/DataBowl/2024-Big-Data-Bowl/Non_Games_Data\"\n",
    "\n",
    "# List all files in the data folder\n",
    "file_list = os.listdir(data_folder_path)\n",
    "file_list_non_games = os.listdir(non_games_data_folder_path)\n",
    "\n",
    "# Use glob to filter specific file types\n",
    "csv_files = glob.glob(os.path.join(data_folder_path, \"*.csv\"))\n",
    "csv_files_non_games = glob.glob(os.path.join(non_games_data_folder_path, \"*.csv\"))"
   ]
  },
  {
   "cell_type": "code",
   "execution_count": 13,
   "metadata": {},
   "outputs": [],
   "source": [
    "# Read in the weekly game data and concat into one combined df\n",
    "dfs = [pd.read_csv(file) for file in csv_files]\n",
    "combined_df = pd.concat(dfs, ignore_index=True)\n",
    "\n",
    "# Read in the supplementary data\n",
    "games = pd.read_csv(csv_files_non_games[0])\n",
    "nfl_colors = pd.read_csv(csv_files_non_games[1])\n",
    "pff_scouting_data = pd.read_csv(csv_files_non_games[2])\n",
    "players = pd.read_csv(csv_files_non_games[3])\n",
    "plays = pd.read_csv(csv_files_non_games[4])"
   ]
  },
  {
   "cell_type": "code",
   "execution_count": 111,
   "metadata": {},
   "outputs": [],
   "source": [
    "# Change the orientation of the plays\n",
    "clean_df = combined_df.copy()\n",
    "\"\"\"\n",
    "clean_df['x'] = clean_df.apply(lambda row: 120 - row['x'] if row['playDirection'] == \"left\" else row['x'], axis=1)\n",
    "clean_df['y'] = clean_df.apply(lambda row: 160 / 3 - row['y'] if row['playDirection'] == \"left\" else row['y'], axis=1)\n",
    "clean_df['dir'] = clean_df.apply(lambda row: row['dir'] + 180 if row['playDirection'] == \"left\" else row['dir'], axis=1)\n",
    "clean_df['dir'] = clean_df['dir'].apply(lambda val: val - 360 if val > 360 else val)\n",
    "clean_df['o'] = clean_df.apply(lambda row: row['o'] + 180 if row['playDirection'] == \"left\" else row['o'], axis=1)\n",
    "clean_df['o'] = clean_df['o'].apply(lambda val: val - 360 if val > 360 else val)\n",
    "\"\"\"\n",
    "\n",
    "# Merge nfl_colors and change the color of the football\n",
    "clean_df = pd.merge(clean_df, nfl_colors, left_on=\"team\", right_on=\"Code\")\n",
    "clean_df[\"primary\"] = np.where(\n",
    "    clean_df[\"primary\"].isna(), \"#8b4513\", clean_df[\"primary\"]\n",
    ")"
   ]
  },
  {
   "cell_type": "markdown",
   "metadata": {},
   "source": [
    "### Data prep and Filtering"
   ]
  },
  {
   "cell_type": "code",
   "execution_count": 112,
   "metadata": {},
   "outputs": [],
   "source": [
    "# Mutate 'df'\n",
    "filtered_df = clean_df.copy()\n",
    "\n",
    "filtered_df[\"is_start\"] = np.where(\n",
    "    filtered_df[\"event\"].isin([\"autoevent_ballsnap\", \"ball_snap\"]), 1, 0\n",
    ")\n",
    "filtered_df[\"is_end\"] = np.where(\n",
    "    filtered_df[\"event\"].isin(\n",
    "        [\n",
    "            \"fumble\",\n",
    "            \"handoff\",\n",
    "            \"lateral\",\n",
    "            \"autoevent_passforward\",\n",
    "            \"pass_forward\",\n",
    "            \"qb_sack\",\n",
    "            \"qb_strip_sack\",\n",
    "            \"run\",\n",
    "        ]\n",
    "    ),\n",
    "    1,\n",
    "    0,\n",
    ")\n",
    "\n",
    "# Group by and mutate 'df'\n",
    "grouped = filtered_df.groupby([\"gameId\", \"playId\"])\n",
    "filtered_df[\"any_start\"] = grouped[\"is_start\"].transform(\"any\")\n",
    "filtered_df[\"any_end\"] = grouped[\"is_end\"].transform(\"any\")\n",
    "\n",
    "# Filter and summarize 'df'\n",
    "intermediate_df = filtered_df[(filtered_df[\"any_start\"]) & (filtered_df[\"any_end\"])]\n",
    "\n",
    "\n",
    "# Define a function to calculate start_frame and end_frame\n",
    "def calculate_frames(group):\n",
    "    is_start_index = group[group[\"is_start\"] == 1].index[0]\n",
    "    start_frame = group.loc[is_start_index, \"frameId\"]\n",
    "\n",
    "    is_end_index = group[\n",
    "        (group[\"is_end\"] == 1) & (group[\"frameId\"] > start_frame)\n",
    "    ].index[0]\n",
    "    end_frame = group.loc[is_end_index, \"frameId\"]\n",
    "\n",
    "    return pd.Series({\"start_frame\": start_frame, \"end_frame\": end_frame})\n",
    "\n",
    "\n",
    "# Apply the function to each group and reset index\n",
    "frames_of_interest = (\n",
    "    intermediate_df.groupby([\"gameId\", \"playId\"]).apply(calculate_frames).reset_index()\n",
    ")\n",
    "\n",
    "# Mutate 'pff' for 'play_block_rush'\n",
    "pff_scouting_data[\"pff_role\"] = pff_scouting_data[\"pff_role\"].str.replace(\"Pass \", \"\")\n",
    "play_block_rush = pff_scouting_data[\n",
    "    pff_scouting_data[\"pff_role\"].isin([\"Block\", \"Rush\"])\n",
    "][[\"gameId\", \"playId\", \"nflId\", \"pff_role\", \"pff_positionLinedUp\"]]\n",
    "\n",
    "# Filter 'pff' for 'pff_network'\n",
    "pff_network = pff_scouting_data[\n",
    "    pff_scouting_data[\"pff_role\"].isin([\"Pass Block\", \"Pass Rush\", \"Pass\"])\n",
    "][[\"gameId\", \"playId\", \"nflId\", \"pff_role\", \"pff_positionLinedUp\"]]"
   ]
  },
  {
   "cell_type": "code",
   "execution_count": 113,
   "metadata": {},
   "outputs": [],
   "source": [
    "# Creating a WorkDF that is filtered down to just the frames of interest\n",
    "WorkDF = pd.merge(clean_df, frames_of_interest, on=[\"gameId\", \"playId\"], how=\"inner\")\n",
    "WorkDF = WorkDF[\n",
    "    (WorkDF[\"frameId\"] >= WorkDF[\"start_frame\"])\n",
    "    & (WorkDF[\"frameId\"] <= WorkDF[\"end_frame\"])\n",
    "]"
   ]
  },
  {
   "cell_type": "markdown",
   "metadata": {},
   "source": [
    "### Feature Engineering"
   ]
  },
  {
   "cell_type": "markdown",
   "metadata": {},
   "source": [
    "To create a feature on stunts, I would ideally want to differentiate between t-e stunts and e-t stunts\n",
    "\n",
    "Potentially also want to create a feature that is what gap they ended up attacking. That way we can cluster based on the ending gap of each DL player and that would create more distinct clusters for the predicted path algorithm to train on.\n",
    "Create gaps based on the ranges of y coordinates between the OL. I want to make it so that if you end up on the OL at the end of the play, it takes into account what orientation the OL is in. \n"
   ]
  },
  {
   "cell_type": "code",
   "execution_count": 117,
   "metadata": {},
   "outputs": [
    {
     "name": "stderr",
     "output_type": "stream",
     "text": [
      "C:\\Users\\sethl\\AppData\\Local\\Temp\\ipykernel_19560\\3884693351.py:14: SettingWithCopyWarning: \n",
      "A value is trying to be set on a copy of a slice from a DataFrame.\n",
      "Try using .loc[row_indexer,col_indexer] = value instead\n",
      "\n",
      "See the caveats in the documentation: https://pandas.pydata.org/pandas-docs/stable/user_guide/indexing.html#returning-a-view-versus-a-copy\n",
      "  Starting_Gaps[\"Cutoff_Point\"] = np.where(Starting_Gaps[\"end_frame\"] < Starting_Gaps[\"start_frame\"] + Time_Cutoff, Starting_Gaps[\"end_frame\"], Starting_Gaps[\"start_frame\"] + Time_Cutoff)\n"
     ]
    }
   ],
   "source": [
    "# Filtering the WorkDF down to just the blockers\n",
    "StuntDF = pd.merge(\n",
    "    WorkDF, play_block_rush, on=[\"gameId\", \"playId\", \"nflId\"], how=\"inner\"\n",
    ")\n",
    "GapDF = StuntDF[\n",
    "    (StuntDF[\"pff_role\"] == \"Block\")\n",
    "    & (\n",
    "        StuntDF[\"pff_positionLinedUp\"].isin(\n",
    "            [\"LT\", \"LG\", \"C\", \"RG\", \"RT\", \"TE-L\", \"TE-R\"]\n",
    "        )\n",
    "    )\n",
    "]\n",
    "\n",
    "# Creating a wider dataset with the y positions for each OL position as a new column\n",
    "StuntWider = GapDF.pivot_table(\n",
    "    index=[\"gameId\", \"playId\", \"frameId\"], columns=\"pff_positionLinedUp\", values=\"y\"\n",
    ").reset_index()\n",
    "\n",
    "# Filling the missing data for TEs to help aid assignment later\n",
    "StuntWider[\"TE-L\"] = StuntWider[\"TE-L\"].fillna(100)\n",
    "StuntWider[\"TE-R\"] = StuntWider[\"TE-R\"].fillna(0)\n",
    "\n",
    "# Making a new dataframe that is just the pass rushers\n",
    "Starting_Gaps = StuntDF[(StuntDF[\"pff_role\"] == \"Rush\")]\n",
    "\n",
    "# Create Cutoff Point into the play\n",
    "Time_Cutoff = 20\n",
    "\n",
    "Starting_Gaps[\"Cutoff_Point\"] = np.where(\n",
    "    Starting_Gaps[\"end_frame\"] < Starting_Gaps[\"start_frame\"] + Time_Cutoff,\n",
    "    Starting_Gaps[\"end_frame\"],\n",
    "    Starting_Gaps[\"start_frame\"] + Time_Cutoff,\n",
    ")\n",
    "\n",
    "Starting_Gaps = Starting_Gaps[\n",
    "    (Starting_Gaps[\"frameId\"] >= Starting_Gaps[\"start_frame\"])\n",
    "    & (Starting_Gaps[\"frameId\"] <= Starting_Gaps[\"Cutoff_Point\"])\n",
    "]\n",
    "\n",
    "# Joining the OL Y positional data onto the Starting_Gaps df\n",
    "Starting_Gaps = pd.merge(Starting_Gaps, StuntWider, on=[\"gameId\", \"playId\", \"frameId\"])\n",
    "\n",
    "# Assigning the Gaps based on y position data\n",
    "conditions = [\n",
    "    Starting_Gaps[\"y\"] > Starting_Gaps[\"TE-L\"],\n",
    "    (Starting_Gaps[\"y\"] < Starting_Gaps[\"TE-L\"])\n",
    "    & (Starting_Gaps[\"y\"] > Starting_Gaps[\"LT\"]),\n",
    "    (Starting_Gaps[\"y\"] < Starting_Gaps[\"LT\"])\n",
    "    & (Starting_Gaps[\"y\"] > Starting_Gaps[\"LG\"]),\n",
    "    (Starting_Gaps[\"y\"] < Starting_Gaps[\"LG\"])\n",
    "    & (Starting_Gaps[\"y\"] > Starting_Gaps[\"C\"]),\n",
    "    (Starting_Gaps[\"y\"] < Starting_Gaps[\"C\"])\n",
    "    & (Starting_Gaps[\"y\"] > Starting_Gaps[\"RG\"]),\n",
    "    (Starting_Gaps[\"y\"] < Starting_Gaps[\"RG\"])\n",
    "    & (Starting_Gaps[\"y\"] > Starting_Gaps[\"RT\"]),\n",
    "    (Starting_Gaps[\"y\"] < Starting_Gaps[\"RT\"])\n",
    "    & (Starting_Gaps[\"y\"] > Starting_Gaps[\"TE-R\"]),\n",
    "    Starting_Gaps[\"y\"] < Starting_Gaps[\"TE-R\"],\n",
    "]\n",
    "choices = [\"L-D\", \"L-C\", \"L-B\", \"L-A\", \"R-A\", \"R-B\", \"R-C\", \"R-D\"]\n",
    "\n",
    "Starting_Gaps[\"Gap_Assignment\"] = np.select(conditions, choices, default=np.NAN)\n",
    "\n",
    "# Filling any NAN Gaps (which occur when the DL is directly on the OL Y value) with their previous Gap Assignment\n",
    "Starting_Gaps[\"Gap_Assignment\"] = Starting_Gaps.groupby([\"gameId\", \"playId\"])[\n",
    "    \"Gap_Assignment\"\n",
    "].fillna(method=\"ffill\")"
   ]
  },
  {
   "cell_type": "markdown",
   "metadata": {},
   "source": [
    "The Starting Gaps DF is setup so that for each defensive player, you have all of their positional data for the entire play, along with the OL Y positions for the entire play, and the Gap assignment for each frame as well.\n",
    "\n",
    "Depending on how the Clustering Algorithm wants the data in, it may be better to make new columns for starting and ending (x, y, gap) for each play. But given that I don't know what format the clustering algorithm needs, I will leave it in this format currently."
   ]
  },
  {
   "cell_type": "code",
   "execution_count": null,
   "metadata": {},
   "outputs": [],
   "source": []
  }
 ],
 "metadata": {
  "kernelspec": {
   "display_name": "S52",
   "language": "python",
   "name": "python3"
  },
  "language_info": {
   "codemirror_mode": {
    "name": "ipython",
    "version": 3
   },
   "file_extension": ".py",
   "mimetype": "text/x-python",
   "name": "python",
   "nbconvert_exporter": "python",
   "pygments_lexer": "ipython3",
   "version": "3.9.16"
  },
  "orig_nbformat": 4
 },
 "nbformat": 4,
 "nbformat_minor": 2
}
