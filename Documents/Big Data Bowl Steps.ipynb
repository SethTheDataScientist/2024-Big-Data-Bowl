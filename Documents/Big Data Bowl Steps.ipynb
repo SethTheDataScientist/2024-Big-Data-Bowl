{
 "cells": [
  {
   "cell_type": "markdown",
   "metadata": {},
   "source": [
    "# Big Data Bowl steps"
   ]
  },
  {
   "cell_type": "markdown",
   "metadata": {},
   "source": [
    "## Setup"
   ]
  },
  {
   "cell_type": "markdown",
   "metadata": {},
   "source": [
    "* ~~Set Up github repo for working on the files concurrently~~\n",
    "* ~~Set up vscode, python, github on other laptop for Braxton~~\n",
    "* ~~Download Tracking data and put in folder~~\n",
    "* Figure out those neat tricks for making coding easier\n",
    "    * ~~Poetry~~\n",
    "    * ~~Invoke~~\n",
    "    * ~~Black/isort/flake8 for reformatting~~\n",
    "    * ~~Auto doc string~~\n",
    "    * Hydra/MlFlow?"
   ]
  },
  {
   "cell_type": "markdown",
   "metadata": {},
   "source": [
    "## Coding"
   ]
  },
  {
   "cell_type": "markdown",
   "metadata": {},
   "source": [
    "#### Prep"
   ]
  },
  {
   "cell_type": "markdown",
   "metadata": {},
   "source": [
    "* ~~Cleaning~~\n",
    "    * Filter down types of plays, frames of interest, etc\n",
    "    * Filter based on future feature engineering (Stunts)\n",
    "* ~~Feature Engineering~~\n",
    "    * Stunts, etc\n",
    "* ~~Validation Viz~~\n",
    "    * Set up field and annimation for play_id"
   ]
  },
  {
   "cell_type": "markdown",
   "metadata": {},
   "source": [
    "#### Modeling"
   ]
  },
  {
   "cell_type": "markdown",
   "metadata": {},
   "source": [
    "* Modeling\n",
    "    * Cluster types of plays together --\n",
    "    * Make a predicted path model for each play and player\n",
    "    * Create Player Impact Distributions\n",
    "    * Compute Differences between players and expected paths\n",
    "    * Computer mathematically the impact of that with multiplication and integration to get number\n",
    "        * Consider doing a weighting factor during the course of the play\n",
    "    * Average over the length of the play for each player to account for play length"
   ]
  },
  {
   "cell_type": "markdown",
   "metadata": {},
   "source": [
    "* Checking work\n",
    "    * See if clustering plays works well or is worthwhile at all\n",
    "    * Look into what RouteNet did for tracking route patterns and see if we are getting something similar --\n",
    "    * Error rates for our predicted path model\n",
    "    * Plot the Gravity over the course of the play to see if averaging is actually worth it\n",
    "    * Eye test for highest gravity players\n",
    "    * See if having two players with high gravity has higher impact on efficiency compared to Batman and Robin"
   ]
  },
  {
   "cell_type": "markdown",
   "metadata": {},
   "source": [
    "#### Results"
   ]
  },
  {
   "cell_type": "markdown",
   "metadata": {},
   "source": [
    "* Results\n",
    "    * Create a table of the highest gravity players\n",
    "    * Create a table of the team with highest average gravity\n",
    "    * Create a table of the best Robins (High value players with low gravity playing next to someone with high gravity)\n",
    "* Final Viz\n",
    "    * Example Plays: \n",
    "        * Highlight Specific Player\n",
    "        * Show Expected Path for relevant players\n",
    "        * Show the orientation for players\n",
    "        * Show a distribution getting darker and bigger as gravity increases\n",
    "        * Show a line plot that shows the total gravity increasing as well as the players that are adding to the gravity over the course of the play\n",
    "    * Explanation graphics that incorporate many intermediate steps and some math. Look at 2023 Winner for examples"
   ]
  },
  {
   "cell_type": "markdown",
   "metadata": {},
   "source": [
    "## Submission"
   ]
  },
  {
   "cell_type": "markdown",
   "metadata": {},
   "source": [
    "* Write up the submission in under 2000 words and 10 pictures\n",
    "* Use the format that was most consistent across winners\n",
    "* Be academic and available to use for research paper quality with appendix and figures"
   ]
  }
 ],
 "metadata": {
  "language_info": {
   "name": "python"
  },
  "orig_nbformat": 4
 },
 "nbformat": 4,
 "nbformat_minor": 2
}
