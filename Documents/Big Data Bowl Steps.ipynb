{
 "cells": [
  {
   "cell_type": "markdown",
   "metadata": {},
   "source": [
    "# Big Data Bowl steps"
   ]
  },
  {
   "cell_type": "markdown",
   "metadata": {},
   "source": [
    "PURSUIT\n",
    "P: Proportional \n",
    "U: (V)oronoi Area\n",
    "R: Reduction\n",
    "S: Shielding (Situationally?)\n",
    "U: Upfield\n",
    "I: Ideal Angle\n",
    "T: Tackler"
   ]
  },
  {
   "cell_type": "markdown",
   "metadata": {},
   "source": [
    "## Setup"
   ]
  },
  {
   "cell_type": "markdown",
   "metadata": {},
   "source": [
    "* ~~Set Up github repo for working on the files concurrently~~\n",
    "* ~~Set up vscode, python, github on other laptop for Braxton~~\n",
    "* ~~Download Tracking data and put in folder~~\n",
    "* Figure out those neat tricks for making coding easier\n",
    "    * ~~Poetry~~\n",
    "    * ~~Invoke~~\n",
    "    * ~~Black/isort/flake8 for reformatting~~\n",
    "    * ~~Auto doc string~~\n",
    "    * Hydra/MlFlow?"
   ]
  },
  {
   "cell_type": "markdown",
   "metadata": {},
   "source": [
    "## Coding"
   ]
  },
  {
   "cell_type": "markdown",
   "metadata": {},
   "source": [
    "#### Prep"
   ]
  },
  {
   "cell_type": "markdown",
   "metadata": {},
   "source": [
    "* ~~Cleaning~~\n",
    "    * Filter down types of plays, frames of interest, etc\n",
    "    * Filter based on future feature engineering (Stunts)\n",
    "* ~~Feature Engineering~~\n",
    "    * Stunts, etc\n",
    "* ~~Validation Viz~~\n",
    "    * Set up field and annimation for play_id"
   ]
  },
  {
   "cell_type": "markdown",
   "metadata": {},
   "source": [
    "#### Modeling"
   ]
  },
  {
   "cell_type": "markdown",
   "metadata": {},
   "source": [
    "* ~~Modeling~~\n",
    "    * Cluster types of plays together --\n",
    "    * Make a predicted path model for each play and player\n",
    "    * Create Player Impact Distributions\n",
    "    * Compute Differences between players and expected paths\n",
    "    * Computer mathematically the impact of that with multiplication and integration to get number\n",
    "        * Consider doing a weighting factor during the course of the play\n",
    "    * Average over the length of the play for each player to account for play length"
   ]
  },
  {
   "cell_type": "markdown",
   "metadata": {},
   "source": [
    "* ~~Checking work~~\n",
    "    * See if clustering plays works well or is worthwhile at all\n",
    "    * Look into what RouteNet did for tracking route patterns and see if we are getting something similar --\n",
    "    * Error rates for our predicted path model\n",
    "    * Plot the Gravity over the course of the play to see if averaging is actually worth it\n",
    "    * Eye test for highest gravity players\n",
    "    * See if having two players with high gravity has higher impact on efficiency compared to Batman and Robin (Use EPA?)"
   ]
  },
  {
   "cell_type": "markdown",
   "metadata": {},
   "source": [
    "#### Results"
   ]
  },
  {
   "cell_type": "markdown",
   "metadata": {},
   "source": [
    "* Results\n",
    "    * Create a table of the highest gravity players\n",
    "    * Create a table of the team with highest average gravity?\n",
    "    * Create a table of the best Robins (High value players with low gravity playing next to someone with high gravity) ?\n",
    "    * Which routes have the highest gravity\n",
    "    * Man vs Zone Splits for gravity\n",
    "* Final Viz\n",
    "    * Example Plays: \n",
    "        * Show the Voronoi Example with the gravity changing the color of the specified player's area. Side by Side with Expected version.\n",
    "        * Show a line plot that shows the total gravity increasing as well as the players that are adding to the gravity over the course of the play\n",
    "    * Explanation graphics that incorporate many intermediate steps and some math. Look at 2023 Winner for examples"
   ]
  },
  {
   "cell_type": "markdown",
   "metadata": {},
   "source": [
    "## Submission"
   ]
  },
  {
   "cell_type": "markdown",
   "metadata": {},
   "source": [
    "* Write up the submission in under 2000 words and 10 pictures\n",
    "* Use the format that was most consistent across winners\n",
    "* Be academic and available to use for research paper quality with appendix and figures\n",
    "* In the appendix or next steps: Talk about how difficult it is when dealing with zone coverages for example. Sometimes creating more space in a zone coverage is actually a positive thing, which would have less gravity. "
   ]
  },
  {
   "cell_type": "markdown",
   "metadata": {},
   "source": [
    "## PLOTS"
   ]
  },
  {
   "cell_type": "markdown",
   "metadata": {},
   "source": [
    "I get 10 plots/Figures to play with\n",
    "\n",
    "* Prop Voronoi Math\n",
    "    * Static image of Simple Explaining Voronoi Area\n",
    "    * Show Radius near ball carrier to highlight \"defenders within 10\" Scaling Factor\n",
    "    * Show LaTex formula for calculating Adjusted Voronoi Area\n",
    "* EXAMPLE Prop Voronoi PLAY of Good Defense\n",
    "    * Side by Side ~~Plot of the play~~ and ~~plot of the facets of Area over the course of the play~~\n",
    "\n",
    "* Shielding Upfield Math\n",
    "    * Show static image of PID like last year's winner\n",
    "    * Show example of ball carrier and defender PID showing if they are covered\n",
    "    * Show Alt Example of Chase Down PID\n",
    "    * Show example that it counts any defenders over the course of the play is within 10 yards\n",
    "    * Show LaTex formula for calculating Shielding Upfield\n",
    "* EXAMPLE Shielding Upfield PLAY of Good Defense\n",
    "    * Side by Side Plot of the play and plot of the facets of Area over the course of the play\n",
    "\n",
    "* Ideal Angle Math\n",
    "    * Show static image of PID to highlight likeliest next location for the ballcarrier with angles for ideal and actual angle with theta highlighted\n",
    "    * Show Latex Math\n",
    "\n",
    "    * TALK ABOUT SIMPSON'S PARADOX\n",
    "* ~~LB Run / Pass / Total for PUR/SU/IT~~\n",
    "\n",
    "* ~~DB Run / Pass / Total for PUR/SU/IT~~\n",
    "\n",
    "* ~~DL Run / Pass / Total for PUR/SU/IT~~\n",
    "    \n",
    "* ~~Team Table Run / Pass / Total for PUR/SU/IT~~\n",
    " "
   ]
  },
  {
   "cell_type": "markdown",
   "metadata": {},
   "source": [
    "Things still to do\n",
    "- Stability analysis and plot\n",
    "- Frank Meta Analytics plot\n",
    "- Figure out how to make the voronoi base plot match Cat's design\n",
    "- Work with Cat\n",
    "    - on changing the colors to match the background chosen\n",
    "    - On the color choice of the players\n",
    "    - Making the defense be highlightes\n",
    "    - Changing the angle to be Theta\n",
    "    - define what I want in the multi-views\n",
    "- Clean and refactor code to be published to github\n",
    "- Write the fucking paper\n",
    "\n",
    "Intent is to keep the complexity in the pictures, with extra words and plots and keep the writing pretty simple\n",
    "\n"
   ]
  },
  {
   "cell_type": "markdown",
   "metadata": {},
   "source": [
    "Plots\n",
    "\n",
    "FOR ALL CAT PLOTS: Change the color of the yellow dots to be a different color. Maybe blue and red? Coordinate them all to be focused on the defense. Write it out for each plot for Cat\n",
    "\n",
    "At the end, the goal for us is to see if Cat/Dad/G can follow it from the writing standpoint, as well as if the graphic design scheme and flow make sense.\n",
    "Can Braxton, Ryan, and I follow the pictures and the data side of things\n",
    "\n",
    "\n",
    "- Voronoi Multi-view\n",
    "    - Blank Voronoi Picture\n",
    "        - See if Cat has any ideas of how to make it obvious of how to vizualize how the area is calculated\n",
    "    - Explanation Chunk for how Voronoi works\n",
    "    - Scaling Factors of Defenders within and Acceleration\n",
    "        - Get Cat to make another version with 2 defenders and showing how the value would increase\n",
    "        - Change the radius value to 7.5 instead of 10\n",
    "    - Explanation Chunk of Defenders within and Acceleration affecting calculations\n",
    "- Shielding Upfield Multi-view\n",
    "    - Make basic Shielding Upfield infographic that is like what the previous winner did to explain the concept of the bivariate normal distro\n",
    "        - Make new latex to talk about how the speed ratio is dependent on the individual person\n",
    "    - Basic Explanation Chunk\n",
    "    - Shielding Upfield Part of Play filtering graphic\n",
    "    - Part of Play filtering Explanation Chunk\n",
    "    - Shielding Upfield infographic with Math\n",
    "    - Shielding Upfield explanation chunk\n",
    "- Ideal Angle Tackling Multi-view\n",
    "    - Ideal Angle infographic \n",
    "        - Add Latex and get cat to change the angle to be Theta\n",
    "    - Ideal Angle Explanation chunk\n",
    "    - Pursuit Math as well\n",
    "- Full Play Analysis\n",
    "    - Hand off to cat to see how she would improve it\n",
    "        - Make the play field match color-wise with whatever cat does\n",
    "    - Consider making a new version of it that is using KPIs with the Dots vertically on the left, play in bottom right, and KPIs on the top right\n",
    "- Full Play Line Plots (Non-GIF)\n",
    "- Validation Metrics [X] (Pass along to cat anyway and see if there are obvious things to change)\n",
    "    - Stability [X]\n",
    "    - Explanation Chunk\n",
    "    - Feature importance [X]\n",
    "    - Explanation Chunk\n",
    "    - Frank Meta Analytics [X]\n",
    "    - Explanation Chunk\n",
    "- Team Total Values\n",
    "    - Remove Pass/Rush Split. Consider doing fewer teams\n",
    "- DB Total Values\n",
    "    - Remove Pass/Rush Split. Consider doing fewer players\n",
    "- LB Total Values\n",
    "    - Remove Pass/Rush Split. Consider doing fewer players\n",
    "- DL Total Values \n",
    "    - Remove Pass/Rush Split. Consider doing fewer players"
   ]
  },
  {
   "cell_type": "markdown",
   "metadata": {},
   "source": [
    "\\text {Adjusted Voronoi Area}(i) =  \\text{Raw Voronoi Area}(i) * \\frac{ \\text{Acceleration(i)}} {\\text{max}(\\text{Acceleration})} * \\begin{cases}     0 & \\text{if } Defenders Within(i)= 0 \\\\     e^{(Defenders Within(i)- 6)} & \\text{if } 1 \\leq Defenders Within(i)\\leq 6 \\\\     \\frac{\\ln(Defenders Within(i)+ 1)}{\\ln(6)} & \\text{if } Defenders Within(i)> 6 \\end{cases} "
   ]
  },
  {
   "cell_type": "code",
   "execution_count": null,
   "metadata": {
    "vscode": {
     "languageId": "plaintext"
    }
   },
   "outputs": [],
   "source": [
    "\\text ShieldingUpfield = \\frac{1}{n}\\sum_{i}^{n}\\begin{cases}\n",
    "1 & \\text {} if \\ \\  \n",
    "\\text{Min(player_pdf(i)[y])} \\le  \\text{Min(ball_pdf(i)[y])} \\ \\land \\\\ & \\  \\ \\  \\ \\ \\text{Max(player_pdf(i)[y])} \\ge \\text{Max(ball_pdf(i)[y])}  \\ \\land \\\\ & \\ \\ \\ \\ \\ \\text{Max(player_pdf(i)[x])} \\ge \\text{Max(ball_pdf(i)[x])} \\\\\n",
    "0 & \\text else\n",
    "\\end{cases}"
   ]
  },
  {
   "cell_type": "markdown",
   "metadata": {},
   "source": [
    "\\text PDF(i) = N(\\mu(i), \\sigma(i))"
   ]
  },
  {
   "cell_type": "markdown",
   "metadata": {},
   "source": [
    "\n",
    "\\text{Ideal Angle(i)} &= \\frac{180}{\\pi} * \\begin{cases}\n",
    "\\arctan\\left(\\frac{\\text{Expected}_y(i) - \\text{Actual}_y(i) }{\\text{Expected}_x(i) - \\text{Actual}_x(i) }\\right) + 2\\pi & \\text{if } \\text <  \\ 0 \\\\\n",
    "\\arctan\\left(\\frac{\\text{Expected}_y(i) - \\text{Actual}_y(i) }{\\text{Expected}_x(i) - \\text{Actual}_x(i) }\\right) & \\text{else}\n",
    "\\end{cases} \\\\\n"
   ]
  },
  {
   "cell_type": "markdown",
   "metadata": {},
   "source": [
    "Deviation(i) = \\sqrt{\\frac{1}{n} \\sum_{i}^{n}(\\left| Actual_{dir}(i) \\ - \\ IdealAngle(i) \\right|)^{2}}"
   ]
  },
  {
   "cell_type": "markdown",
   "metadata": {},
   "source": [
    "## Appendix"
   ]
  }
 ],
 "metadata": {
  "language_info": {
   "name": "python"
  },
  "orig_nbformat": 4
 },
 "nbformat": 4,
 "nbformat_minor": 2
}
