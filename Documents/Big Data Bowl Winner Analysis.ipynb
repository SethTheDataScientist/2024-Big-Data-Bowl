{
 "cells": [
  {
   "cell_type": "markdown",
   "metadata": {},
   "source": [
    "# Big Data Bowl 2022 Analysis"
   ]
  },
  {
   "cell_type": "markdown",
   "metadata": {},
   "source": [
    "## This is what they say that they are scoring on\n",
    "What they say they are scoring on:\n",
    "Innovation:\n",
    "\n",
    "    Are the proposed findings actionable?\n",
    "    Is this a way of looking at tracking data that is novel?\n",
    "    Is this project creative?\n",
    "\n",
    "Accuracy:\n",
    "\n",
    "    Is the work correct?\n",
    "    Are claims backed up by data?\n",
    "    Are the statistical models appropriate given the data?\n",
    "\n",
    "Relevance:\n",
    "\n",
    "    Would NFL teams (or the league office) be able to use these results on a week-to-week basis?\n",
    "    Does the analysis account for variables that make football data complex?\n",
    "\n",
    "Clarity:\n",
    "\n",
    "    Evaluate the writing with respect to how clear the writer(s) make findings.\n",
    "\n",
    "Data visualization/tables:\n",
    "\n",
    "    Are the charts and tables provided accessible, interesting, visually appealing, and accurate?"
   ]
  },
  {
   "cell_type": "markdown",
   "metadata": {},
   "source": [
    "# Big Picture Analysis of the Winners"
   ]
  },
  {
   "cell_type": "markdown",
   "metadata": {},
   "source": [
    "## Metric Track Finalists"
   ]
  },
  {
   "cell_type": "markdown",
   "metadata": {},
   "source": [
    "### STRAIN\n",
    "https://www.kaggle.com/code/statsinthewild/strain-sacks-tackles-rushing-aggression-index"
   ]
  },
  {
   "cell_type": "markdown",
   "metadata": {},
   "source": [
    "* Lots of Math\n",
    "    * Most of the winning submissions went harder on the math and had more formulas (Even if they weren't directly related)\n",
    "* Pulling from other domains\n",
    "    * STRAIN pulled from materials science, \n",
    "* More explanation of how it works\n",
    "    * STRAIN talks for a long time about how it works\n",
    "* Other ways of Proving its worth a damn\n",
    "    * STRAIN computed Average STRAIN for players and compared it to the PFF rankings by position, as opposed to EPA\n",
    "        * They also reference the differences between themselves and ESPN PassRush Win Rate."
   ]
  },
  {
   "cell_type": "markdown",
   "metadata": {},
   "source": [
    "##### Layout\n",
    "* Intro (A little flowery)\n",
    "* Explaining how they came to this approach (Inspiration)\n",
    "* Explaining how the metric works (Math and graphics with the math)\n",
    "* Giving an Example play to further explain with an actual play behind it (Nice graphic, not amazing though)\n",
    "* Explaining some nuance behind it (Positional Differences with another graph)\n",
    "* Ranking the Top Players by this new metric (With another table)\n",
    "* Discussion Section (Reiterate, What to do next, limitations of model)"
   ]
  },
  {
   "cell_type": "markdown",
   "metadata": {},
   "source": [
    "### IDPI\n",
    "https://www.kaggle.com/code/nickb1125/idpi-a-situational-metric-for-pass-rushers"
   ]
  },
  {
   "cell_type": "markdown",
   "metadata": {},
   "source": [
    "* This one was pretty flowery in its writing, just like ours\n",
    "* They discuss the math and the mechanics of the LSTM model a little, but not a TON\n",
    "* They have really nice graphics for explaining the math though\n",
    "* Essentially they just took the difference of a players actual numbers (in 9 features) minus the average of those features for each position. They run this through an LSTM model first, but not too complicated.\n",
    "* They discussed AUC briefly. (Theirs was one where they had direct classification of 1 or 0 disruption on the play, so AUC makes sense)\n",
    "* They again just went through the top players by this metric at the end.\n",
    "* They also didn't do much of proving its worth a damn, just kind of doing the math and saying here you go."
   ]
  },
  {
   "cell_type": "markdown",
   "metadata": {},
   "source": [
    "##### Layout\n",
    "* Intro (A little flowery)\n",
    "* Explaining how they came to this approach (Inspiration)\n",
    "* Explaining how the metric works (Math and graphics with the math)\n",
    "* Explaining some nuance behind it (Team level features with a graphic)\n",
    "* Giving an Example play to further explain with an actual play behind it (Nice graphic, not great though)\n",
    "* Giving two more Example plays just to show them (Nice graphic)\n",
    "* Ranking the Top Players by this new metric (With another table)\n",
    "* Discussion Section (Reiterate, What to do next, limitations of model)"
   ]
  },
  {
   "cell_type": "markdown",
   "metadata": {},
   "source": [
    "### Player Impact Distribution\n",
    "https://www.kaggle.com/code/lichtlab/evaluate-linemen-using-player-impact-distribution"
   ]
  },
  {
   "cell_type": "markdown",
   "metadata": {},
   "source": [
    "* Jesus Christ they did a lot of work and did like 4 models\n",
    "* It is clear that they are not native english speakers, but still readable\n",
    "* Statistics that I don't really understand. What the fuck is a gamma-gaussian distrobution\n",
    "* Ultimately, they made a sort of trianle of influence around each node, using stats I guess\n",
    "* HOLY FUCK they did a lot of math. I still don't fully understand the statistics that they were doing. They made an estimate for player skill and used a HalfCauchy distribution, like what is that?!?\n",
    "* They also only pulled out 20% of the data randomly, so not taking into account the time series nature of the data\n",
    "* They showed their AUC, Precision, and Recall, along with a KDE Plot for their model about Pass Failure\n",
    "* Their Pass Failure model had VERY little to do with the defensive line. It had mostly to do with the coverage. (Unsurprisingly)\n",
    "* \"Our current pass failure model is intentionally simple for interpretability.\" Go fuck yourself. 1: Big picture, yeah its not hard to understand. 2: The nitty gritty is so needlessly complex with all your statistics nonsense.\n",
    "* With all of their LaTex for the math, I was CONVINCED they went over their 10 picture limit, but they actually only used 10 but most pictures had like 5 parts to it.\n",
    "* They also JUST went over the word count with my rudimentary check in MS Word. Who knows how both MS and the BDB count the math equations though."
   ]
  },
  {
   "cell_type": "markdown",
   "metadata": {},
   "source": [
    "#### Layout\n",
    "* Brief intro\n",
    "* Inspiration (Touch on the building blocks of their approach- A LOT)\n",
    "* Explanation of their approach (They made 4 whole metrics, so it was A LOT)\n",
    "    * Explaining how the submetric works (Math and graphics with the math)\n",
    "    * Explaining how the submetric works (Math and graphics with the math)\n",
    "    * Explaining how the submetric works (Math)\n",
    "    * Explaining how the submetric works (Math)\n",
    "    * Explaining how the submetric works (Math and graphics with the math)\n",
    "    * Explaining how the submetric works (Math and graphics with the math)\n",
    "    * Explaining how the submetric works (Math)\n",
    "    * Explaining how the submetric works (Math)\n",
    "    * Explaining how the submetric works (Math and Ranking the top 3 players with this submetric)\n",
    "    * Explaining how the submetric works (Math and Ranking the top 3 players with this submetric)\n",
    "* Conclusion (Discuss the 4! metrics they made)\n",
    "* Future Directions"
   ]
  },
  {
   "cell_type": "markdown",
   "metadata": {},
   "source": [
    "### Completions Added Through Suppression of Pressure\n",
    "https://www.kaggle.com/code/vincentkarpick/completions-added-through-suppression-of-pressure"
   ]
  },
  {
   "cell_type": "markdown",
   "metadata": {},
   "source": [
    "* They also did a LOT of stuff for their submission. A CNN, a penalized Cox model, a Logistic Model, and combining the last two\n",
    "* They explain the CNN decently well, they clearly know their stuff though. Not sure I fully understand what they are saying\n",
    "* They used weighted cross entropy to account for class imbalance. Good stuff\n",
    "* So, they basically had a CNN track the players and try to predict when pressure was occuring. Then they compare the F1 score to a threshold and the first frame to break that threshold is when pressure is tracked to occur. Interesting.\n",
    "* They also touch on avoiding overfitting: Random noise added to input, dropout layers, frames randomly dropped from sequences\n",
    "* Then they go through assinging their own blocker-rusher matchups using the HUNGARIAN ALGORITHM?!? (linear_sum_assignment). Cool stuff, essentially just taking every permutation of the shortest cumulative distances between each connection of blocker and rusher prior to the first pressure being recorded\n",
    "* \"Cox proportional hazards model with L2 weight penalization\" Like, bro who are you\n",
    "* They also feature engineering to find if there was a Twist, but they made a big deal about it with a viz and everything\n",
    "* Overall, VERY clear this person knows what the fuck they are doing data science wise. This was a very impressive paper, very impressive code. I will say that the writing wasn't amazing, mostly explaining what you did from a very high level perspective to where even I didn't always follow.\n",
    "* Loved the work that they did, though also feel like it wasn't that applicable or useful. I like that they did the aggregation on both a player and team level though.\n",
    "* Ultimately, it was just a StatOE metric again. Complicated way of getting to that point, but was just a StatOE.\n",
    "* I also feel like they did a solid amount of unnessecary work. I don't think they needed to do the CNN, Hungarian algorithm, or the logistic model. They could've just taken the pressure and assignmnets from PFF and taken the outputs from the Cox model as their StatOE. Admittedly, maybe they did need the CNN to figure out precisely when the pressure occured for the Cox model, but still."
   ]
  },
  {
   "cell_type": "markdown",
   "metadata": {},
   "source": [
    "##### Layout\n",
    "* Intro (Brief)\n",
    "* Explaining how the metric works (Graphics x 3)\n",
    "* Giving an Example play to further explain with an actual play behind it (Nice graphic)\n",
    "* Ranking the Top Players by this new metric (With another table, Nicely made though. Player pictures and everything)\n",
    "* Explaining some nuance behind it (Positon level features with a graphic)\n",
    "* Explaining how the metric works (Graphic)\n",
    "* Results (Showed Team level results in two nice graphics)"
   ]
  },
  {
   "cell_type": "markdown",
   "metadata": {},
   "source": [
    "## Coaching Track Finalists"
   ]
  },
  {
   "cell_type": "markdown",
   "metadata": {},
   "source": [
    "### xPassRush\n",
    "https://www.kaggle.com/code/josephferraiola/xpassrush-identifying-pass-rushers-pre-snap"
   ]
  },
  {
   "cell_type": "markdown",
   "metadata": {},
   "source": [
    "* Right off the bat, this is clearly written by people who know more about football.\n",
    "* They immediately jump into the data and talk about the results of the model (Not in a clear, data way mind you. I still don't understand their percentages)\n",
    "* They use MSE as a metric to show which Defensive schemes are the most unpredictable. Not my first thought, though I don't hate it. It basically just show the teams ranked by how often they blitz though. I think that it is fine the way they use it, because it does appropriately show when players do things that are unexpected compared to a traditional defensive look. Essentially the model learned what a standard 4 man rush or blitz looks like and anything else is throwing the model off. MSE reflects that error.\n",
    "* I don't hate the MSE, but I don't love it either as a method of determining unpredictability. In general, I don't love assigning error rates as a metric\n",
    "* They also literally NEVER touched on what model they used. They mention the inputs, they mention the use case, they have GREAT applicability and even two full fucking write-ups on how a coach/team would use this, but they don't touch on the data hardly at ALL.\n",
    "* I will say, I did like this subimssion a lot, very well written, SUPER obvious they know football, honestly pretty good data science despite never talking about it.\n",
    "* They ran XGboost and actually did a lot of parameter tuning. Good for them"
   ]
  },
  {
   "cell_type": "markdown",
   "metadata": {},
   "source": [
    "#### Layout\n",
    "* Introduction (Flowery)\n",
    "* Showing the results first (Graphic of xPassRush by spot on field)\n",
    "* Explaining the results of the model and the inputs (Graphic of Expected vs Actual Pass Rush Rates)\n",
    "* Using an Example Play to explain the model (Showing some players and their inputs to the model)\n",
    "* Ranking Teams by new metric (Total MSE by team)\n",
    "* Using an Example Play to explain some nuance (Highlighting the Bucs unpredictability)\n",
    "* Ranking some Example players by new metric (PROE and MSE)\n",
    "* Giving two example application reports (Graphics, writeup, very well done)\n",
    "* Write-up by a Coach\n",
    "* Conlusion and next steps (Brief)"
   ]
  },
  {
   "cell_type": "markdown",
   "metadata": {},
   "source": [
    "### Using data to determine Blitz Strategy\n",
    "https://www.kaggle.com/code/dominicborsani/using-data-to-determine-blitz-strategy"
   ]
  },
  {
   "cell_type": "markdown",
   "metadata": {},
   "source": [
    "* Definitely someone who knows football really well\n",
    "* Weirdly, they chose to filter down to plays where the length was greater than or equal to 3 seconds. Not something I would've done.\n",
    "* A bit informal in how they write their submission, but I don't hate it. Just a different vibe.\n",
    "* Discussed the other things they tried like bootstrapping and Kfold\n",
    "* Ultimately used random forest and only changed the mtry parameter\n",
    "* Really not sure why they used the Kappa statistic for their models as opposed to Accuracy, F1, or AUC\n",
    "* Not really complex from a data standpoint at all, but solid stuff from a coaching perspective. Definitely useful for a coach, I could see them really enjoying this concept of center turn predictions. I'm sure they may already have a sense of this, but having an automated version that they can cross-check with the eye test is very helpful."
   ]
  },
  {
   "cell_type": "markdown",
   "metadata": {},
   "source": [
    "##### Layout\n",
    "* Introdution and Inspiration\n",
    "* Explanation of Terminology (Graphics for half-slide and wide box)\n",
    "* Explanation of Data cleaning (Going through what inputs they used and how the filtered)\n",
    "* Explanation of Feature Engineering (Graphic)\n",
    "* Explanation of the Model creation (Graphics for Learning Curves with Kappa)\n",
    "* Example play to further explain (Nice graphic)\n",
    "* Results from the example to dive into the usability with Recommendations (Nice)"
   ]
  },
  {
   "cell_type": "markdown",
   "metadata": {},
   "source": [
    "## Undergraduate Finalists"
   ]
  },
  {
   "cell_type": "markdown",
   "metadata": {},
   "source": [
    "### Between the Lines (Eventual Winners)\n",
    "https://www.kaggle.com/code/hassaaninayatali/between-the-lines-how-do-we-measure-pressure"
   ]
  },
  {
   "cell_type": "markdown",
   "metadata": {},
   "source": [
    "* Explanation of their model\n",
    "    * They first made a model for Continuous Pocket Pressure. Essentually predicting pressure at each frame scaled to 0-1\n",
    "    * Then they made a metric for the OL/DL which is basically the rate of that pressure\n",
    "    * Then they did Surplus analysis as an on/off split for each defensive lineman\n",
    "* I do not really like their approach for the surplus analysis in particular bothers me because I don't like on/off splits in football. There are so many confounding factors in the NFL that using pure on/off is garbage.\n",
    "* Alright, for their first model, I do like it. I also think it's dope that they cited another sports paper from 2018 when discussing their inspiration for this model.\n",
    "* The CPP model is similar to the Japanese Couple with more afterwards. Its a player impact distribution and they get a controlling factor for each area of the field by taking the sum of the teams influence at that spot - the other teams' influence. Neat stuff.\n",
    "    * Honestly, just from that alone, they probably deserved to have won. That is a pretty dope concept, solid data science, hadn't been done in Football yet. Good stuff, even if they were heavily inspired by another paper from soccer.\n",
    "* Their CPP is so cool. Doing a total influence for each set of coordinates and then multiplying it by the QB bivariate normal distribution, then dividing that by the standard QB distro to get a scaled pressure percentage on the QB accounting for total influence of both the trenches is __SUCH__ a cool concept. Fuck man. Its so frustrating how good that idea is.\n",
    "* After all that praise, I gotta trach their choice of proving it's worth a damn. Completion % is not a great choice for determining if the OL did a great job (WR drops anyone?), and also they chose to bin the results in buckets of 0.2 without accounting for the relative size of each bucket. How many plays were in each bucket, it's not hard to have a high average completion percentage when there are only 10 plays in the sample. Also, like mentioned in other submission's notes, defenses respond differently for down and distance. So comp % is especially poor when its 3rd and 15 for example.\n",
    "* I think that their second example is better with hurries, hits, and sacks compared to CPP, but still I don't love the binned approach.\n",
    "* Multiple submissions have used the term \"right-censored\". Interesting to note. Basically it means that the result of the play hasn't occured by the end of the sample time. (A pressure would occur eventually, but the play ended already)\n",
    "* \"Kaplan-Meier estimator\" Fuck these kids. \n",
    "    * To be fair, it's basically just a cumulative average to my understanding\n",
    "* They used Simpson's Integration to get the area under a curve, like it's complicated to have a computer do integration or something.\n",
    "* They definitely get away with putting lots of words on their plots explaining shit. \n",
    "* So when ranking the DL, they choose to only filter to 4 man rushes, noting how there are so many factors at play. Yet earlier, they though to just use comp %. I'm getting overly salty.\n",
    "* Again, they choose to use only 4 man rushes, but are doing an On/Off analysis in the NFL with no regard to when these players are being given a breather. You are also giving them MORE credit for taking more plays off by multiplying by time spent on the sideline. Yeah, I guess it points to overall effectiveness, but I don't love that.\n",
    "* Also doesn't avoid confounders like players coming on and off together. The fact that of the top 10, 5 players come from 2 teams, might point to something. Was it really Suh causing havoc, or was it Shaq Barrett and he happened to play similar snaps to Barrett?\n",
    "* Burn it down, Jerry Tillery is top 3 in this metric. Malik McDowell is above Aaron Fucking Donald. Nope, not having it.\n",
    "* Did not mention any limitations of their model, and given my complaints above, I don't think they know football all that well. Yes, this was easily the most impressive concept attempted for the BDB, and they rightfully deserved to have won, but they should've stopped when they were ahead. Almost everything they did outside of the CPP wasn't really that good and had more complaints than praise for."
   ]
  },
  {
   "cell_type": "markdown",
   "metadata": {},
   "source": [
    "##### Layout\n",
    "* Intro (Brief)\n",
    "* Explanation of the model (High level 3 models)\n",
    "* Brief discussion of data prep (Features Excluded)\n",
    "* Explanation of model 1 (Math and Graphic with math)\n",
    "* Example plays given to explain nuance (Nice graphic)\n",
    "* Trying to prove its worth a damn (Completion % and Pressures vs CPP)\n",
    "* Explanation of model 2 (Math and Graphic with math)\n",
    "* Ranking of Top Teams by new Metric (Don't love first plot, Great second plot)\n",
    "* Explanation of model 3 (Very Brief, no real math)\n",
    "* Ranking of Top Players by new metric (Great plots)\n",
    "* Conclusion (How is this useful and innovative)"
   ]
  },
  {
   "cell_type": "markdown",
   "metadata": {},
   "source": [
    "### Open SPACE\n",
    "https://www.kaggle.com/code/jaysagrolikar/open-space-spatial-survival-probabilities/notebook"
   ]
  },
  {
   "attachments": {
    "Euclidean_Voronoi_diagram.svg.png": {
     "image/png": "[encoded data removed]"
    },
    "Manhattan_Voronoi_Diagram.svg.png": {
     "image/png": "[encoded data removed]"
    }
   },
   "cell_type": "markdown",
   "metadata": {},
   "source": [
    "* Voronoi tessellations?!? </br>\n",
    "\n",
    "![Euclidean_Voronoi_diagram.svg.png](attachment:Euclidean_Voronoi_diagram.svg.png)</br>\n",
    "\n",
    "![Manhattan_Voronoi_Diagram.svg.png](attachment:Manhattan_Voronoi_Diagram.svg.png)</br>\n",
    "\n",
    "* I like their reasoning \"Leeway to view pressures probabilistically and No threshold bias: we do not need to assess pressures in strict terms (i.e., crossing some arbitrary threshold)\"\n",
    "* They used Random Forest\n",
    "* They ran into the same issue as the Winners, which frame was pressure recorded, but they chose to just use the last frame.\n",
    "* They basically just ran a regression model to predict when in the down the pressure was going to happen (one before the last frame) and then used that as their \"Expected Survival Probability\". Pretty simple stuff\n",
    "* They don't really explain the Expected Survivial Probability and Predicted Hazard Rate very well. From what I can tell, the hazard probability is the output of the model, and the Survival Probability is the cumulative product of those hazard probabilities\n",
    "* This isn't very clearly written. There are like 3 models and a lot of overlap and underexplaining\n",
    "* I don't think that the Feature Importance Graph was very useful to include\n",
    "* Also, with their plots of quadrants, they don't flip the x-axis. The top right should always be the best quadrant\n",
    "* I think this is a case where they won because they did solid work overall, but their voroni tessellation stuff was a super cool idea and the viz is pretty. I don't think it was super complicated data science, I don't know how much they know football, and I don't think they explained everything very well. But damn is that viz pretty. "
   ]
  },
  {
   "cell_type": "markdown",
   "metadata": {},
   "source": [
    "##### Layout\n",
    "* Intro (Brief)\n",
    "* Model Explanation (No math really)\n",
    "* Modeling Discussion (Cleaning, Transforming, Features)\n",
    "* Model Explanation (Ehh Graphic)\n",
    "* Model Explanation (Math)\n",
    "* Examples given to explain the model (Pretty Voroni Graphics, VERY well done)\n",
    "* Results (More graphics in different contexts)\n",
    "* Ranking Top players at Different Positions (Poor Graphics and Tables)\n",
    "* Conclusion (Reiterate, Recommendation)\n",
    "* Future work (bullet points) \n"
   ]
  },
  {
   "cell_type": "markdown",
   "metadata": {},
   "source": [
    "## Honorable Mentions"
   ]
  },
  {
   "cell_type": "markdown",
   "metadata": {},
   "source": [
    "### The Shield (Prepare for Salt)\n",
    "https://www.kaggle.com/code/charliesinger/the-shield"
   ]
  },
  {
   "cell_type": "markdown",
   "metadata": {},
   "source": [
    "* Don't quite like their explanation for the introduction. We made this model to analyze the offensive line as a whole... to help Defensive Coordinators?\n",
    "* They just did a line of best fit for their model and tracked how long until either the QB or a defender crossed the line, or it inverted compared to when they threw it.\n",
    "* Admittedly, they say they are going to compare the model against different schemes and defensive fronts. That is something that I didn't do\n",
    "* Bro, they literally put in the quadratic equation in the math section.\n",
    "* To be really snarky: They don't explain why they chose the numbers they did for their math. Why would you want to have the values be squared to further boost the OLE.\n",
    "* This analysis has nothing to do with TTT really. So if you play for Tom Brady and the line holds longer than his TTT, you get a high OLE. Not factoring in the fact that it is easier to block for a QB who throws quickly. \n",
    "* They use Average OLE in different facets to prove that their model has value. I'm not sure you aren't just double counting stuff here. Of course the OLE is going to be worse on a play that ended in a sack. You basically just measured if the OL gets beat.\n",
    "* I disagree with their approach of doing it as a ratio of Time clean/Time to Throw. Again, they talk about it after the fact as a point of \"The longer the QB has to throw the higher the OLE, so it works\" and that's not what you are measuring. A QB throwing it in 1.5s and a QB sitting back there for 3s are very different, but so long as you don't break the curve before the throw, both are graded out as 100%.\n",
    "* Really not sure that there is enough of a difference between man and zone coverage affecting the rush to justify that being your split. I know that being in man vs zone can affect the kinds of coverage you can play, and teams marry the rush and coverage, but I don't think that should've been a variable to split on and show differences in.\n",
    "* They double down on it by showing it vs every kind of coverage. I really don't know that is relevant. You are also glossing over the details that come up like when teams call certain kinds of coverage. Teams usually blitz and or play man more on 3rd down, and depending on the situation the offense might be doing other options to mitigate what a defense might be trying to do. Defenses adjust how aggresive their DL is based on down and distance so I'm just not convinced that is the approach to facet on.\n",
    "* THEY EVEN MENTION THAT THEY NEED TO ACCOUNT FOR QUICKER PASSING TEAMS IN THEIR CONCLUSION\n",
    "* THEY THEN SAY THAT MAYBE WE SHOULD LOOK AT THE AREA UNDER THE PARABOLA. __HMM, WHAT A COOL IDEA, SOMEONE SHOULD DO THAT__\n",
    "\n",
    "\n",
    "* Taking a breath, this was a fine submission. I certainly don't think they did a good job accounting for the complexities of football or making their metric in a way that was applicable for teams in any way. I also think their model was pretty naive and not that complicated with almost no real data science to it. Their writing was also fine and they had a really annoying __bolding going on for like their entire submission. Super annoying.__ \n",
    "* If their idea wasn't just a watered down version of mine, I wouldn't be so salty, though it is definitely not the same level as the other winning submissions"
   ]
  },
  {
   "cell_type": "markdown",
   "metadata": {},
   "source": [
    "##### Layout\n",
    "* Introduction\n",
    "* Explanation of their model (High level with a graphic)\n",
    "* Explanation of Data Prep and Features excluded\n",
    "* Explanation of nuance of model (with graphics)\n",
    "* Discussion of Accuracy (Just the Average OLE for different types of plays: completed pass, incomplete, sack, etc.)\n",
    "* Ranking of Top Teams by new metric (Solid graphic)\n",
    "* Results explaining nuance (Man vs Zone coverage on the backend, Solid Graphics)\n",
    "* Conclusion (Reiterate, Future Directions, Limitations)"
   ]
  },
  {
   "cell_type": "markdown",
   "metadata": {},
   "source": [
    "### Graphical Neural Networks (Love the idea)\n",
    "https://www.kaggle.com/code/s903124/evaluate-pass-block-with-graphical-neural-network"
   ]
  },
  {
   "cell_type": "markdown",
   "metadata": {},
   "source": [
    "* They describe the reason for choosing graphs over Xgboost for example by saying that player positions are position invariant. After looking it up, it means that the model doesn't care of the order of the data. The point is that for an xgboost model, they state that it isn't properly catching the relationship between the players on the field because it doesn't matter what order they show up in. I disagree a little bit. Yes, it probably doesn't catch the direct relationships very well, I don't know how much permutation invariance has to do with it, but it likely does catch some important variables given everyone's success using XGBoost on nfl data. I agree that a graph is MUCH better at catching information about direct relationships between nodes.\n",
    "* They clearly know what they are doing given the amount of information they have about the topic. They talk a lot about how GNNs work and I have not heard of most of these ideas.\n",
    "* One thing that I did like was that when they were describing why they used this model over alternatives is that they brought up other domains it was used in such as recommender systems, social networks, and protein-protein interaction prediction\n",
    "* PyTorch Geometric (Like it seems so fucking easy)\n",
    "* I think that their idea could be really useful for things like PBWR from ESPN for categorizing who is blocking whom. Not that their idea is not working, but this is really cool and seems like it works well.\n",
    "* They don't really explain themselves well regarding why a guard to DT would have a higher pass block probability than a tackle to DE. \n",
    "* They also do another god damn StatOE. I'm getting pretty sick of doing over expected stats. But it's just so EASY\n",
    "* They show Hurry Allowed Over Expected, which would make me think that a negative number is better for the OL, but his color scheme is still red at the negative and green for positive. Also, looking at his classified players, I'm fairly certain his coloring is backwards. Blake Hance is not the best pass blocker and Joel Bitonio being the 5th worst. \n",
    "* I think their rankings graphics are just so weird. I can never really interpret them super easily and I feel like they messed up with the coloring between versions and that confuses me. \n",
    "* I kinda get the sense that they did this very quickly. They only uploaded it 6 times and given the simplicity of their graphics and instances of incorrect coloring, I feel like this was more of a cool idea that they had and threw the rest of the submission together around the core thing that worked and got them an honorable mention (GNN)"
   ]
  },
  {
   "cell_type": "markdown",
   "metadata": {},
   "source": [
    "##### Layout\n",
    "* Introduction (Surgical)\n",
    "* Inspiration (Why they used what they did vs XGboost)\n",
    "* Explaining the model (with a generic GNN graphic x2)\n",
    "* Results Link (Showing the app they made to do link prediction)\n",
    "* Ranking players by new metric (Meh Graphic)\n",
    "* Results Node (Showing the app they made to do node prediction)\n",
    "* Ranking players by new metric (Meh Graphic)\n",
    "* Results Graph (Showing the app they made to do whole graph prediction)\n",
    "* Ranking teams by new metric (Meh Graphic)\n",
    "* Conclusion (How it could be used, Limitations)\n",
    "* Conclusion pt 2 (Reiterate)"
   ]
  },
  {
   "cell_type": "markdown",
   "metadata": {},
   "source": [
    "### Coerce (Prepare for minor salt)\n",
    "https://www.kaggle.com/code/ianasta23/coerce-a-measure-of-early-pass-rush-pressure"
   ]
  },
  {
   "cell_type": "markdown",
   "metadata": {},
   "source": [
    "* I am trying not be salty about the fact that they basically made a metric to say who generated more pressure early in the down. We did that as well and discussed why and got the \"You just picked numbers at random to make your model\". Fuckers\n",
    "* They also just used a log function to downweight as the play went along but theirs is so weirdly written and arguably has more random values thrown in. 1 / (1 + (f / 11.13) ^ 2.14) vs 1 / log26(i). Which is easier to interpret?\n",
    "* Their model is literally just the weighted average of pressure during the play. \n",
    "* They literally pull in data showing that a Quick TTT is 2.5 seconds and most plays happen within 2.5-4 seconds. Then they go ahead and choose 2 seconds for their weighting for basically no reason.\n",
    "* They literally just did the difference of players positions and speed from QB to five closest blockers and rushers as inputs. \n",
    "* They also used XGboost and did train as weeks 1-6 and test as weeks 7-8\n",
    "* They hid their feature importance in the appendix. Smart. They also said that the most important features are distance and speed. No shit.\n",
    "* So doing their XGBoost on a frame level was useful as they got to plot it during the course of a play.\n",
    "* They mention the idea of using different weighting functions in the appendix.\n",
    "* They again bring up the fact that 2.5s is the TTT for a quick throw, but then still stick with 2s for their model. Like, bro its already weighted to factor earlier \n",
    "* I do not like their color choice for the table after their example play for Coerce. Red to green baby\n",
    "* So almost every team's pressure rate was about 0.45, though the coerce rankings span from 0.411 to 0.368. Not a great range, but that is part of my issue with defensive lines in general.\n",
    "* The difference between the actually pressure and the Coerce metrics are really small, especially on the player level. I don't really see the value or application of these metrics.\n",
    "* This feels and the shield feel like the spots we should've claimed as honorable mentions. It feels very similar to ours, just less complex but prettier."
   ]
  },
  {
   "cell_type": "markdown",
   "metadata": {},
   "source": [
    "##### Layout\n",
    "* Introduction (Explaining their fun acronym name)\n",
    "* Explaining their model (Math that looks complicated but is very simple)\n",
    "* Explaining data prep (Normalizing, which frames they considered, which plays they removed)\n",
    "* Explaining the inputs for the model (Boring and not well written)\n",
    "* Explaining their model choice (Why Xgboost, train vs test split, model Loss/AUC)\n",
    "* Example play to explain model (So-so graphic on left, Nice on right)\n",
    "* Explaing some nuance of their model (Weighting function with graphic)\n",
    "* Ranking teams by new metric (Ehh graphic)\n",
    "* Ranking players by new metric (Ehh graphic)\n",
    "* Conclusion (Reiterate, Limiations/Improvements)"
   ]
  },
  {
   "cell_type": "markdown",
   "metadata": {},
   "source": [
    "### Good Rush Bad Blocking\n",
    "https://www.kaggle.com/code/michaelegle/good-rush-bad-blocking"
   ]
  },
  {
   "cell_type": "markdown",
   "metadata": {},
   "source": [
    "* They also referenced the same paper as the winning team regarding space control in soccer (http://www.lukebornn.com/papers/fernandez_ssac_2018.pdf)\n",
    "* Additionally, they reference the paper from Caio with the Lions for his BDB submission (https://caiobrighenti.github.io/nfl-data-bowl.pdf) They were a finalist that year\n",
    "* They basically did what the winning team did. Will be curious to see why they only got honorable mention and not finalist. I can tell as soon as I scrolled down the answer is how pretty it presents as. This viz is rough. \n",
    "* They also only used the convex hull created by the OL for their region of influence. The winning team's use of the QB distro is much better\n",
    "* They also did a bit more simplistic version of the analysis for each individual player. Basically just the difference between the start of the play and the end.\n",
    "* Their choice of blocking assignment is interesting. They basically create the space of all possible connections from each OL to every defender within 5 yards of them and choose the option at the end that has the fewest unblocked players and the lowest total distance. Interesting approach, though seemingly computationally exhaustive, especially for every frame\n",
    "* They again binned out the field control into four groups and then looked at if the play resulted in a complete, incomplete, intercepted pass, scramble or sack. I don't like this approach. Make it a distribution or density plot. How many plays were charted as 0-0.2 of your new metric. I also don't like those buckets as endpoints.\n",
    "* I don't quite get what the positional table is trying to show with its dots. It looks to be a density plot, but why have the individual player dots as well?\n",
    "* Their metric seems weirdly slanted against Tackles. I think their method of measuring control hurts tackles quite a bit for seemingly no reason. It does highlight that tackle is harder than guard, but they never really mention that fact being just saying that Trent Williams is low on this metric.\n",
    "* One part of their analysis that is interesting is the fact that they never account for double teams. They also never touch on if they filtered out plays with TE or RB in for protection. It seems like they filtered them out, but couldn't tell for sure\n",
    "* They touch on how absurdly computationally intensive their approach is. They only did two frames per play and it took them 5 hours per week of data. Their method of determining the blocking assignments is stupid and bad."
   ]
  },
  {
   "cell_type": "markdown",
   "metadata": {},
   "source": [
    "##### Layout\n",
    "* Intro and Inspiriation\n",
    "* Explanation of the model (Poor graphic)\n",
    "* Explanation of the model pt 2 (Poor graphic)\n",
    "* Results (Graphics galore, so-so graphics)\n",
    "* Explaning some nuance of the model (Positional relationship with arguably too big and odd graphic)\n",
    "* Ranking players by new metric (Decent graphic. Player pictures included, but weirdly small numbers and no shading)\n",
    "* Proving the metric is stable (First four vs last four games for OL)\n",
    "* Ranking players by new metric (Decent graphic. Player pictures included, but weirdly small numbers and no shading)\n",
    "* Proving the metric is stable (First four vs last four games for DL)\n",
    "* Conclusion (Limitations, Future work)"
   ]
  },
  {
   "cell_type": "markdown",
   "metadata": {},
   "source": [
    "### OL Blocking Assignment based on Pass Rush Predictor\n",
    "https://www.kaggle.com/code/averyehorvath/pass-rush-predictor-for-blocking-assignments"
   ]
  },
  {
   "cell_type": "markdown",
   "metadata": {},
   "source": [
    "* Very football heavy to start. Jumps right into identifying blitzes\n",
    "* They touch on the features they used and the other things they tried, though they never actually said which model they ended up using\n",
    "* I also don't think that the examples they chose really highlight what they are wanting to show. I don't think either bad example shows the offensive line __not knowing__ someone was going to rush, I think they just sucked at it. The first play was __VON MILLER__. If you aren't planning on him rushing, you're an idiot. The second play shows the RB picking up the blitzer and just sucking at blocking them.\n",
    "* They literally mention that they counted plays where the RB blocks as being considered \"Unblocked\". Like, that is literally part of every team's OL pass pro is to have the RB account for the blitzer. \n",
    "* They touch on chaning the prediction threshold and seeing how that affects things and they show just better results almost across the board. Why didn't you use those numbers for your threshold?\n",
    "* They actually ended up using a Fucking CNN with PyTorch. They literally never mentioned it during their submission and so I figured it was a relatively simple approach, but it was a CNN. Why wouldn't you mention that fact?\n",
    "* Also, their idea was relatively simple. Basically just the predicting blitz percentages, but done slightly less pretty and overall well done as the coaching track one. This was more complex technically speaking, but they didn't lean into that and tried to be really well done football wise, which obviously the team with a coach on it will do better."
   ]
  },
  {
   "cell_type": "markdown",
   "metadata": {},
   "source": [
    "##### Layout\n",
    "* Intro (Example plays diagrammed to show concept of Blitzes)\n",
    "* Model explanation (Very low math, features in and model output)\n",
    "* Example plays given to highlight model (Static, decent though for first two. The animations kick in for the next two.)\n",
    "* Results of the model (Prediction accuracy)\n",
    "* Conclusion (How is this useful: _Brief_)"
   ]
  },
  {
   "cell_type": "markdown",
   "metadata": {},
   "source": [
    "### Causal Impact (2nd Favorite)\n",
    "https://www.kaggle.com/code/benjenkins96/causal-impact-of-offensive-linemen-on-pass-plays"
   ]
  },
  {
   "cell_type": "markdown",
   "metadata": {},
   "source": [
    "* This one touches on Causality. None of the other ones did that. They also trash on StatOE metrics that just attribute player success to the residual. One of us, one of us!\n",
    "* This is very well written towards explaining this concept to someone not terribly familiar with Causal inference\n",
    "* They discuss breifly some of the feature engineering they did, but only in like two sentences.\n",
    "* The only misstep I believe that they made was that they trained the model on completion % as opposed to pressure or something else for the full model. The effect of this is that they are measuring the effect of a lineman allowing pressure on the ability to complete a pass. \n",
    "* The averaged down to a play level metric, though they were still able to plot it on a frame by frame basis. Good stuff\n",
    "* Their example is unfortunately flipped along the x-axis compared to the gif they showed.\n",
    "* They mentioned how they also ran the an XGboost with the same data and got worse results. Not quite sure how they determined it was worse, they didn't really say other than saying the Causal approach gave higher scores to All Pros and Pro Bowlers than Xgboost\n",
    "* They compared their rankings to PFF rankings and used a Spearmans Correlation. It is a way of comparing rankings of things that are not nessecarily linear, unlike Pearsons' correlation\n",
    "* They talk about weighting the variables, which was never mentioned elsewhere, and show that it is well-balanced. What does that mean? Also covariate imbalance. AHH\n",
    "* Weighted ROC curve?"
   ]
  },
  {
   "cell_type": "markdown",
   "metadata": {},
   "source": [
    "##### Layout\n",
    "* Introduction and Inspiration\n",
    "* Explaining their model (Explanations and some math)\n",
    "* Example Plays x3 to explain further (NICE graphics)\n",
    "* Ranking of Players and Teams by new metric (Meh Graphics)\n",
    "* Proving it is worth a damn (Comparisions to Exisiting authorities and showing model ROC and other metrics)\n",
    "* Conclusion (Reiterate, Limitations, Next Steps)"
   ]
  },
  {
   "cell_type": "markdown",
   "metadata": {},
   "source": [
    "### PoP and DEACON\n",
    "https://www.kaggle.com/code/slayerpark/pop-deacon-pressure-impact-on-completion"
   ]
  },
  {
   "cell_type": "markdown",
   "metadata": {},
   "source": [
    "* They also are trying to predict pressures and compare that to completion probability\n",
    "* Interesting that they also made a target prediction model as a quick throwaway for the inputs to the main model.\n",
    "* They mention taking a counterfactual approach often used in causal inference. Basically taking the difference between what they actually did and the average of that position at that point in time\n",
    "* Xgboost, grid search, 5-fold cv.\n",
    "* I think that their feature importance isn't very relevant. Much like ours wasn't.\n",
    "* Referenced Josh Hermsmeyer's article\n",
    "* I don't get why he sorted by Predicted Pressure instead of Pressure over Projected for his graphics.\n",
    "* Solid overall, though I see why it didn't win"
   ]
  },
  {
   "cell_type": "markdown",
   "metadata": {},
   "source": [
    "##### Layout\n",
    "* Intro and Inspiration\n",
    "* Explanation of the model (Big graphics to explain very little math)\n",
    "* Model discussion (Model used, features, Feature importance, Accuracy metrics)\n",
    "* Ranking players by new metrics (Solid Graphics)\n",
    "* Exmaple plays (Decent Graphics over the course of the play)\n",
    "* Conclusions (Reiterate, next steps)"
   ]
  },
  {
   "cell_type": "markdown",
   "metadata": {},
   "source": [
    "### Pass Set Kick Speed\n",
    "https://www.kaggle.com/code/morganmartin23/nfl-data-bowl-2023-initial-pass-set-kick-speed"
   ]
  },
  {
   "cell_type": "markdown",
   "metadata": {},
   "source": [
    "* They basically just measured the speed and acceleration of OT's within 0.5s of the snap. Like, what?\n",
    "* I don't like their 90th percentile version. They basically just took the top 90th percentile plays and averaged those after their mean play was already taking the average. It's whatever\n",
    "* They basically just graphed one vs the other. Given that they were basically the same thing anyway, no shit they are highly correlated\n",
    "* They then charted pressure rate allowed by mean kick speed. It has about a typical football correlation, though they didn't even share the r^2, so sure I guess it's correlated.\n",
    "* They also dunk on RTs by showing them being slower and give more pressure than the LT\n",
    "* They then included a plot with absolutely no information about what the axes were or the title or anything. Just a fucking boxplot\n",
    "* Dude, they shared R^2, p-value, and std error with like 15 decimal points. \n",
    "* I feel like the only reason this submission got an honorable mention is because they did something somewhat unique. Almost all of the submissions tried to predict pressure on the QB, best or worst OL/DL from pressure rates, blitz predictors, etc. This one at least tried taking a different approach. "
   ]
  },
  {
   "cell_type": "markdown",
   "metadata": {},
   "source": [
    "##### Layout\n",
    "* Intro \n",
    "* Data prep\n",
    "* Example Plays (Meh Graphics with nice UI. A start pause button you say?)\n",
    "* Ranking top Players by new metric (Boring table)\n",
    "* Trying to prove it's worth a damn (Boring plots)\n",
    "* Conclusion (They basically trash their own model right at the end saying that basically nothing they did was statistically significant)"
   ]
  },
  {
   "cell_type": "markdown",
   "metadata": {},
   "source": [
    "### Hack a Sack \n",
    "##### (By my mortal enemies from the University of Michigan)\n",
    "https://www.kaggle.com/code/tejseth/hack-a-sack/"
   ]
  },
  {
   "cell_type": "markdown",
   "metadata": {},
   "source": [
    "* You can tell these folks are much more aligned with the idea of putting together data analytics plots with football. They put the rate of the each type of pressure vs EPA as their first plot in the intro.\n",
    "* They also created a predicted pressure type model. They used sacks instead, and also made a dashboard\n",
    "* XGBoost yet again\n",
    "* They were one of the few teams to put feature importance in their submission. I have come around to not seeing its importance in the submission. You can just say which features are the most important.\n",
    "* Also, for almost all of these projects, people calculated a distance to the QB metric and no shit that is the most correlated with pressures and sacks.\n",
    "* They mention the brier score which is literally just the fucking MSE but specifically for probabilities\n",
    "* Their model is kinda garbage because the data is so zero-biased. (Most plays aren't sacks) so their predictions are like never higher than 2-3 sacks for a player.\n",
    "* Their model does have a decent correlation in football terms to actual sacks per snap, but not a ton\n",
    "* Also, their model was not very stable from first half to second half of the season, essentially showing that sacks are very noisy, though they don't address that fact here.\n",
    "* So far, very disappointed in their submission. The dashboard is why they got an honorable mention because so far, pretty weak viz, concept, and data science.\n",
    "* Not to be too snarky, but I also wonder if their relative fame within the NFL data science community got them a boost in their rankings as more folks might have seen theirs or know of their work already. \n",
    "* They literally got support from two high up data people from Sumer sports, and an actual NFL analytics member and this is the best they could do? Also to my point of their relative fame within the community."
   ]
  },
  {
   "cell_type": "markdown",
   "metadata": {},
   "source": [
    "##### Layout\n",
    "* Intro \n",
    "* Data prep and model introduction (What data they used and how they set it up, feature engineering)\n",
    "* Feature importance  \n",
    "* Trying to prove its worth a damn (Fine plot, but don't really see its need, followed by one showing it isn't very effective)\n",
    "* Ranking players by new metric (Another god damn StatOE metric with a solid graphic)\n",
    "* Trying to prove its worth a damn (whatever)\n",
    "* Ranking teams by new metric (Classic quadrant plot)\n",
    "* Discussion of their dashboard (Cool idea, also not terribly well done imo. Very clunky UI)\n",
    "* Conclusion (Reiterate, limitations, saying it would be better with more data)"
   ]
  },
  {
   "cell_type": "markdown",
   "metadata": {},
   "source": [
    "## Consistent Trends"
   ]
  },
  {
   "cell_type": "markdown",
   "metadata": {},
   "source": [
    "* Usually very **_pretty data viz_**. People are suckers for things that look pretty\n",
    "* For the coaching side, it really seems like coaching applicability is the main key. It doesn't have to be complicated data science, just applicable and knowledgable about the game\n",
    "* There is a pretty similar format for the finalists, which we should try and adopt\n",
    "* Most of the finalists tend to stick with one model and really dive into it and explain it well\n",
    "    * Though some of the finalists did also do a lot of models and sometimes not explain it as well. They did usually through a lot of data science jargon and math at the reader so that might be what one them over. Not likely to be our tactic. \n",
    "* You also don't have to go super in depth about how the model performed or proving that the model is worth a damn. You can kinda just make a model and say \"Here it is, isn't it cool\".\n",
    "* I think having more \"Data Science-y\" and math is going to win over the judges for the metric track.\n",
    "* Applicability is completely useless for the main track. There is no real way to use these winning metrics, they are just cool.\n",
    "* Putting lots of words on your graphics and having lots of graphics in one picture is a solid way to cheat the cutoffs.\n",
    "* Having One __REALLY COOL__ concept in your submission is probably the way to go. If you hit on a really inventive and cool concept that is somewhat technical or interesting, you've probably landed a finalist spot\n",
    "*  Most of the top submissions didn't really touch on data cleaning or prep unless they did something very specific that is relevant to their model. (Dropping Play action, converting data to a different format, etc)\n",
    "* Doing the modeling on a __Frame Level__ is probably better than on a __play level__, since you get to plot something occuring during the course of the play.\n",
    "* A __Lot__ of the winning submissions had a plot of the players values chaning over the course of the play\n",
    "* They don't like when you arbitrarily choose something. Have as much stuff as you can be decided from the data"
   ]
  },
  {
   "cell_type": "markdown",
   "metadata": {},
   "source": [
    "# Issues with Our Submission"
   ]
  },
  {
   "cell_type": "markdown",
   "metadata": {},
   "source": [
    "Actual Feedback from Big Data Bowl\n",
    "* The project focus is stated clearly in the introduction.\n",
    "* The visualizations/animations were very well done\n",
    "* The metric is somewhat arbitrarily created and it had a limited link EPA.\n",
    "* It is unclear why it was important to attempt to use ML models to predict PoQIT using other columns – what does that add if you can calculate it exactly?\n",
    "* It was hard to contextualize the RMSE when it is unclear what the typical PoQIT values are."
   ]
  },
  {
   "cell_type": "markdown",
   "metadata": {},
   "source": [
    "Personal Observations\n",
    "* We didn't explain the math very well for either the intermediate steps or the full PoQIT calculation\n",
    "* The values we pull for different metrics like 3s or 2.5s for the dropoff aren't explained\n",
    "* The plots aren't directly related to what was discussed in the text, and therefore aren't explained very well\n",
    "* Comparison to EPA wasn't very clear or definitive\n",
    "* We ran our Models and shared the RSME, but didn't touch on if it was good or not.\n",
    "    * Not a lot of people shared the RSME for their models\n",
    "    * Also, the models weren't really clear as to why we ran them.\n",
    "* Not to be salty, but my quick Network Analysis was essentially the STRAIN paper done as a side project.\n",
    "* You could argue that it isn't terribly actionable. We essentially just show the top and bottom 5 teams by PoQIT.\n",
    "    * Counterpoint is that we did break down the feature importance to show how to increase/decrease the PoQIT and even wrote them out as prescriptive analytics.\n",
    "    * Also, it's not like STRAIN is terribly actionable. It basically just says who was good.\n",
    "* Side note: Most folks __Bolded the text for when you first introduce the metric__.\n",
    "* Steal the viz stuff from people that in the winners groups. They had really good animations and would help spruce up our submission\n",
    "* Really wondering if we should push to be in the coaches track for next year if possible. Seems like the data side of the competition is WAYY less competitive. Maybe Anthony's HS or College Coach? Maybe we cold call some coaches, idk.\n",
    "* We did do ours on a frame level for the model, then we aggregated it for the game and season level for the rest of the submission. I think being able to do a plot of the players most impactful on the poqit metric would've been nice. A __LOT__ of the winning submissions had a plot that was basically a plot of different players numbers changing over the course of the play.\n",
    "* "
   ]
  },
  {
   "cell_type": "markdown",
   "metadata": {},
   "source": [
    "##### Layout\n",
    "###### Indented means that We did something that others didn't often do\n",
    "* Intro (A little flowery)</br>\n",
    "\n",
    "* Explaining how they came to this approach (Inspiration) </br>\n",
    "    __Short for us__ </br>\n",
    "    </br>\n",
    "* Explaining how the metric works (Math and graphics with the math) </br>\n",
    "    __Not Done terribly well or clear, but also not complex__</br>\n",
    "    </br>\n",
    "* Giving two Example plays just to show them (Nice graphic)</br>\n",
    "\n",
    "    * Trying to prove its worth a damn (Comparision to EPA) </br>\n",
    "        __Didn't really work, most didn't do this__</br>\n",
    "        </br>\n",
    "    * Model selection and feature importance (Both XGBoost and BART) </br>\n",
    "        __Most folks didn't do multiple models, though could touch on it in text__</br>\n",
    "        </br>\n",
    "* Explaining some Nuance of it (Counter intuitive results explanation)</br>\n",
    "\n",
    "    * Another model thrown in there briefly (Network theory)</br>\n",
    "         __Kinda out of the blue__</br>\n",
    "         </br>\n",
    "* Ranking the Top ~~Players~~ *Teams* by this new metric (With table)</br>\n",
    "     __Also probably had too many columns (Things that aren't new metric)__</br>\n",
    "     </br>\n",
    "    * Recommendations from the data (Prescriptive Analytics)</br>\n",
    "         __Most folks didn't do this__</br>\n",
    "         </br>\n",
    "* Discussion Section (~~Reiterate~~, What to do next, ~~limitations of model~~) </br>\n",
    "    __Though we did discuss the limitations along the way__"
   ]
  }
 ],
 "metadata": {
  "language_info": {
   "name": "python"
  },
  "orig_nbformat": 4
 },
 "nbformat": 4,
 "nbformat_minor": 2
}
