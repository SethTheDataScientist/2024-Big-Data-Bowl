{
 "cells": [
  {
   "cell_type": "markdown",
   "metadata": {},
   "source": [
    "# Big Data Bowl 2024 Ideas"
   ]
  },
  {
   "cell_type": "markdown",
   "metadata": {},
   "source": [
    "### Previous Topics"
   ]
  },
  {
   "cell_type": "markdown",
   "metadata": {},
   "source": [
    "* Secondary Competition: NFL Health and Safety\n",
    "    * Punt safety\n",
    "    * Helmet Assignment from video footage\n",
    "    * Detect Helmet Impacts from video footage\n",
    "    * Detect Player contact from video and sensor data\n",
    "    * Playing surface and injury rate\n",
    "* 2019\n",
    "    * Officiating\n",
    "    * Fatigue\n",
    "    * Route Combinations\n",
    "* 2020\n",
    "    * Predict the rushing yards on a play\n",
    "        * It also seemed like they brought some of the top people into speak based on how cool it was and not by the leaderboard. The leaderboard is how they won the money, but the people that got finalists and got to go to Indy were just based on judges I think\n",
    "* 2021\n",
    "    * Defensive performance on Passing Plays\n",
    "* 2022\n",
    "    * Special Teams\n",
    "* 2023\n",
    "    * Offensive and defensive Lines"
   ]
  },
  {
   "cell_type": "markdown",
   "metadata": {},
   "source": [
    "### Ideas for what the project could do about"
   ]
  },
  {
   "cell_type": "markdown",
   "metadata": {},
   "source": [
    "* Trench Play for Running Plays\n",
    "    * Maybe too similar to the rushing year, though they asked specifically for predicting rushing yards that year\n",
    "* Something about Tight Ends specifically\n",
    "    * It is a position that largely goes ignored in previous BDB analyses\n",
    "* Something about Quarterbacks specifically\n",
    "    * They have done the pieces all around QB, and the QB is usually pretty involved in the analysis anyways\n",
    "* Something about Linebackers Specifically\n",
    "    * Similar to TE, though there is already a published paper that touches on LB biting up in Play Action, so may be too influential to the idea for LB\n",
    "* They could just give open reign to any idea and say here is the data, do with it what you will\n",
    "* They could reuse a previous year's topic and say do something else with it\n",
    "* They may focus on a different part of the analysis and ask for something relating to a facet of the tracking data, as opposed to the position groups. \n",
    "    * Do something using the orientation of the players, regardless of position\n",
    "    * Do something using acceleration, speed, coordinates, etc\n",
    "* Penalties and officiating\n",
    "* Are there attributes about a player that lead to success in a certain metric\n",
    "* Timeouts and Challenges?\n",
    "* "
   ]
  },
  {
   "cell_type": "markdown",
   "metadata": {},
   "source": [
    "##### Things they probably couldn't do\n",
    "* Health and Safety analysis?\n",
    "    * Not sure if there is injury data on this, or if the NFL wants to publish data on it and have an open competition where people will make an xgboost model tell when someone is going to get hurt. People would likely put example plays and I don't think they want people putting injury clips in a submission.\n",
    "    * Plus, there is a whole other competition that is just focused on NFL health and safety\n",
    "* Field Goals\n",
    "    * There isn't enough moving pieces on a field goal play, not to mention the reduced sample space. I guess you could try saying predict fake field goals, or sound special teams coverage, but not a ton there imo. \n",
    "    * Not enough tracking data in the ball to do much more than has already been done.\n",
    "        * Good from, closest to center, average flight of the ball, etc\n",
    "* Uniqueness of scheme\n",
    "    * Issues with this idea stem from the football people saying that you can't possibly know the scheme of every team on every play, plus it is probably not going to be very accurate across the board. Almost feels more like a thing you could do based on the topic, not a topic in and of itself\n",
    "*"
   ]
  },
  {
   "cell_type": "markdown",
   "metadata": {},
   "source": [
    "### Ideas for what we could do with it"
   ]
  },
  {
   "cell_type": "markdown",
   "metadata": {},
   "source": [
    "* Gravity: A metric that aims to quantify how much impact a specific player has on the opposing team's unit as a whole. How much gravity does Myles Garett have on the Offensive line's pass protection scheme. How much gravity does Justin Jefferson have on the opposing coverage calls.\n",
    "    * Unsure of how best to do this, am currently thinking that the player impact distribution would be neat. Could then do what the winning submission did with each player having their own region that is multiplied by everyone else. See how much  closer everyone else's impact is to Garett's impact zone over time.\n",
    "    * Could also so something with just raw acceleration towards the player. \n",
    "    * What is the orientation change in the direction of the player.\n",
    "    * Use the actual equation for gravity: F = G * ((m1 * m2)/r^2)\n",
    "    * Use the equation for potential energy for gravity Delta Enegry = Mass * G * delta Height. In our case it would be mass of all the players, delta distance covered per frame, times some constant. Not quite sold on this idea, but I think it would do the work of being able to sum across all the players and see if they were moving closer or further away from you.\n",
    "    * An issue with both of the above formulas is that the player in question is not staying stationary. They are also moving, so it is hard to determine how much value they should get credit for with their gravity given that they also moved. You would have to normalize the starting points or something. Do a basic model and get the average path for each rush and compare distances moved off that basic path.\n",
    "    * I like that last point a lot. Create a model for the average path of each position's path during a play and get credit for how much you moved them off of their spot during the course of the play. You would also get penalized based on how far off the average path you were so you couldn't just get credit for running a really wide or narrow arc for example.\n",
    "* Leverage: The low man wins\n",
    "    * No idea how I would use this\n",
    "* Crystals and Atomic Packing Factor: How closely packed together are the players if they have a radius of influence.\n",
    "    * https://en.wikipedia.org/wiki/Atomic_packing_factor\n",
    "    * How many radii of influence could you fit on a field of play as the number of atoms, the volume is simply the area of a cirle with that radius, and the denominator is simply the area of the playable field. \n",
    "* Causal Inference\n",
    "    * __Big Picture Stuff__: For any covariates in the system that can affect the measured outcome (directly or indirectly), you have to be sure that your treatment + control groups have the same amount of these covariates (other columns values being as similar as possible).\n",
    "    * Association: Classic Analysis and Correlations\n",
    "    * Intervention: If we do X, what will happen? \n",
    "    * The Meta-learner framework allows us to use ANY arbitrarily complex ML model in the same simple way to measure the treatment effect. S, T and X learners allow us to translate any Machine Learning model into a Causal Inference machine."
   ]
  },
  {
   "cell_type": "markdown",
   "metadata": {},
   "source": [
    "### Resources to pull from"
   ]
  },
  {
   "cell_type": "markdown",
   "metadata": {},
   "source": [
    "* Previous Big Data Bowl Winners\n",
    "    * Caio (2020) Impact Control: https://caiobrighenti.github.io/nfl-data-bowl.pdf\n",
    "    * CLIPP (2023) Causal Inference: https://www.kaggle.com/code/benjenkins96/causal-impact-of-offensive-linemen-on-pass-plays\n",
    "    * GNN (2023) Graphical Neural Network : https://www.kaggle.com/code/s903124/evaluate-pass-block-with-graphical-neural-network\n",
    "    * Voroni Tesselations (2023) : https://www.kaggle.com/code/jaysagrolikar/open-space-spatial-survival-probabilities/notebook\n",
    "    * Math to find the Path : https://www.kaggle.com/code/robynritchie/punt-returns-using-the-math-to-find-the-path\n",
    "\n",
    "* Other Academic Papers\n",
    "    * MIT Sloan Conference Impact Control: http://www.lukebornn.com/papers/fernandez_ssac_2018.pdf\n",
    "    * CMU Sports Conference (Network theory for coaching hires, hockey impact zone/shot creation, etc)\n",
    "    * Pass Sonar :  https://github.com/etmckinley/PassSonar\n",
    "    * Causal Inference: https://towardsdatascience.com/a-complete-guide-to-causal-inference-8d5aaca68a47\n",
    "    \n",
    "* Other Domains\n",
    "    * Wikipedia about materials property for strain\n",
    "    \n",
    "\n",
    "* Techniques\n",
    "    * Voroni (Weighted Variant)\n",
    "    * Player Impact Distributions\n",
    "    * Cox Proportional Hazard\n",
    "    * Causal Inference\n",
    "    * Neural Networks\n",
    "    * Graph Theory\n",
    "    * Clustering\n",
    "    * Computer Vision\n",
    "    * Sonar\n",
    "    * A* Algorithm\n",
    "        * Frechet Path Deviation\n",
    "\n",
    "    * From ChatGPT\n",
    "        * Kriging: Use geostatistical methods like kriging to estimate values at unobserved locations based on nearby point data.\n",
    "        * Inverse Distance Weighting : Interpolate values at unobserved locations using the weighted average of nearby points.\n",
    "        * Moran's I: Evaluate spatial autocorrelation to understand if similar values are clustered together or dispersed."
   ]
  }
 ],
 "metadata": {
  "language_info": {
   "name": "python"
  },
  "orig_nbformat": 4
 },
 "nbformat": 4,
 "nbformat_minor": 2
}
